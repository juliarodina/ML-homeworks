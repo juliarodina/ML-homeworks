{
 "cells": [
  {
   "cell_type": "markdown",
   "metadata": {
    "colab_type": "text",
    "id": "E7ME-ag0hoDA"
   },
   "source": [
    "# Данные"
   ]
  },
  {
   "cell_type": "code",
   "execution_count": 1,
   "metadata": {
    "colab": {
     "base_uri": "https://localhost:8080/",
     "height": 206
    },
    "colab_type": "code",
    "id": "qxZMU8CBK664",
    "outputId": "ad5442ea-27c3-4357-8ab9-6249143c49ed"
   },
   "outputs": [
    {
     "data": {
      "text/html": [
       "<div>\n",
       "<style>\n",
       "    .dataframe thead tr:only-child th {\n",
       "        text-align: right;\n",
       "    }\n",
       "\n",
       "    .dataframe thead th {\n",
       "        text-align: left;\n",
       "    }\n",
       "\n",
       "    .dataframe tbody tr th {\n",
       "        vertical-align: top;\n",
       "    }\n",
       "</style>\n",
       "<table border=\"1\" class=\"dataframe\">\n",
       "  <thead>\n",
       "    <tr style=\"text-align: right;\">\n",
       "      <th></th>\n",
       "      <th>text</th>\n",
       "      <th>source</th>\n",
       "    </tr>\n",
       "  </thead>\n",
       "  <tbody>\n",
       "    <tr>\n",
       "      <th>0</th>\n",
       "      <td>Начальник Главного оперативного управления Ген...</td>\n",
       "      <td>mil</td>\n",
       "    </tr>\n",
       "    <tr>\n",
       "      <th>1</th>\n",
       "      <td>Артиллерийские подразделения общевойскового об...</td>\n",
       "      <td>mil</td>\n",
       "    </tr>\n",
       "    <tr>\n",
       "      <th>2</th>\n",
       "      <td>Подразделения морской пехоты Каспийской флотил...</td>\n",
       "      <td>mil</td>\n",
       "    </tr>\n",
       "    <tr>\n",
       "      <th>3</th>\n",
       "      <td>Команды на всеармейских этапах конкурсов АрМИ-...</td>\n",
       "      <td>mil</td>\n",
       "    </tr>\n",
       "    <tr>\n",
       "      <th>4</th>\n",
       "      <td>На большом учебно-методическом командирском сб...</td>\n",
       "      <td>mil</td>\n",
       "    </tr>\n",
       "  </tbody>\n",
       "</table>\n",
       "</div>"
      ],
      "text/plain": [
       "                                                text source\n",
       "0  Начальник Главного оперативного управления Ген...    mil\n",
       "1  Артиллерийские подразделения общевойскового об...    mil\n",
       "2  Подразделения морской пехоты Каспийской флотил...    mil\n",
       "3  Команды на всеармейских этапах конкурсов АрМИ-...    mil\n",
       "4  На большом учебно-методическом командирском сб...    mil"
      ]
     },
     "execution_count": 1,
     "metadata": {},
     "output_type": "execute_result"
    }
   ],
   "source": [
    "import pandas as pd\n",
    "df = pd.read_csv('vk_texts_with_sources.csv', usecols = ['text', 'source'])\n",
    "df.head()"
   ]
  },
  {
   "cell_type": "markdown",
   "metadata": {
    "colab_type": "text",
    "id": "dYNCAr17MFA3"
   },
   "source": [
    "# Домашнее задание 1 \n",
    "\n",
    "В этом домашнем задании вы будете решать задачу тематической классификации. Даны тексты, опубликованные в нескольких пабликах VK.com, посвященных государственным и муниципальным службам. Формально задача заключается в том, чтобы по тексту ($d$) определить в каком паблике он опубликован, то есть, к какому классу $c$ он принадлежит. "
   ]
  },
  {
   "cell_type": "code",
   "execution_count": 2,
   "metadata": {},
   "outputs": [
    {
     "name": "stderr",
     "output_type": "stream",
     "text": [
      "c:\\python35\\lib\\site-packages\\scipy\\sparse\\sparsetools.py:21: DeprecationWarning: `scipy.sparse.sparsetools` is deprecated!\n",
      "scipy.sparse.sparsetools is a private module for scipy.sparse, and should not be used.\n",
      "  _deprecated()\n"
     ]
    }
   ],
   "source": [
    "from os import path\n",
    "from string import punctuation\n",
    "from collections import Counter, defaultdict\n",
    "from pymorphy2 import MorphAnalyzer\n",
    "from nltk.corpus import stopwords\n",
    "from scipy import sparse\n",
    "import numpy as np\n",
    "import fasttext as ft\n",
    "\n",
    "import matplotlib.pyplot as plt\n",
    "import seaborn as sns\n",
    "import pyLDAvis.gensim as gensimvis\n",
    "import pyLDAvis\n",
    "\n",
    "from sklearn.utils import shuffle\n",
    "from sklearn.model_selection import train_test_split\n",
    "from sklearn.pipeline import Pipeline\n",
    "from sklearn.manifold import TSNE\n",
    "from sklearn.preprocessing import Normalizer, StandardScaler\n",
    "from sklearn.metrics import accuracy_score, classification_report, confusion_matrix\n",
    "from sklearn.feature_extraction.text import CountVectorizer, TfidfTransformer, TfidfVectorizer\n",
    "from sklearn.decomposition import TruncatedSVD\n",
    "from sklearn.linear_model import SGDClassifier\n",
    "from sklearn.ensemble import GradientBoostingClassifier\n",
    "\n",
    "from gensim.corpora import *\n",
    "from gensim.models import  *\n",
    "#from gensim.models import Doc2Vec\n",
    "#from gensim.models import Word2Vec\n",
    "#from gensim.models import KeyedVectors\n",
    "from gensim.models.doc2vec import TaggedDocument\n",
    "from gensim.test.test_doc2vec import ConcatenatedDoc2Vec"
   ]
  },
  {
   "cell_type": "markdown",
   "metadata": {
    "colab_type": "text",
    "id": "e2EnN-U7MemU"
   },
   "source": [
    "## Задание 1 [2 балла]. Описательные статистики\n",
    "Посчитайте:\n",
    "* количество текстов и количество классов\n",
    "* количество слов (без лемматизации и с лемматизацией) в коллекции\n",
    "* среднюю длину текста в словах и символах\n",
    "* найдите 5 самых частых существительных в текстах каждого паблика \n",
    "\n",
    "*Рекомендуем использовать pandas для расчета описательных статистик.*"
   ]
  },
  {
   "cell_type": "markdown",
   "metadata": {
    "colab_type": "text",
    "id": "fTJPlulvQSqQ"
   },
   "source": [
    "Разделите коллекцию текстов на обучающую и тестовую части. "
   ]
  },
  {
   "cell_type": "code",
   "execution_count": 3,
   "metadata": {
    "scrolled": true
   },
   "outputs": [],
   "source": [
    "df = df.dropna() #удаляем NaN\n",
    "df = df.reset_index(drop=True) #переназначаем индексы"
   ]
  },
  {
   "cell_type": "code",
   "execution_count": 4,
   "metadata": {},
   "outputs": [
    {
     "data": {
      "text/plain": [
       "11526"
      ]
     },
     "execution_count": 4,
     "metadata": {},
     "output_type": "execute_result"
    }
   ],
   "source": [
    "texts = len(df) #длина датафрейма = кол-во текстов\n",
    "texts"
   ]
  },
  {
   "cell_type": "code",
   "execution_count": 5,
   "metadata": {},
   "outputs": [
    {
     "data": {
      "text/plain": [
       "4"
      ]
     },
     "execution_count": 5,
     "metadata": {},
     "output_type": "execute_result"
    }
   ],
   "source": [
    "classes = len(df.source.unique()) #число уникальных значений в столбце source = кол-во классов\n",
    "classes"
   ]
  },
  {
   "cell_type": "code",
   "execution_count": 6,
   "metadata": {},
   "outputs": [
    {
     "data": {
      "text/plain": [
       "981499"
      ]
     },
     "execution_count": 6,
     "metadata": {},
     "output_type": "execute_result"
    }
   ],
   "source": [
    "#делим строки по пробелам и суммируем токены, суммируем эти значения = кол-во слов\n",
    "words = sum(df['text'].str.split().str.len())\n",
    "words"
   ]
  },
  {
   "cell_type": "code",
   "execution_count": 7,
   "metadata": {},
   "outputs": [
    {
     "data": {
      "text/plain": [
       "131279"
      ]
     },
     "execution_count": 7,
     "metadata": {},
     "output_type": "execute_result"
    }
   ],
   "source": [
    "#из них уникальных слов\n",
    "words_unique = set()\n",
    "df['text'].str.lower().str.split().apply(words_unique.update)\n",
    "len(words_unique)"
   ]
  },
  {
   "cell_type": "code",
   "execution_count": 4,
   "metadata": {},
   "outputs": [],
   "source": [
    "#решила помимо лемматизации сразу сделать предобработку:\n",
    "#удаляем пунктуацию, приводим к нижнему регистру, удаляем стоп слова, приводим слова к нормальной форме, убираем тег\n",
    "\n",
    "morph = MorphAnalyzer()\n",
    "punct = punctuation+'«»—…“”*№#–<>'\n",
    "stops = set(stopwords.words('russian'))\n",
    "\n",
    "def normalize(text):\n",
    "    \n",
    "    words = [word.strip(punct) for word in str(text).lower().split()]\n",
    "    words = [morph.parse(word)[0] for word in words if word and word not in stops]\n",
    "    words = [word.normal_form for word in words]\n",
    "    words = [word.replace('br','') for word in words]\n",
    "\n",
    "    return words"
   ]
  },
  {
   "cell_type": "code",
   "execution_count": 5,
   "metadata": {},
   "outputs": [],
   "source": [
    "df['text_norm'] = df['text'].apply(normalize)"
   ]
  },
  {
   "cell_type": "code",
   "execution_count": 6,
   "metadata": {},
   "outputs": [
    {
     "data": {
      "text/plain": [
       "0    начальник главный оперативный управление генер...\n",
       "1    артиллерийский подразделение общевойсковой объ...\n",
       "2    подразделение морской пехота каспийский флотил...\n",
       "3    команда всеармейский этап конкурс арми-2018 та...\n",
       "4    большой учебно-методический командирский сбор ...\n",
       "5    моряк отряд корабль тихоокеанский флот состав ...\n",
       "6    военнослужащие–женщина бронеавтомобиль продемо...\n",
       "7    один старый аэродром европа девау калининградс...\n",
       "8    баренцев мор начаться учение разнородный сила ...\n",
       "9    экипаж самолёт морской авиация черноморский фл...\n",
       "Name: text_norm, dtype: object"
      ]
     },
     "execution_count": 6,
     "metadata": {},
     "output_type": "execute_result"
    }
   ],
   "source": [
    "df['text_norm'] = df['text_norm'].apply(' '.join)\n",
    "df['text_norm'].head(10)"
   ]
  },
  {
   "cell_type": "code",
   "execution_count": 11,
   "metadata": {},
   "outputs": [
    {
     "data": {
      "text/plain": [
       "763859"
      ]
     },
     "execution_count": 11,
     "metadata": {},
     "output_type": "execute_result"
    }
   ],
   "source": [
    "#кол-во слов после препроцессинга\n",
    "words_norm = sum(df['text_norm'].str.split().str.len())\n",
    "words_norm"
   ]
  },
  {
   "cell_type": "code",
   "execution_count": 12,
   "metadata": {},
   "outputs": [
    {
     "data": {
      "text/plain": [
       "52461"
      ]
     },
     "execution_count": 12,
     "metadata": {},
     "output_type": "execute_result"
    }
   ],
   "source": [
    "#уникальных слов\n",
    "words_norm_unique = set()\n",
    "df['text_norm'].str.lower().str.split().apply(words_norm_unique.update)\n",
    "len(words_norm_unique)"
   ]
  },
  {
   "cell_type": "code",
   "execution_count": 13,
   "metadata": {},
   "outputs": [
    {
     "data": {
      "text/plain": [
       "85"
      ]
     },
     "execution_count": 13,
     "metadata": {},
     "output_type": "execute_result"
    }
   ],
   "source": [
    "#средняя длина текста в словах\n",
    "mean_words = words/texts\n",
    "int(mean_words)"
   ]
  },
  {
   "cell_type": "code",
   "execution_count": 14,
   "metadata": {},
   "outputs": [
    {
     "data": {
      "text/plain": [
       "690"
      ]
     },
     "execution_count": 14,
     "metadata": {},
     "output_type": "execute_result"
    }
   ],
   "source": [
    "#средняя длина в символах\n",
    "chars = sum(df['text'].str.len())\n",
    "mean_chars = chars/texts\n",
    "int(mean_chars)"
   ]
  },
  {
   "cell_type": "code",
   "execution_count": 15,
   "metadata": {},
   "outputs": [
    {
     "data": {
      "text/plain": [
       "[('россия', 9423),\n",
       " ('год', 9039),\n",
       " ('полиция', 5929),\n",
       " ('москва', 5048),\n",
       " ('который', 4318),\n",
       " ('мвд', 4047)]"
      ]
     },
     "execution_count": 15,
     "metadata": {},
     "output_type": "execute_result"
    }
   ],
   "source": [
    "#5 наиболее частотных слов по всей коллекции (не считая \"который\")\n",
    "Counter(' '.join(df['text_norm']).split()).most_common(6) "
   ]
  },
  {
   "cell_type": "code",
   "execution_count": 16,
   "metadata": {},
   "outputs": [
    {
     "data": {
      "text/plain": [
       "mchsgov        3024\n",
       "mil            3017\n",
       "mospolice      2854\n",
       "russianpost    2631\n",
       "Name: source, dtype: int64"
      ]
     },
     "execution_count": 16,
     "metadata": {},
     "output_type": "execute_result"
    }
   ],
   "source": [
    "#какие есть классы и как распределены\n",
    "df['source'].value_counts()"
   ]
  },
  {
   "cell_type": "code",
   "execution_count": 17,
   "metadata": {},
   "outputs": [],
   "source": [
    "#добавляем к нормализации условие про часть речи, еще заменила штуку, которая не убралась на предыдущих шагах\n",
    "def postagging(text):\n",
    "    \n",
    "    words = [word.strip(punct) for word in text.lower().split()]\n",
    "    words = [morph.parse(word)[0] for word in words if word and word not in stops]\n",
    "    words = [word.normal_form for word in words if word.tag.POS == 'NOUN']\n",
    "    words = [word.replace('br','') for word in words]\n",
    "    words = [word.replace('>#', '') for word in words] \n",
    "    \n",
    "    return words"
   ]
  },
  {
   "cell_type": "code",
   "execution_count": 18,
   "metadata": {},
   "outputs": [],
   "source": [
    "#оставляем только существительные\n",
    "df['text_nouns'] = df['text'].apply(postagging)"
   ]
  },
  {
   "cell_type": "code",
   "execution_count": 19,
   "metadata": {},
   "outputs": [
    {
     "data": {
      "text/plain": [
       "0    начальник управление штаб сила рф генерал-полк...\n",
       "1    подразделение объединение край кубань период о...\n",
       "2    подразделение пехота флотилия новое бронетранс...\n",
       "3    команда этап конкурс биатлон натиск область ум...\n",
       "4    сбор полигон сибирь цель вал приём время опера...\n",
       "5    моряк отряд корабль флот состав корабль адмира...\n",
       "6    военнослужащие–женщина бронеавтомобиль автошоу...\n",
       "7    аэродром европа девау область течение день фес...\n",
       "8    мор учение сила флот участие слушатель академи...\n",
       "9    экипаж самолёт авиация флот поиск уничтожение ...\n",
       "Name: text_nouns, dtype: object"
      ]
     },
     "execution_count": 19,
     "metadata": {},
     "output_type": "execute_result"
    }
   ],
   "source": [
    "df['text_nouns'] = df['text_nouns'].apply(' '.join)\n",
    "df['text_nouns'].head(10)"
   ]
  },
  {
   "cell_type": "code",
   "execution_count": 20,
   "metadata": {},
   "outputs": [
    {
     "data": {
      "text/plain": [
       "[('мчс', 3446),\n",
       " ('россия', 1592),\n",
       " ('мчсроссия', 1209),\n",
       " ('спасатель', 564),\n",
       " ('год', 504),\n",
       " ('человек', 429),\n",
       " ('помощь', 415)]"
      ]
     },
     "execution_count": 20,
     "metadata": {},
     "output_type": "execute_result"
    }
   ],
   "source": [
    "#наиболее частотные сущ класса mchsgov: даём series в индекс последовательность true/false, если true то вкл. элемент\n",
    "#решила взять 7 т.к. \"россия\" и \"год\" частотные для всех, это пригодится для правил\n",
    "bool_indices_mch = (df['source'] == 'mchsgov')\n",
    "mchsgov = df['text_nouns'][bool_indices_mch]\n",
    "\n",
    "Counter(' '.join(mchsgov).split()).most_common(7)"
   ]
  },
  {
   "cell_type": "code",
   "execution_count": 21,
   "metadata": {},
   "outputs": [
    {
     "data": {
      "text/plain": [
       "[('военный', 1353),\n",
       " ('россия', 1280),\n",
       " ('год', 1264),\n",
       " ('минобороны', 1255),\n",
       " ('оборона', 912),\n",
       " ('учение', 862),\n",
       " ('сила', 786)]"
      ]
     },
     "execution_count": 21,
     "metadata": {},
     "output_type": "execute_result"
    }
   ],
   "source": [
    "#наиболее частотные сущ класса mil (подозреваю, что военный тут не|не всегда существительное)\n",
    "bool_indices_mil = (df['source'] == 'mil')\n",
    "mil = df['text_nouns'][bool_indices_mil]\n",
    "\n",
    "Counter(' '.join(mil).split()).most_common(7)"
   ]
  },
  {
   "cell_type": "code",
   "execution_count": 22,
   "metadata": {},
   "outputs": [
    {
     "data": {
      "text/plain": [
       "[('полиция', 5745),\n",
       " ('год', 5201),\n",
       " ('москва', 4157),\n",
       " ('мвд', 4051),\n",
       " ('россия', 3976),\n",
       " ('сотрудник', 2492),\n",
       " ('увд', 1644)]"
      ]
     },
     "execution_count": 22,
     "metadata": {},
     "output_type": "execute_result"
    }
   ],
   "source": [
    "#наиболее частотные сущ класса mospolice\n",
    "bool_indices_mospolice = (df['source'] == 'mospolice')\n",
    "mospolice = df['text_nouns'][bool_indices_mospolice]\n",
    "\n",
    "Counter(' '.join(mospolice).split()).most_common(7)"
   ]
  },
  {
   "cell_type": "code",
   "execution_count": 23,
   "metadata": {},
   "outputs": [
    {
     "data": {
      "text/plain": [
       "[('почта', 3113),\n",
       " ('россия', 2575),\n",
       " ('год', 2070),\n",
       " ('отделение', 1577),\n",
       " ('письмо', 1442),\n",
       " ('открытка', 1302),\n",
       " ('марка', 1288)]"
      ]
     },
     "execution_count": 23,
     "metadata": {},
     "output_type": "execute_result"
    }
   ],
   "source": [
    "#наиболее частотные суш класса russianpost\n",
    "bool_indices_russianpost = (df['source'] == 'russianpost')\n",
    "russianpost = df['text_nouns'][bool_indices_russianpost]\n",
    "\n",
    "Counter(' '.join(russianpost).split()).most_common(7)"
   ]
  },
  {
   "cell_type": "code",
   "execution_count": 24,
   "metadata": {},
   "outputs": [
    {
     "data": {
      "text/html": [
       "<div>\n",
       "<style>\n",
       "    .dataframe thead tr:only-child th {\n",
       "        text-align: right;\n",
       "    }\n",
       "\n",
       "    .dataframe thead th {\n",
       "        text-align: left;\n",
       "    }\n",
       "\n",
       "    .dataframe tbody tr th {\n",
       "        vertical-align: top;\n",
       "    }\n",
       "</style>\n",
       "<table border=\"1\" class=\"dataframe\">\n",
       "  <thead>\n",
       "    <tr style=\"text-align: right;\">\n",
       "      <th></th>\n",
       "      <th>text</th>\n",
       "      <th>source</th>\n",
       "      <th>text_norm</th>\n",
       "      <th>text_nouns</th>\n",
       "    </tr>\n",
       "  </thead>\n",
       "  <tbody>\n",
       "    <tr>\n",
       "      <th>10850</th>\n",
       "      <td>Полицейские САО задержали подозреваемого в огр...</td>\n",
       "      <td>mospolice</td>\n",
       "      <td>полицейский сао задержать подозревать ограблен...</td>\n",
       "      <td>полицейский ограбление курьер &gt;&lt;&gt;https://www.y...</td>\n",
       "    </tr>\n",
       "    <tr>\n",
       "      <th>424</th>\n",
       "      <td>Сегодня исполнилось 100 лет со дня образования...</td>\n",
       "      <td>mil</td>\n",
       "      <td>сегодня исполниться 100 год день образование с...</td>\n",
       "      <td>год день образование система оборона москва пе...</td>\n",
       "    </tr>\n",
       "    <tr>\n",
       "      <th>1918</th>\n",
       "      <td>В учебном центре инженерных войск проведены та...</td>\n",
       "      <td>mil</td>\n",
       "      <td>учебный центр инженерный войско провести такти...</td>\n",
       "      <td>центр войско занятие вожатый собака служба пит...</td>\n",
       "    </tr>\n",
       "    <tr>\n",
       "      <th>186</th>\n",
       "      <td>Съемочная группа программы «Военная приемка» о...</td>\n",
       "      <td>mil</td>\n",
       "      <td>съёмочный группа программа военный приёмка отп...</td>\n",
       "      <td>группа программа приёмка страна азия мьянма се...</td>\n",
       "    </tr>\n",
       "    <tr>\n",
       "      <th>3080</th>\n",
       "      <td>#МЧС #МЧСРОССИИ &lt;br&gt;&lt;br&gt;Владимир Пучков наград...</td>\n",
       "      <td>mchsgov</td>\n",
       "      <td>мчс мчсроссия &gt;&lt;&gt;владимир пучок наградить учас...</td>\n",
       "      <td>мчс мчсроссия &gt;&lt;&gt;владимир пучок участник экспе...</td>\n",
       "    </tr>\n",
       "  </tbody>\n",
       "</table>\n",
       "</div>"
      ],
      "text/plain": [
       "                                                    text     source  \\\n",
       "10850  Полицейские САО задержали подозреваемого в огр...  mospolice   \n",
       "424    Сегодня исполнилось 100 лет со дня образования...        mil   \n",
       "1918   В учебном центре инженерных войск проведены та...        mil   \n",
       "186    Съемочная группа программы «Военная приемка» о...        mil   \n",
       "3080   #МЧС #МЧСРОССИИ <br><br>Владимир Пучков наград...    mchsgov   \n",
       "\n",
       "                                               text_norm  \\\n",
       "10850  полицейский сао задержать подозревать ограблен...   \n",
       "424    сегодня исполниться 100 год день образование с...   \n",
       "1918   учебный центр инженерный войско провести такти...   \n",
       "186    съёмочный группа программа военный приёмка отп...   \n",
       "3080   мчс мчсроссия ><>владимир пучок наградить учас...   \n",
       "\n",
       "                                              text_nouns  \n",
       "10850  полицейский ограбление курьер ><>https://www.y...  \n",
       "424    год день образование система оборона москва пе...  \n",
       "1918   центр войско занятие вожатый собака служба пит...  \n",
       "186    группа программа приёмка страна азия мьянма се...  \n",
       "3080   мчс мчсроссия ><>владимир пучок участник экспе...  "
      ]
     },
     "execution_count": 24,
     "metadata": {},
     "output_type": "execute_result"
    }
   ],
   "source": [
    "#разделим исходные данные без каких-либо преобразований на обучающее и тестовое множества (80/20), предварительно перемешав\n",
    "\n",
    "#data = df[['text','source']]\n",
    "data = shuffle(df)\n",
    "\n",
    "train, test = train_test_split(data, test_size=0.2)\n",
    "train.tail()"
   ]
  },
  {
   "cell_type": "markdown",
   "metadata": {
    "colab_type": "text",
    "id": "9yCVYfbpNhXd"
   },
   "source": [
    " ## Задание 2 [2 балла]. Классификация по правилам\n",
    " \n",
    " * Разработайте несколько правил вида \"Если встречается слово $w$, то текст относится к паблику $c$\"\n",
    " * Посчитайте, какую точность, полноту, $f$-меру и $accuracy$ вы получаете при классификации по правилам\n",
    " * Получилось ли у вас придумать правило, которое никогда не ошибается?"
   ]
  },
  {
   "cell_type": "markdown",
   "metadata": {},
   "source": [
    "Т.к. как минимум во всех текстах самые частотные слова - россия и год, я сначала решила не включать их в топ для отдельного класса, потом отдать россию мчс, а год милу, поскольку оставались неклассифицированные тексты, а другие два и так нормально предсказывались, это помогло второму, а первому не очень, поэтому я второму добавила слов и просто изначально задала все классы как мчс и кстати это сработало ¯\\_(ツ)_/¯."
   ]
  },
  {
   "cell_type": "code",
   "execution_count": 25,
   "metadata": {},
   "outputs": [],
   "source": [
    "df_true = df[['text_norm','source']]\n",
    "df_train = df[['text_norm']]"
   ]
  },
  {
   "cell_type": "code",
   "execution_count": 26,
   "metadata": {},
   "outputs": [],
   "source": [
    "#почта и полиция идут после и, кажется, \"забирали\" классы у mil и мчс + некоторые тексты вообще не классифицировались,\n",
    "#поэтому взяла больше частотных слов для первых двух, а у полиции убрала \"москву\" и \"сотрудника\", изначаль задала всем mchsgov\n",
    "\n",
    "top_mchsgov = ['мчс', 'мчсроссия', 'спасатель', 'человек', 'помощь', 'безопасность','работа','пожар', 'россия']\n",
    "top_mil = ['военный', 'минобороны', 'оборона', 'учение', 'сила', 'ход', 'время', 'корабль', 'год', 'флот', 'комплекс']\n",
    "top_mospolice = ['полиция', 'мвд', 'увд']\n",
    "top_russianpost = ['почта', 'отделение', 'письмо', 'открытка', 'марка']"
   ]
  },
  {
   "cell_type": "code",
   "execution_count": 27,
   "metadata": {},
   "outputs": [],
   "source": [
    "#создаем новый столбик, создаем столбик с булевыми значениями, приписываем класс если True = если есть пересечение\n",
    "#множества слов текста и множества топ-слов\n",
    "\n",
    "def classification(data, df):\n",
    "    \n",
    "    df['source'] = 'mchsgov'\n",
    "    \n",
    "    bools_mchs = data.apply(lambda x: len(set(x.split()).intersection(set(top_mchsgov))) > 0)\n",
    "    df['source'][bools_mchs] = 'mchsgov'\n",
    "    \n",
    "    bools_mil = data.apply(lambda x: len(set(x.split()).intersection(set(top_mil))) > 0)\n",
    "    df['source'][bools_mil] = 'mil'\n",
    "    \n",
    "    bools_police = data.apply(lambda x: len(set(x.split()).intersection(set(top_mospolice))) > 0)\n",
    "    df['source'][bools_police] = 'mospolice'\n",
    "    \n",
    "    bools_post = data.apply(lambda x: len(set(x.split()).intersection(set(top_russianpost))) > 0)\n",
    "    df['source'][bools_post] = 'russianpost'\n",
    "    \n",
    "    return df"
   ]
  },
  {
   "cell_type": "code",
   "execution_count": 28,
   "metadata": {},
   "outputs": [
    {
     "name": "stderr",
     "output_type": "stream",
     "text": [
      "c:\\python35\\lib\\site-packages\\ipykernel_launcher.py:6: SettingWithCopyWarning: \n",
      "A value is trying to be set on a copy of a slice from a DataFrame.\n",
      "Try using .loc[row_indexer,col_indexer] = value instead\n",
      "\n",
      "See the caveats in the documentation: http://pandas.pydata.org/pandas-docs/stable/indexing.html#indexing-view-versus-copy\n",
      "  \n",
      "c:\\python35\\lib\\site-packages\\pandas\\core\\generic.py:5233: SettingWithCopyWarning: \n",
      "A value is trying to be set on a copy of a slice from a DataFrame\n",
      "\n",
      "See the caveats in the documentation: http://pandas.pydata.org/pandas-docs/stable/indexing.html#indexing-view-versus-copy\n",
      "  self._update_inplace(new_data)\n",
      "c:\\python35\\lib\\site-packages\\ipykernel_launcher.py:2: SettingWithCopyWarning: \n",
      "A value is trying to be set on a copy of a slice from a DataFrame\n",
      "\n",
      "See the caveats in the documentation: http://pandas.pydata.org/pandas-docs/stable/indexing.html#indexing-view-versus-copy\n",
      "  \n"
     ]
    }
   ],
   "source": [
    "#классифицируем\n",
    "df_train = classification(df_train['text_norm'], df_train)"
   ]
  },
  {
   "cell_type": "code",
   "execution_count": 29,
   "metadata": {},
   "outputs": [
    {
     "data": {
      "text/plain": [
       "mchsgov        3173\n",
       "mil            3114\n",
       "mospolice      2714\n",
       "russianpost    2525\n",
       "Name: source, dtype: int64"
      ]
     },
     "execution_count": 29,
     "metadata": {},
     "output_type": "execute_result"
    }
   ],
   "source": [
    "#сколько получилось слов в результате\n",
    "df_train['source'].value_counts()"
   ]
  },
  {
   "cell_type": "code",
   "execution_count": 30,
   "metadata": {
    "scrolled": true
   },
   "outputs": [
    {
     "data": {
      "text/plain": [
       "mchsgov        3024\n",
       "mil            3017\n",
       "mospolice      2854\n",
       "russianpost    2631\n",
       "Name: source, dtype: int64"
      ]
     },
     "execution_count": 30,
     "metadata": {},
     "output_type": "execute_result"
    }
   ],
   "source": [
    "#сравним с правильным распределением\n",
    "df['source'].value_counts()"
   ]
  },
  {
   "cell_type": "markdown",
   "metadata": {},
   "source": [
    "Уже без метрик видно, что идеальных правил нет, но с некоторыми ухищрениями, описанными выше, удалось сделать перекосы по числу слов не такими большими. Посмотрим на метрики."
   ]
  },
  {
   "cell_type": "code",
   "execution_count": 31,
   "metadata": {},
   "outputs": [],
   "source": [
    "labels = ['mchsgov', 'mil', 'mospolice', 'russianpost']"
   ]
  },
  {
   "cell_type": "code",
   "execution_count": 32,
   "metadata": {},
   "outputs": [],
   "source": [
    "def evaluation(y_true, y_pred):\n",
    "    rprt = classification_report(y_true, y_pred, labels = labels)\n",
    "    print(rprt)\n",
    "    print()\n",
    "    \n",
    "    acc = accuracy_score(y_true, y_pred)\n",
    "    print('Accuracy = ', acc)\n",
    "    "
   ]
  },
  {
   "cell_type": "code",
   "execution_count": 33,
   "metadata": {
    "scrolled": true
   },
   "outputs": [
    {
     "name": "stdout",
     "output_type": "stream",
     "text": [
      "              precision    recall  f1-score   support\n",
      "\n",
      "     mchsgov       0.70      0.74      0.72      3024\n",
      "         mil       0.73      0.76      0.75      3017\n",
      "   mospolice       0.95      0.90      0.93      2854\n",
      " russianpost       0.87      0.84      0.85      2631\n",
      "\n",
      "   micro avg       0.81      0.81      0.81     11526\n",
      "   macro avg       0.82      0.81      0.81     11526\n",
      "weighted avg       0.81      0.81      0.81     11526\n",
      "\n",
      "\n",
      "Accuracy =  0.8069581815026896\n"
     ]
    }
   ],
   "source": [
    "evaluation(df_true['source'], df_train['source'])"
   ]
  },
  {
   "cell_type": "markdown",
   "metadata": {},
   "source": [
    "Неплохо для правил!"
   ]
  },
  {
   "cell_type": "markdown",
   "metadata": {
    "colab_type": "text",
    "id": "22tJKQnaOjie"
   },
   "source": [
    "## Задание 3 [4 балла]. Baseline\n",
    "Используйте стандартный ```sklearn.pipeline``` для классификации текстов: \n",
    "* векторизация \n",
    "* $tf-idf$ взвешивание \n",
    "* ваш любимый метод классификации.\n",
    "\n",
    "\n",
    "Оцените результаты классификации по стандартным мерам качества и проведите анализ ошибок. Для этого рекомендуем визуализировать матрицу ошибок (confusion matrix). "
   ]
  },
  {
   "cell_type": "code",
   "execution_count": 35,
   "metadata": {},
   "outputs": [
    {
     "name": "stderr",
     "output_type": "stream",
     "text": [
      "c:\\python35\\lib\\site-packages\\sklearn\\linear_model\\stochastic_gradient.py:166: FutureWarning: max_iter and tol parameters have been added in SGDClassifier in 0.19. If both are left unset, they default to max_iter=5 and tol=None. If tol is not None, max_iter defaults to max_iter=1000. From 0.21, default max_iter will be 1000, and default tol will be 1e-3.\n",
      "  FutureWarning)\n"
     ]
    },
    {
     "data": {
      "text/plain": [
       "Pipeline(memory=None,\n",
       "     steps=[('vect', CountVectorizer(analyzer='word', binary=False, decode_error='strict',\n",
       "        dtype=<class 'numpy.int64'>, encoding='utf-8', input='content',\n",
       "        lowercase=True, max_df=1.0, max_features=None, min_df=1,\n",
       "        ngram_range=(1, 1), preprocessor=None, stop_words=None,\n",
       "        strip...m_state=None, shuffle=True, tol=None,\n",
       "       validation_fraction=0.1, verbose=0, warm_start=False))])"
      ]
     },
     "execution_count": 35,
     "metadata": {},
     "output_type": "execute_result"
    }
   ],
   "source": [
    "vectorizer = CountVectorizer(ngram_range=(1,1))  \n",
    "tfidf = TfidfTransformer()  \n",
    "classifier = SGDClassifier()  #попробовала разные, лучшие показатели были у него\n",
    "\n",
    "clf = Pipeline([\n",
    "    ('vect', vectorizer),\n",
    "    ('tf-idf', tfidf),\n",
    "    ('clf', classifier),\n",
    "])\n",
    "\n",
    "clf.fit(train.text, train.source)  "
   ]
  },
  {
   "cell_type": "code",
   "execution_count": 36,
   "metadata": {},
   "outputs": [],
   "source": [
    "predictions = clf.predict(test.text)"
   ]
  },
  {
   "cell_type": "code",
   "execution_count": 37,
   "metadata": {},
   "outputs": [
    {
     "name": "stdout",
     "output_type": "stream",
     "text": [
      "              precision    recall  f1-score   support\n",
      "\n",
      "     mchsgov       0.99      0.97      0.98       618\n",
      "         mil       1.00      0.99      0.99       630\n",
      "   mospolice       0.97      0.99      0.98       555\n",
      " russianpost       0.95      0.96      0.95       503\n",
      "\n",
      "   micro avg       0.98      0.98      0.98      2306\n",
      "   macro avg       0.98      0.98      0.98      2306\n",
      "weighted avg       0.98      0.98      0.98      2306\n",
      "\n",
      "\n",
      "Accuracy =  0.9774501300954033\n"
     ]
    }
   ],
   "source": [
    "evaluation(test.source, predictions)"
   ]
  },
  {
   "cell_type": "markdown",
   "metadata": {},
   "source": [
    "Результаты хорошо превзошли подход, основанный на правилах, визуализируем их."
   ]
  },
  {
   "cell_type": "code",
   "execution_count": 38,
   "metadata": {},
   "outputs": [
    {
     "data": {
      "image/png": "[encoded data removed]",
      "text/plain": [
       "<matplotlib.figure.Figure at 0x1c396868f98>"
      ]
     },
     "metadata": {
      "needs_background": "light"
     },
     "output_type": "display_data"
    }
   ],
   "source": [
    "m = confusion_matrix(test.source, predictions)\n",
    "\n",
    "#labels = clf.classes_\n",
    "plt.figure(figsize = (10,10))\n",
    "sns.heatmap(data=m, annot=True, fmt=\"d\", cbar=False, xticklabels=labels, yticklabels=labels, cmap=\"PuBuGn\")\n",
    "plt.title(\"Confusion matrix\")\n",
    "plt.show()"
   ]
  },
  {
   "cell_type": "markdown",
   "metadata": {},
   "source": [
    "Лучшие результаты у класса mil, немножко перепутан mchsgov с mil, при построении правил тоже было это заметно, скорее всего из-за россии, но в почте тоже она на втором месте, возможно поэтому она определялась как мчс + например, _работа, человек_; а полиция и почта, наверное, иногда были классифицированы неверно, потому что и там, и там есть отделения...."
   ]
  },
  {
   "cell_type": "markdown",
   "metadata": {
    "colab_type": "text",
    "id": "I4m1rDQ3PAqO"
   },
   "source": [
    "## Задание 4 [2 балла]. Снижение размерности\n",
    "Добавьте в ваш ```sklearn.pipeline```  методы снижения размерности:  PCA / LSI / LSA / LDA / другое. Какие методы классификации разумно использовать после снижения размерности? Как изменились результаты классификации после добавления нового шага?"
   ]
  },
  {
   "cell_type": "code",
   "execution_count": 39,
   "metadata": {},
   "outputs": [
    {
     "data": {
      "text/plain": [
       "GradientBoostingClassifier(criterion='friedman_mse', init=None,\n",
       "              learning_rate=0.1, loss='deviance', max_depth=3,\n",
       "              max_features=None, max_leaf_nodes=None,\n",
       "              min_impurity_decrease=0.0, min_impurity_split=None,\n",
       "              min_samples_leaf=1, min_samples_split=2,\n",
       "              min_weight_fraction_leaf=0.0, n_estimators=100,\n",
       "              n_iter_no_change=None, presort='auto', random_state=None,\n",
       "              subsample=1.0, tol=0.0001, validation_fraction=0.1,\n",
       "              verbose=0, warm_start=False)"
      ]
     },
     "execution_count": 39,
     "metadata": {},
     "output_type": "execute_result"
    }
   ],
   "source": [
    "vectorizer = CountVectorizer(ngram_range=(1,1))\n",
    "tfidf = TfidfTransformer()\n",
    "lsa = TruncatedSVD()\n",
    "classifier = GradientBoostingClassifier()\n",
    "\n",
    "clf = Pipeline([\n",
    "    ('vect', vectorizer),\n",
    "    ('tf-idf', tfidf),\n",
    "    ('red_dim', lsa),\n",
    "    ('norm', StandardScaler()),\n",
    "])\n",
    "\n",
    "X = clf.fit_transform(train.text)\n",
    "classifier.fit(X, train.source)"
   ]
  },
  {
   "cell_type": "code",
   "execution_count": 40,
   "metadata": {},
   "outputs": [],
   "source": [
    "y = clf.fit_transform(test.text)\n",
    "\n",
    "predictions = classifier.predict(y)"
   ]
  },
  {
   "cell_type": "code",
   "execution_count": 41,
   "metadata": {},
   "outputs": [
    {
     "name": "stdout",
     "output_type": "stream",
     "text": [
      "              precision    recall  f1-score   support\n",
      "\n",
      "     mchsgov       0.88      0.88      0.88       618\n",
      "         mil       0.66      0.66      0.66       630\n",
      "   mospolice       0.83      0.94      0.88       555\n",
      " russianpost       0.55      0.48      0.51       503\n",
      "\n",
      "   micro avg       0.75      0.75      0.75      2306\n",
      "   macro avg       0.73      0.74      0.73      2306\n",
      "weighted avg       0.74      0.75      0.74      2306\n",
      "\n",
      "\n",
      "Accuracy =  0.7458803122289679\n"
     ]
    }
   ],
   "source": [
    "evaluation(test.source, predictions)"
   ]
  },
  {
   "cell_type": "markdown",
   "metadata": {},
   "source": [
    "Качество сильно ухудшилось, так как после снижения размерности нужно еще применять нормализацию, стало более-менее, когда использовала StandardScaler и заменила классификатор на градиентный бустинг, так вышло чуть лучше, чем с SGD, получается перепутанными классы mil и russianpost."
   ]
  },
  {
   "cell_type": "code",
   "execution_count": 42,
   "metadata": {},
   "outputs": [
    {
     "data": {
      "image/png": "[encoded data removed]",
      "text/plain": [
       "<matplotlib.figure.Figure at 0x1c3966b6f60>"
      ]
     },
     "metadata": {
      "needs_background": "light"
     },
     "output_type": "display_data"
    }
   ],
   "source": [
    "m = confusion_matrix(test.source, predictions)\n",
    "\n",
    "#labels = clf.classes_\n",
    "plt.figure(figsize = (10,10))\n",
    "sns.heatmap(data=m, annot=True, fmt=\"d\", cbar=False, xticklabels=labels, yticklabels=labels, cmap=\"PuBuGn\")\n",
    "plt.title(\"Confusion matrix\")\n",
    "plt.show()"
   ]
  },
  {
   "cell_type": "markdown",
   "metadata": {
    "colab_type": "text",
    "id": "7vVPaaVwPVwg"
   },
   "source": [
    "## Задание 5 [2 балла]. Лемматизация\n",
    "Посмотрите, как влияет лемматизация на качество классификации. Как изменится качество классификации, если вы используете ```CountVectorizer``` на словах или $n$-граммах на лемматизированных текстах?"
   ]
  },
  {
   "cell_type": "markdown",
   "metadata": {},
   "source": [
    "Проделаем то же самое со столбцом text_norm, содержащим тексты после предобработки."
   ]
  },
  {
   "cell_type": "code",
   "execution_count": 43,
   "metadata": {},
   "outputs": [
    {
     "name": "stderr",
     "output_type": "stream",
     "text": [
      "c:\\python35\\lib\\site-packages\\sklearn\\linear_model\\stochastic_gradient.py:166: FutureWarning: max_iter and tol parameters have been added in SGDClassifier in 0.19. If both are left unset, they default to max_iter=5 and tol=None. If tol is not None, max_iter defaults to max_iter=1000. From 0.21, default max_iter will be 1000, and default tol will be 1e-3.\n",
      "  FutureWarning)\n"
     ]
    },
    {
     "data": {
      "text/plain": [
       "Pipeline(memory=None,\n",
       "     steps=[('vect', CountVectorizer(analyzer='word', binary=False, decode_error='strict',\n",
       "        dtype=<class 'numpy.int64'>, encoding='utf-8', input='content',\n",
       "        lowercase=True, max_df=1.0, max_features=None, min_df=1,\n",
       "        ngram_range=(1, 1), preprocessor=None, stop_words=None,\n",
       "        strip...m_state=None, shuffle=True, tol=None,\n",
       "       validation_fraction=0.1, verbose=0, warm_start=False))])"
      ]
     },
     "execution_count": 43,
     "metadata": {},
     "output_type": "execute_result"
    }
   ],
   "source": [
    "vectorizer = CountVectorizer(ngram_range=(1,1))\n",
    "tfidf = TfidfTransformer()\n",
    "classifier = SGDClassifier()\n",
    "\n",
    "clf = Pipeline([\n",
    "    ('vect', vectorizer),\n",
    "    ('tf-idf', tfidf),\n",
    "    ('clf', classifier),\n",
    "])\n",
    "\n",
    "clf.fit(train.text_norm, train.source)"
   ]
  },
  {
   "cell_type": "code",
   "execution_count": 44,
   "metadata": {},
   "outputs": [],
   "source": [
    "predictions = clf.predict(test.text_norm)"
   ]
  },
  {
   "cell_type": "code",
   "execution_count": 45,
   "metadata": {},
   "outputs": [
    {
     "name": "stdout",
     "output_type": "stream",
     "text": [
      "              precision    recall  f1-score   support\n",
      "\n",
      "     mchsgov       0.99      0.97      0.98       618\n",
      "         mil       0.99      0.99      0.99       630\n",
      "   mospolice       0.96      0.99      0.98       555\n",
      " russianpost       0.96      0.95      0.95       503\n",
      "\n",
      "   micro avg       0.98      0.98      0.98      2306\n",
      "   macro avg       0.98      0.98      0.98      2306\n",
      "weighted avg       0.98      0.98      0.98      2306\n",
      "\n",
      "\n",
      "Accuracy =  0.9765828274067649\n"
     ]
    }
   ],
   "source": [
    "evaluation(test.source, predictions)"
   ]
  },
  {
   "cell_type": "code",
   "execution_count": 46,
   "metadata": {},
   "outputs": [
    {
     "data": {
      "image/png": "[encoded data removed]",
      "text/plain": [
       "<matplotlib.figure.Figure at 0x1c39ba164a8>"
      ]
     },
     "metadata": {
      "needs_background": "light"
     },
     "output_type": "display_data"
    }
   ],
   "source": [
    "m = confusion_matrix(test.source, predictions)\n",
    "\n",
    "#labels = clf.classes_\n",
    "plt.figure(figsize = (10,10))\n",
    "sns.heatmap(data=m, annot=True, fmt=\"d\", cbar=False, xticklabels=labels, yticklabels=labels, cmap=\"PuBuGn\")\n",
    "plt.title(\"Confusion matrix\")\n",
    "plt.show()"
   ]
  },
  {
   "cell_type": "markdown",
   "metadata": {},
   "source": [
    "После обучения на нормализованных текстах качество не сильно меняется, +- 0.01 к ф-мерам отдельных классов."
   ]
  },
  {
   "cell_type": "code",
   "execution_count": 47,
   "metadata": {},
   "outputs": [
    {
     "name": "stderr",
     "output_type": "stream",
     "text": [
      "c:\\python35\\lib\\site-packages\\sklearn\\linear_model\\stochastic_gradient.py:166: FutureWarning: max_iter and tol parameters have been added in SGDClassifier in 0.19. If both are left unset, they default to max_iter=5 and tol=None. If tol is not None, max_iter defaults to max_iter=1000. From 0.21, default max_iter will be 1000, and default tol will be 1e-3.\n",
      "  FutureWarning)\n"
     ]
    },
    {
     "data": {
      "text/plain": [
       "Pipeline(memory=None,\n",
       "     steps=[('vect', CountVectorizer(analyzer='word', binary=False, decode_error='strict',\n",
       "        dtype=<class 'numpy.int64'>, encoding='utf-8', input='content',\n",
       "        lowercase=True, max_df=1.0, max_features=None, min_df=1,\n",
       "        ngram_range=(1, 2), preprocessor=None, stop_words=None,\n",
       "        strip...m_state=None, shuffle=True, tol=None,\n",
       "       validation_fraction=0.1, verbose=0, warm_start=False))])"
      ]
     },
     "execution_count": 47,
     "metadata": {},
     "output_type": "execute_result"
    }
   ],
   "source": [
    "vectorizer = CountVectorizer(ngram_range=(1,2))  #добавляем n-граммы\n",
    "tfidf = TfidfTransformer()\n",
    "classifier = SGDClassifier()\n",
    "\n",
    "clf = Pipeline([\n",
    "    ('vect', vectorizer),\n",
    "    ('tf-idf', tfidf),\n",
    "    ('clf', classifier),\n",
    "])\n",
    "\n",
    "clf.fit(train.text_norm, train.source)"
   ]
  },
  {
   "cell_type": "code",
   "execution_count": 48,
   "metadata": {},
   "outputs": [],
   "source": [
    "predictions = clf.predict(test.text_norm)"
   ]
  },
  {
   "cell_type": "code",
   "execution_count": 49,
   "metadata": {},
   "outputs": [
    {
     "name": "stdout",
     "output_type": "stream",
     "text": [
      "              precision    recall  f1-score   support\n",
      "\n",
      "     mchsgov       0.99      0.97      0.98       618\n",
      "         mil       0.99      0.99      0.99       630\n",
      "   mospolice       0.97      0.99      0.98       555\n",
      " russianpost       0.96      0.96      0.96       503\n",
      "\n",
      "   micro avg       0.98      0.98      0.98      2306\n",
      "   macro avg       0.98      0.98      0.98      2306\n",
      "weighted avg       0.98      0.98      0.98      2306\n",
      "\n",
      "\n",
      "Accuracy =  0.9791847354726799\n"
     ]
    }
   ],
   "source": [
    "evaluation(test.source, predictions)"
   ]
  },
  {
   "cell_type": "code",
   "execution_count": 50,
   "metadata": {},
   "outputs": [
    {
     "data": {
      "image/png": "[encoded data removed]",
      "text/plain": [
       "<matplotlib.figure.Figure at 0x1c395a75fd0>"
      ]
     },
     "metadata": {
      "needs_background": "light"
     },
     "output_type": "display_data"
    }
   ],
   "source": [
    "m = confusion_matrix(test.source, predictions)\n",
    "\n",
    "#labels = clf.classes_\n",
    "plt.figure(figsize = (10,10))\n",
    "sns.heatmap(data=m, annot=True, fmt=\"d\", cbar=False, xticklabels=labels, yticklabels=labels, cmap=\"PuBuGn\")\n",
    "plt.title(\"Confusion matrix\")\n",
    "plt.show()"
   ]
  },
  {
   "cell_type": "markdown",
   "metadata": {},
   "source": [
    "После применения биграм, на разных итерация ф-меры отдельных классов прибавляли 0.01, увеличивалась accuracy на 0.01 и precision-mil recall-mospolice были 1.00, при n>2 дальнейших изменений не происходило."
   ]
  },
  {
   "cell_type": "markdown",
   "metadata": {
    "colab_type": "text",
    "id": "hj7hWdtcP8L2"
   },
   "source": [
    "## Задание 6 [4 балла]. Модель скрытых тем\n",
    "Постройте и визуализируйте модель скрытых тем (LSI или LDA) по данной коллекции текстов. Нужно ли здесь использовать разделение на тестовую и обучающую части? **Нет** Как модель скрытых тем может помочь в решении задачи классификации? **Они используются для снижения размерности матрицы признаков**."
   ]
  },
  {
   "cell_type": "markdown",
   "metadata": {},
   "source": [
    "Представим данные словарем и корпусом в Gensim:"
   ]
  },
  {
   "cell_type": "code",
   "execution_count": 51,
   "metadata": {},
   "outputs": [],
   "source": [
    "texts = [df.text_norm.iloc[i].split() for i in range(len(df))]\n",
    "dictionary = Dictionary(texts)\n",
    "corpus = [dictionary.doc2bow(text) for text in texts]"
   ]
  },
  {
   "cell_type": "markdown",
   "metadata": {},
   "source": [
    "Вычислим сходства по косинусной мере на векторах $tf-idf$:"
   ]
  },
  {
   "cell_type": "code",
   "execution_count": 52,
   "metadata": {},
   "outputs": [],
   "source": [
    "tfidf = TfidfModel(corpus)\n",
    "corpus_tfidf = tfidf[corpus]"
   ]
  },
  {
   "cell_type": "markdown",
   "metadata": {},
   "source": [
    "**Латентно-семантический анализ**"
   ]
  },
  {
   "cell_type": "code",
   "execution_count": 53,
   "metadata": {},
   "outputs": [],
   "source": [
    "lsi = lsimodel.LsiModel(corpus=corpus_tfidf, id2word=dictionary, num_topics=4)"
   ]
  },
  {
   "cell_type": "code",
   "execution_count": 54,
   "metadata": {},
   "outputs": [
    {
     "data": {
      "text/plain": [
       "[(0,\n",
       "  '0.233*\"полиция\" + 0.218*\"мвд\" + 0.188*\"москва\" + 0.177*\"год\" + 0.149*\"гу\" + 0.148*\"задержать\" + 0.146*\"россия\" + 0.134*\"петровка38\" + 0.124*\"сотрудник\" + 0.122*\"подозревать\"'),\n",
       " (1,\n",
       "  '0.540*\"мчс\" + 0.529*\"мчсроссия\" + 0.214*\"советмчс\" + 0.206*\"безопасностьэтый\" + 0.189*\"фактмчс\" + 0.171*\"следовать\" + 0.160*\"><>бережать\" + 0.144*\"правило\" + 0.143*\"безопасность\" + -0.111*\"полиция\"'),\n",
       " (2,\n",
       "  '-0.206*\"мчсроссия\" + 0.163*\"почтовый\" + -0.155*\"мчс\" + -0.155*\"мвд\" + -0.154*\"полиция\" + 0.141*\"почта\" + -0.136*\"задержать\" + -0.124*\"петровка38\" + 0.119*\"военный\" + -0.119*\"подозревать\"'),\n",
       " (3,\n",
       "  '-0.239*\"утро\" + 0.238*\"задержать\" + -0.235*\"хороший\" + -0.227*\"успешный\" + -0.219*\"добрый\" + -0.215*\"понедельник\" + -0.203*\"рабочий\" + 0.199*\"подозревать\" + -0.198*\">фото\" + -0.182*\"неделя\"')]"
      ]
     },
     "execution_count": 54,
     "metadata": {},
     "output_type": "execute_result"
    }
   ],
   "source": [
    "lsi.show_topics()"
   ]
  },
  {
   "cell_type": "markdown",
   "metadata": {},
   "source": [
    "Главные компоненты"
   ]
  },
  {
   "cell_type": "code",
   "execution_count": 55,
   "metadata": {},
   "outputs": [],
   "source": [
    "X = [0] * len(df)\n",
    "Y = [0] * len(df)\n",
    "for i in range(len(df)):\n",
    "    vec = corpus[i]\n",
    "    LSI_topics = (lsi[vec])\n",
    "    try:\n",
    "        for topic in LSI_topics:\n",
    "            if topic[0] == 0:\n",
    "                X[i] = topic[1]\n",
    "            elif topic[0] == 1:\n",
    "                Y[i] = topic[1]\n",
    "    except:\n",
    "        pass\n",
    "vis_df = pd.DataFrame({'X': X, 'Y': Y, 'topic' : df.source})"
   ]
  },
  {
   "cell_type": "code",
   "execution_count": 56,
   "metadata": {},
   "outputs": [
    {
     "name": "stderr",
     "output_type": "stream",
     "text": [
      "c:\\python35\\lib\\site-packages\\seaborn\\axisgrid.py:230: UserWarning: The `size` paramter has been renamed to `height`; please update your code.\n",
      "  warnings.warn(msg, UserWarning)\n"
     ]
    },
    {
     "data": {
      "text/plain": [
       "<seaborn.axisgrid.FacetGrid at 0x1c395ce1f28>"
      ]
     },
     "execution_count": 56,
     "metadata": {},
     "output_type": "execute_result"
    },
    {
     "data": {
      "image/png": "[encoded data removed]",
      "text/plain": [
       "<matplotlib.figure.Figure at 0x1c395ce19e8>"
      ]
     },
     "metadata": {
      "needs_background": "light"
     },
     "output_type": "display_data"
    }
   ],
   "source": [
    "sns.FacetGrid(vis_df, hue=\"topic\", size = 10).map(plt.scatter, \"X\", \"Y\").add_legend()"
   ]
  },
  {
   "cell_type": "markdown",
   "metadata": {},
   "source": [
    "**Латентное размещение Дирихле**"
   ]
  },
  {
   "cell_type": "code",
   "execution_count": 57,
   "metadata": {},
   "outputs": [],
   "source": [
    "lda = ldamodel.LdaModel(corpus=corpus, id2word=dictionary, num_topics=4)"
   ]
  },
  {
   "cell_type": "code",
   "execution_count": 58,
   "metadata": {},
   "outputs": [
    {
     "data": {
      "text/plain": [
       "[(0,\n",
       "  '0.014*\"год\" + 0.007*\"конкурс\" + 0.005*\"россия\" + 0.004*\"который\" + 0.004*\"также\" + 0.004*\"университет\" + 0.004*\"соревнование\" + 0.003*\"почтовый\" + 0.003*\"один\" + 0.003*\"пройти\"'),\n",
       " (1,\n",
       "  '0.017*\"россия\" + 0.017*\"год\" + 0.014*\"полиция\" + 0.012*\"москва\" + 0.011*\"мвд\" + 0.007*\"сотрудник\" + 0.007*\"который\" + 0.007*\"новость\" + 0.006*\"почтовый\" + 0.006*\"почта\"'),\n",
       " (2,\n",
       "  '0.023*\"гу\" + 0.023*\"полиция\" + 0.018*\"москва\" + 0.018*\"год\" + 0.013*\"петровка38\" + 0.012*\"россия\" + 0.011*\"увд\" + 0.010*\"мвд\" + 0.009*\"сотрудник\" + 0.007*\"служба\"'),\n",
       " (3,\n",
       "  '0.026*\"задержать\" + 0.025*\"уголовный\" + 0.013*\"петровка38\" + 0.011*\"полиция\" + 0.010*\"средство\" + 0.007*\"возбудить\" + 0.007*\">ть\" + 0.007*\"район\" + 0.006*\"ход\" + 0.006*\"изъять\"')]"
      ]
     },
     "execution_count": 58,
     "metadata": {},
     "output_type": "execute_result"
    }
   ],
   "source": [
    "lda.show_topics()"
   ]
  },
  {
   "cell_type": "code",
   "execution_count": 59,
   "metadata": {},
   "outputs": [
    {
     "data": {
      "text/html": [
       "\n",
       "<link rel=\"stylesheet\" type=\"text/css\" href=\"https://cdn.rawgit.com/bmabey/pyLDAvis/files/ldavis.v1.0.0.css\">\n",
       "\n",
       "\n",
       "<div id=\"ldavis_el900419400340026403803782813\"></div>\n",
       "<script type=\"text/javascript\">\n",
       "\n",
       "var ldavis_el900419400340026403803782813_data = {\"mdsDat\": {\"topics\": [1, 2, 3, 4], \"x\": [-0.08138842362511053, -0.09409898281059485, 0.020400017028821715, 0.15508738940688357], \"y\": [-0.0890474351624789, 0.11097802734990328, -0.048977474920195385, 0.027046882732770856], \"Freq\": [51.53134401965976, 21.125106498754544, 16.692058697964526, 10.651490783621153], \"cluster\": [1, 1, 1, 1]}, \"R\": 30, \"topic.order\": [2, 1, 3, 4], \"plot.opts\": {\"ylab\": \"PC2\", \"xlab\": \"PC1\"}, \"tinfo\": {\"logprob\": [30.0, 29.0, 28.0, 27.0, 26.0, 25.0, 24.0, 23.0, 22.0, 21.0, 20.0, 19.0, 18.0, 17.0, 16.0, 15.0, 14.0, 13.0, 12.0, 11.0, 10.0, 9.0, 8.0, 7.0, 6.0, 5.0, 4.0, 3.0, 2.0, 1.0, -5.122799873352051, -7.3119001388549805, -6.911600112915039, -5.849999904632568, -7.862800121307373, -8.154500007629395, -8.471400260925293, -8.07859992980957, -8.194000244140625, -7.3871002197265625, -8.35420036315918, -8.402099609375, -8.796199798583984, -7.815100193023682, -7.588200092315674, -8.446200370788574, -8.434499740600586, -8.10569953918457, -8.670000076293945, -7.959499835968018, -8.788000106811523, -8.616299629211426, -8.670100212097168, -8.366800308227539, -8.565400123596191, -8.671299934387207, -9.000699996948242, -8.886199951171875, -8.13230037689209, -8.701000213623047, -7.103000164031982, -7.343900203704834, -5.935699939727783, -7.520100116729736, -7.7170000076293945, -7.692800045013428, -7.84089994430542, -6.511300086975098, -5.302499771118164, -6.166200160980225, -6.519499778747559, -6.076499938964844, -7.086599826812744, -7.456900119781494, -7.693699836730957, -5.021200180053711, -7.504799842834473, -6.97160005569458, -7.14739990234375, -7.211100101470947, -5.925300121307373, -5.518099784851074, -5.845600128173828, -6.632500171661377, -6.482600212097168, -5.041200160980225, -5.69350004196167, -6.678800106048584, -5.404099941253662, -5.217299938201904, -6.125699996948242, -4.059000015258789, -6.55649995803833, -6.003799915313721, -4.526700019836426, -5.799200057983398, -5.523399829864502, -6.116399765014648, -6.460700035095215, -5.442399978637695, -5.888700008392334, -4.463399887084961, -4.099100112915039, -4.275599956512451, -4.914899826049805, -4.980000019073486, -5.916299819946289, -5.574399948120117, -5.784800052642822, -5.564199924468994, -5.924699783325195, -5.870200157165527, -5.689799785614014, -5.5883002281188965, -5.693999767303467, -5.754199981689453, -5.787700176239014, -5.853499889373779, -7.591100215911865, -7.863699913024902, -7.059100151062012, -8.153300285339355, -7.706600189208984, -8.606499671936035, -8.169699668884277, -8.662099838256836, -7.857699871063232, -8.475799560546875, -7.645299911499023, -8.57979965209961, -7.916999816894531, -7.542500019073486, -7.868899822235107, -8.892000198364258, -8.584699630737305, -7.367800235748291, -8.634099960327148, -8.691100120544434, -8.84630012512207, -7.346499919891357, -9.058099746704102, -8.253199577331543, -8.785400390625, -7.269800186157227, -9.284199714660645, -9.065899848937988, -7.036300182342529, -8.542699813842773, -8.141799926757812, -8.158900260925293, -7.792600154876709, -7.970399856567383, -8.171699523925781, -8.214500427246094, -5.558199882507324, -7.371500015258789, -7.845399856567383, -7.6732001304626465, -5.637499809265137, -6.684199810028076, -6.452600002288818, -7.683000087738037, -6.946100234985352, -6.599100112915039, -6.585299968719482, -6.848400115966797, -6.696199893951416, -4.985899925231934, -6.85860013961792, -6.9934000968933105, -6.024199962615967, -6.705100059509277, -6.6793999671936035, -6.141200065612793, -6.478799819946289, -6.961400032043457, -5.9375, -6.609099864959717, -6.561800003051758, -5.860400199890137, -7.147799968719482, -7.127799987792969, -6.487800121307373, -5.780900001525879, -6.052499771118164, -6.64900016784668, -4.247200012207031, -6.527699947357178, -6.461699962615967, -6.366700172424316, -5.537399768829346, -5.816100120544434, -5.433599948883057, -5.747300148010254, -6.156300067901611, -5.92110013961792, -5.243100166320801, -5.793600082397461, -5.727200031280518, -6.131100177764893, -6.106100082397461, -5.967899799346924, -6.045300006866455, -6.001800060272217, -6.2154998779296875, -6.231200218200684, -6.179200172424316, -5.9816999435424805, -6.176300048828125, -6.247700214385986, -6.232699871063232, -7.159999847412109, -8.478300094604492, -7.658999919891357, -8.203200340270996, -7.07390022277832, -8.238900184631348, -8.86139965057373, -6.63640022277832, -8.796099662780762, -7.342400074005127, -8.183500289916992, -6.519999980926514, -9.040900230407715, -8.995400428771973, -9.088800430297852, -8.44279956817627, -9.035300254821777, -8.267399787902832, -8.630499839782715, -8.743200302124023, -7.785099983215332, -9.119999885559082, -7.636300086975098, -8.917499542236328, -9.513299942016602, -8.881500244140625, -8.158300399780273, -8.813300132751465, -9.296600341796875, -9.13010025024414, -6.35260009765625, -7.624100208282471, -8.01200008392334, -8.089500427246094, -3.7809998989105225, -8.438799858093262, -5.036099910736084, -6.117499828338623, -7.4481000900268555, -6.190100193023682, -5.868500232696533, -7.286900043487549, -7.3694000244140625, -6.452099800109863, -4.50029993057251, -6.66480016708374, -5.204800128936768, -6.213399887084961, -6.718800067901611, -4.337200164794922, -6.518099784851074, -5.4197998046875, -6.144499778747559, -6.701000213623047, -7.099999904632568, -5.866300106048584, -3.791800022125244, -4.0019001960754395, -6.454800128936768, -5.85129976272583, -4.9506001472473145, -6.506800174713135, -4.902100086212158, -5.709400177001953, -6.184500217437744, -4.0177001953125, -4.661499977111816, -5.061999797821045, -5.313199996948242, -4.580900192260742, -5.995100021362305, -4.450200080871582, -5.371500015258789, -5.346399784088135, -5.94980001449585, -5.677000045776367, -5.579599857330322, -5.794600009918213, -5.7266998291015625, -6.011300086975098, -5.793000221252441, -5.624199867248535, -5.942500114440918, -3.676100015640259, -5.153200149536133, -5.912799835205078, -8.436300277709961, -8.545999526977539, -8.562199592590332, -8.345100402832031, -8.648099899291992, -8.308300018310547, -8.027299880981445, -7.814599990844727, -8.906599998474121, -7.860599994659424, -7.259500026702881, -7.41510009765625, -8.015399932861328, -7.768099784851074, -7.622700214385986, -8.163200378417969, -7.430200099945068, -9.048500061035156, -9.212699890136719, -8.989500045776367, -8.480199813842773, -8.065899848937988, -8.222000122070312, -9.193699836730957, -9.073200225830078, -8.551199913024902, -7.13539981842041, -7.189799785614014, -6.838200092315674, -7.460100173950195, -8.143099784851074, -6.153200149536133, -7.809299945831299, -5.558000087738037, -5.06850004196167, -6.645699977874756, -6.457699775695801, -6.88640022277832, -5.945799827575684, -3.6419999599456787, -4.942699909210205, -5.924600124359131, -5.3709001541137695, -6.76800012588501, -5.581099987030029, -5.487400054931641, -6.347099781036377, -5.972400188446045, -5.937399864196777, -6.479599952697754, -5.912600040435791, -5.153800010681152, -6.619100093841553, -5.545499801635742, -6.087500095367432, -4.632599830627441, -6.2221999168396, -5.401400089263916, -6.178999900817871, -5.472599983215332, -5.688300132751465, -5.041399955749512, -5.4882001876831055, -4.365099906921387, -5.946599960327148, -5.697400093078613, -4.9928998947143555, -5.264900207519531, -4.964000225067139, -5.597700119018555, -4.48330020904541, -5.128600120544434, -5.172599792480469, -5.604700088500977, -5.355800151824951, -5.748199939727783, -5.6869001388549805, -5.73799991607666], \"loglift\": [30.0, 29.0, 28.0, 27.0, 26.0, 25.0, 24.0, 23.0, 22.0, 21.0, 20.0, 19.0, 18.0, 17.0, 16.0, 15.0, 14.0, 13.0, 12.0, 11.0, 10.0, 9.0, 8.0, 7.0, 6.0, 5.0, 4.0, 3.0, 2.0, 1.0, 0.6583, 0.6566, 0.6565, 0.6546, 0.6535, 0.6531, 0.6508, 0.6507, 0.649, 0.6487, 0.6478, 0.6465, 0.6462, 0.6459, 0.6458, 0.6456, 0.6454, 0.6447, 0.6441, 0.6435, 0.6431, 0.6413, 0.6412, 0.6411, 0.641, 0.6404, 0.6398, 0.6387, 0.6383, 0.6383, 0.6363, 0.6364, 0.6217, 0.6374, 0.6381, 0.6355, 0.6365, 0.6219, 0.6022, 0.6156, 0.6214, 0.6109, 0.6257, 0.6291, 0.6301, 0.5471, 0.623, 0.6012, 0.6084, 0.6102, 0.5518, 0.5282, 0.5401, 0.5766, 0.5589, 0.4593, 0.5, 0.5707, 0.4746, 0.4489, 0.5228, 0.3428, 0.5555, 0.4972, 0.321, 0.438, 0.3955, 0.471, 0.5259, 0.3563, 0.4272, 0.1731, 0.0955, 0.0932, 0.2246, 0.2361, 0.4279, 0.3399, 0.377, 0.2648, 0.4095, 0.3565, 0.148, 0.018, 0.1388, 0.0307, -0.0656, -0.1687, 1.5447, 1.5433, 1.5405, 1.5359, 1.534, 1.5332, 1.5328, 1.532, 1.5314, 1.529, 1.5269, 1.5261, 1.5236, 1.5236, 1.5231, 1.5222, 1.5217, 1.5199, 1.5194, 1.5188, 1.5185, 1.5184, 1.5178, 1.5177, 1.5169, 1.5162, 1.5151, 1.5131, 1.5125, 1.5123, 1.5109, 1.5094, 1.5045, 1.5052, 1.5072, 1.5073, 1.4384, 1.4843, 1.498, 1.4922, 1.4291, 1.4611, 1.445, 1.4922, 1.4605, 1.4395, 1.4369, 1.4439, 1.4253, 1.302, 1.4325, 1.4375, 1.3229, 1.384, 1.3677, 1.275, 1.324, 1.3925, 1.2384, 1.3296, 1.3159, 1.153, 1.4131, 1.381, 1.1414, 0.861, 0.9155, 1.1805, -0.0525, 1.1072, 1.0432, 0.973, 0.2476, 0.4343, -0.2175, 0.0854, 0.5504, 0.2193, -0.8413, -0.0271, -0.2267, 0.4292, 0.348, 0.0157, 0.1168, -0.0164, 0.2798, 0.2454, -0.3805, -1.6129, -0.815, -0.6414, -1.5962, 1.7613, 1.7408, 1.738, 1.7328, 1.7323, 1.7288, 1.7278, 1.7267, 1.7236, 1.7216, 1.7206, 1.72, 1.7198, 1.7195, 1.7194, 1.7186, 1.7173, 1.7159, 1.7154, 1.7114, 1.7069, 1.7064, 1.6979, 1.6888, 1.6888, 1.6878, 1.6874, 1.6851, 1.6848, 1.6847, 1.6642, 1.6761, 1.6771, 1.6744, 1.5622, 1.6754, 1.5152, 1.5536, 1.6187, 1.5318, 1.5045, 1.5948, 1.5967, 1.5064, 1.2781, 1.4942, 1.2971, 1.4043, 1.45, 1.0241, 1.3955, 1.1542, 1.2923, 1.4065, 1.4881, 1.166, 0.577, 0.6347, 1.3192, 1.098, 0.7714, 1.3161, 0.7042, 0.9946, 1.1756, 0.177, 0.478, 0.6228, 0.6864, 0.2668, 1.0609, -0.0484, 0.4575, 0.4201, 0.9483, 0.4851, 0.2582, 0.6076, 0.1876, 0.9442, 0.1924, -0.4081, 0.424, 2.2298, 2.1975, 2.1865, 2.1745, 2.1682, 2.1682, 2.1618, 2.1596, 2.1586, 2.1538, 2.1533, 2.1466, 2.1429, 2.1422, 2.1352, 2.1338, 2.1335, 2.133, 2.1329, 2.1306, 2.1277, 2.1269, 2.1249, 2.1205, 2.1183, 2.1153, 2.1153, 2.1143, 2.1115, 2.1108, 2.1108, 2.1039, 2.1031, 2.1089, 2.0515, 2.0939, 2.0231, 1.9969, 2.0556, 2.0363, 2.0528, 1.9974, 1.819, 1.9167, 1.9746, 1.9171, 2.0061, 1.8868, 1.8678, 1.9514, 1.907, 1.8556, 1.9252, 1.8297, 1.6587, 1.9296, 1.6694, 1.8037, 1.4145, 1.8334, 1.543, 1.7775, 1.5203, 1.5925, 1.3251, 1.502, 0.9961, 1.6868, 1.4863, 1.0067, 1.0864, 0.8025, 1.3095, -0.1145, 0.5562, 0.6058, 1.162, -1.1612, 0.6642, -0.4708, 0.0469], \"Freq\": [3246.0, 3651.0, 2080.0, 9675.0, 3586.0, 7402.0, 2363.0, 1806.0, 1894.0, 2356.0, 11515.0, 801.0, 1419.0, 2595.0, 2391.0, 1091.0, 5993.0, 4476.0, 1312.0, 652.0, 840.0, 490.0, 1332.0, 1146.0, 2806.0, 2082.0, 2500.0, 736.0, 1066.0, 764.0, 2345.809290053218, 262.76847073902394, 392.1194867251073, 1133.5882217795597, 151.47029601440755, 113.1452906097139, 82.4155533223184, 122.06338857941512, 108.76406255832977, 243.73942526682842, 92.6611838520906, 88.32633561067834, 59.55852099253085, 158.87107480630303, 199.32196756598572, 84.51455906088187, 85.51169919916964, 118.80591863586658, 67.5664932358602, 137.50744715430483, 60.05102222029334, 71.29886791757833, 67.56455716376306, 91.50402563656746, 75.02072594731324, 67.48461113340889, 48.54258580115321, 54.432140032732136, 115.68470692618381, 65.50391772965702, 323.80258225484096, 254.4821508995758, 1040.503525020233, 213.36602834973687, 175.23155993391626, 179.5366052666853, 154.81908211586295, 585.1220462297587, 1959.8535695225123, 826.3153877602323, 580.3847871213642, 903.8902453175584, 329.1718027902551, 227.29960700742433, 179.3691178462113, 2596.7180017517835, 216.6769636688909, 369.2971375803735, 309.7358614083198, 290.63975223164715, 1051.4108740614763, 1579.853344235167, 1138.5474990964894, 518.3620186707383, 602.1683705777218, 2545.1403078970543, 1325.6736100883732, 494.9166667284519, 1770.5296386507998, 2134.27144074138, 860.4730151599158, 6796.780478048477, 559.2787143385244, 972.027793901714, 4257.403936976927, 1192.7147180212557, 1571.5316710318623, 868.5133278265009, 615.5031645231429, 1704.081444715945, 1090.6251093611502, 4535.697552197962, 6529.071884504632, 5472.881822199403, 2887.8071976551155, 2705.780494358222, 1060.872928098137, 1493.3860273433668, 1209.9809984891301, 1508.6240374405106, 1051.9726786510826, 1110.9855308974913, 1330.5047629654548, 1472.679541511699, 1325.0434358048278, 1247.5274165095777, 1206.5004678366863, 1129.660538665013, 81.47940898536037, 62.034988089340494, 138.7036193203188, 46.437734461556076, 72.5886602304039, 29.517020427651516, 45.68345994937161, 27.919439978541988, 62.412984781050696, 33.637666684440006, 77.17962441047587, 30.313139592054824, 58.81560331725559, 85.53123933990838, 61.71429180186398, 22.184233548727338, 30.16766250232902, 101.85995251686053, 28.71137937409291, 27.121846154116604, 23.223079874216904, 104.05748712466574, 18.790971566475502, 42.02230178780637, 24.680544139381524, 112.35199889738345, 14.987664867065503, 18.64494617561091, 141.8955350272154, 31.461488816922685, 46.97409742907677, 46.1777575353071, 66.60963238541017, 55.75958175812605, 45.592721394318836, 43.68099374499645, 622.184498851955, 101.48875147181259, 63.18271504525, 75.05339947711407, 574.7704408320238, 201.80066788957288, 254.38272361694135, 74.32230624476712, 155.29262408027623, 219.7088640557776, 222.7569581431961, 171.23147283979912, 199.37504940077324, 1102.7463311372132, 169.4931586341558, 148.1193611322436, 390.41686076595596, 197.62264608663875, 202.7514572869925, 347.30475234724736, 247.8054393508251, 152.93465209771233, 425.7936729134403, 217.52582244424033, 228.07640437417467, 459.9162914085166, 126.92936074696846, 129.49008439345963, 245.58155811014137, 497.9867532447369, 379.5322166809565, 209.0120371797047, 2308.323467079198, 235.9863116632998, 252.0677891644485, 277.187467333653, 635.264676891354, 480.71925459079966, 704.7691420420155, 514.974648844297, 342.10076166398466, 432.8229733509099, 852.6324946802351, 491.68629178225564, 525.4216664340821, 350.83664763477543, 359.7073757665659, 413.0458475506095, 382.27113937164427, 399.26966755174567, 322.4326667779281, 317.43343780473737, 334.37606040234573, 407.3564776870862, 335.33926700071555, 312.2235296959083, 316.93535964135674, 99.07874167298347, 26.51141124892034, 60.15243911708442, 34.90589107859074, 107.9806670829793, 33.682784193866105, 18.073722296257323, 167.25651837279787, 19.29451546677843, 82.55859960885975, 35.600895943352526, 187.90497226370223, 15.10473714109278, 15.80852929572458, 14.39839285022445, 27.469010615524198, 15.189511481076138, 32.7358980476401, 22.768296656251835, 20.343054748584834, 53.025271658024046, 13.956150593508035, 61.53577302968393, 17.088430720761988, 9.41762948424257, 17.714562232488483, 36.508892394545676, 18.96470079502484, 11.696589733684844, 13.815719088357666, 222.12851247181194, 62.288674556840995, 42.262047593098394, 39.109518291858706, 2907.1976678415886, 27.581178441073636, 828.6635810882261, 281.02049872222415, 74.27499066309623, 261.334000734371, 360.4673957879312, 87.26538822755661, 80.3590385349681, 201.099652052548, 1415.9875708168663, 162.562175940851, 700.0301852165679, 255.32690844413952, 154.01653654225734, 1666.929532555496, 188.2561373038119, 564.6079548109376, 273.54011041283957, 156.78451800791834, 105.20136752859213, 361.2716109317785, 2875.9023287053174, 2330.9535600353393, 200.56082196881223, 366.72988353340514, 902.61806574369, 190.39095891018988, 947.4756961906329, 422.6273781096825, 262.80088440686217, 2294.4138713069124, 1205.1974676790437, 807.4421573049694, 628.127651492914, 1306.340124060248, 317.59239761791133, 1488.7507245855604, 592.5409681003225, 607.581780305205, 332.32031105512493, 436.5500076786051, 481.1927057652138, 388.11342687740574, 415.3745093596352, 312.4876649996025, 388.7310605454657, 460.19749532252985, 334.741743776537, 2060.3045991678805, 470.3675369741975, 220.05815175897, 17.64384627503264, 15.810372960332346, 15.55567080715129, 19.327704984719656, 14.276112279962065, 20.052986427030373, 26.55826061531737, 32.854759169648936, 11.02352372892989, 31.377331816833912, 57.233213866558806, 48.98761941022357, 26.876473733806517, 34.41908579560353, 39.804323592337944, 23.185201085741074, 48.25558455554722, 9.565383383028642, 8.11702625002663, 10.146533223949017, 16.88631681508469, 25.552793070358923, 21.859564490100627, 8.27301184240658, 9.332583052892062, 15.729099952193039, 64.7950750479632, 61.3688548915957, 87.22577647428992, 46.83082766249686, 23.65471242642161, 173.0344919146418, 33.028844238682716, 313.7856268070055, 511.9353299787935, 105.73859416910841, 127.61298206783766, 83.11515527921631, 212.91419703897398, 2131.7796088866303, 580.5173028682167, 217.4761507715265, 378.3481732478577, 93.56875564970319, 306.6085964685231, 336.72093505952154, 142.52812533709297, 207.3204961785619, 214.7040881115321, 124.83915764809568, 220.09261026413998, 470.0779642913894, 108.59050432733888, 317.73181709230715, 184.78021992621578, 791.6131365238737, 161.49651894770707, 366.95208824338755, 168.61946515630484, 341.7566885022477, 275.4463248425935, 525.9654162987399, 336.4669764447286, 1034.3411201794215, 212.74268120290537, 272.9557269818378, 552.1136060212035, 420.6262016982107, 568.3089519018569, 301.54575360172163, 919.0580031413921, 482.0695619778402, 461.30765905690686, 299.4635809039479, 384.0789314391684, 259.4243512760224, 275.82586093444627, 262.0732233592602], \"Term\": [\"\\u0437\\u0430\\u0434\\u0435\\u0440\\u0436\\u0430\\u0442\\u044c\", \"\\u0433\\u0443\", \"\\u0443\\u0433\\u043e\\u043b\\u043e\\u0432\\u043d\\u044b\\u0439\", \"\\u043f\\u043e\\u043b\\u0438\\u0446\\u0438\\u044f\", \"\\u043f\\u0435\\u0442\\u0440\\u043e\\u0432\\u043a\\u043038\", \"\\u043c\\u043e\\u0441\\u043a\\u0432\\u0430\", \"\\u0443\\u0432\\u0434\", \"\\u0441\\u0440\\u0435\\u0434\\u0441\\u0442\\u0432\\u043e\", \"\\u0440\\u0430\\u0439\\u043e\\u043d\", \"\\u043f\\u043e\\u0447\\u0442\\u0430\", \"\\u0433\\u043e\\u0434\", \"\\u0432\\u043e\\u0437\\u0431\\u0443\\u0434\\u0438\\u0442\\u044c\", \"\\u043a\\u043e\\u043d\\u043a\\u0443\\u0440\\u0441\", \"\\u043f\\u043e\\u043b\\u0438\\u0446\\u0435\\u0439\\u0441\\u043a\\u0438\\u0439\", \">\\u0442\\u044c\", \"\\u043c\\u0443\\u0436\\u0447\\u0438\\u043d\\u0430\", \"\\u043c\\u0432\\u0434\", \"\\u0441\\u043e\\u0442\\u0440\\u0443\\u0434\\u043d\\u0438\\u043a\", \"\\u0445\\u043e\\u0434\", \"\\u0438\\u0437\\u044a\\u044f\\u0442\\u044c\", \"\\u043e\\u043c\\u0432\\u0434\", \"\\u0443\\u0447\\u0430\\u0441\\u0442\\u043a\\u043e\\u0432\\u044b\\u0439\", \"\\u0440\\u0444\", \"\\u043e\\u043a\\u0440\\u0443\\u0433\\u0430\", \"\\u0441\\u043b\\u0443\\u0436\\u0431\\u0430\", \"\\u043f\\u043e\\u0434\\u043e\\u0437\\u0440\\u0435\\u0432\\u0430\\u0442\\u044c\", \"\\u0443\\u043f\\u0440\\u0430\\u0432\\u043b\\u0435\\u043d\\u0438\\u0435\", \"\\u043a\\u0440\\u0430\\u0436\\u0430\", \"\\u0441\\u0442\", \"\\u043f\\u0440\\u0435\\u0434\\u0443\\u0441\\u043c\\u043e\\u0442\\u0440\\u0435\\u043d\\u043d\\u044b\\u0439\", \"\\u043f\\u043e\\u0447\\u0442\\u0430\", \"\\u043f\\u0435\\u0448\\u0435\\u0445\\u043e\\u0434\", \"\\u043f\\u043e\\u0434\\u043f\\u0438\\u0441\\u043a\\u0430\", \"\\u0440\\u043e\\u0437\\u044b\\u0441\\u043a\", \"\\u043c\\u0430\\u043c\\u0430\", \"\\u043e\\u0444\\u043e\\u0440\\u043c\\u043b\\u0435\\u043d\\u0438\\u0435\", \"\\u043f\\u043e\\u0440\\u0442\\u0430\\u043b\", \"\\u043d\\u0430\\u043f\\u043e\\u043c\\u0438\\u043d\\u0430\\u0442\\u044c\", \"\\u0430\\u0440\\u0442\\u0435\\u043a\", \"\\u043d\\u0435\\u0441\\u043e\\u0432\\u0435\\u0440\\u0448\\u0435\\u043d\\u043d\\u043e\\u043b\\u0435\\u0442\\u043d\\u0438\\u0439\", \"\\u0443\\u0434\\u043e\\u0432\\u043e\\u043b\\u044c\\u0441\\u0442\\u0432\\u0438\\u0435\", \"\\u0444\\u0433\\u0443\\u043f\", \"\\u0431\\u0430\\u0433\\u0430\\u0436\", \"\\u043f\\u043e\\u043d\\u0435\\u0434\\u0435\\u043b\\u044c\\u043d\\u0438\\u043a\", \"\\u0441\\u043e\\u0431\\u043b\\u044e\\u0434\\u0435\\u043d\\u0438\\u0435\", \"\\u043b\\u0438\\u0447\\u043d\\u043e\\u0441\\u0442\\u044c\", \"\\u0431\\u0435\\u0441\\u043f\\u043b\\u0430\\u0442\\u043d\\u043e\", \"\\u0437\\u0430\\u043f\\u0440\\u0435\\u0442\\u0438\\u0442\\u044c\", \"\\u0441\\u043f\\u0430\\u0441\\u0438\\u0431\\u043e\", \"\\u043e\\u043f\\u043b\\u0430\\u0442\\u0430\", \"\\u0432\\u0435\\u0442\\u0435\\u0440\\u0430\\u043d\\u0441\\u043a\\u0438\\u0439\", \"\\u0438\\u0433\\u0440\\u043e\\u0432\\u043e\\u0439\", \"\\u0432\\u044b\\u043f\\u043b\\u0430\\u0442\\u0430\", \"\\u043e\\u0442\\u043f\\u0440\\u0430\\u0432\\u0438\\u0442\\u0435\\u043b\\u044c\", \"\\u0440\\u0430\\u0434\\u043e\\u0441\\u0442\\u044c\", \"\\u0441\\u043a\\u0438\\u0434\\u043a\\u0430\", \"\\u0432\\u044b\\u0440\\u0430\\u0436\\u0430\\u0442\\u044c\", \"\\u0440\\u0435\\u043a\\u043e\\u043c\\u0435\\u043d\\u0434\\u043e\\u0432\\u0430\\u0442\\u044c\", \"\\u0451\\u043b\\u043a\\u0430\", \"\\u043f\\u043e\\u043b\\u0443\\u0433\\u043e\\u0434\\u0438\\u0435\", \"\\u043a\\u043b\\u0438\\u0435\\u043d\\u0442\", \"\\u0431\\u043b\\u0438\\u0437\\u043a\\u0438\\u0435\", \"\\u0433\\u0438\\u0431\\u0434\\u0434\", \"\\u0440\\u043e\\u0441\\u0442\", \"\\u043e\\u0444\\u043e\\u0440\\u043c\\u0438\\u0442\\u044c\", \"\\u043f\\u0440\\u0430\\u0432\\u043e\\u043d\\u0430\\u0440\\u0443\\u0448\\u0435\\u043d\\u0438\\u0435\", \"\\u043f\\u0430\\u0441\\u043f\\u043e\\u0440\\u0442\", \"\\u0432\\u0430\\u0448\", \"\\u043f\\u043e\\u0434\\u043e\\u0437\\u0440\\u0435\\u0432\\u0430\\u0442\\u044c\", \"\\u043f\\u0440\\u0430\\u0432\\u0438\\u043b\\u043e\", \"\\u0443\\u0441\\u043b\\u0443\\u0433\\u0430\", \"\\u0442\\u0435\\u043b\\u0435\\u0444\\u043e\\u043d\", \"\\u043f\\u043e\\u0437\\u0434\\u0440\\u0430\\u0432\\u043b\\u0435\\u043d\\u0438\\u0435\", \"\\u043c\\u043e\\u0440\\u043e\\u0437\", \"\\u043a\\u043e\\u0440\\u0440\\u0435\\u0441\\u043f\\u043e\\u043d\\u0434\\u0435\\u043d\\u0446\\u0438\\u044f\", \"\\u043d\\u043e\\u0432\\u043e\\u0441\\u0442\\u044c\", \"\\u0442\\u0435\\u043a\\u0441\\u0442\", \"\\u043f\\u043e\\u0434\\u0430\\u0440\\u043e\\u043a\", \"\\u0434\\u043e\\u0431\\u0440\\u044b\\u0439\", \"\\u043a\\u043e\\u043d\\u0432\\u0435\\u0440\\u0442\", \"\\u043f\\u0438\\u0441\\u044c\\u043c\\u043e\", \"\\u0440\\u0435\\u0431\\u0451\\u043d\\u043e\\u043a\", \"\\u043d\\u0430\\u0448\", \"\\u0434\\u0435\\u043d\\u0435\\u0436\\u043d\\u044b\\u0439\", \"\\u043c\\u043e\\u0447\\u044c\", \"\\u043f\\u043e\\u0447\\u0442\\u043e\\u0432\\u044b\\u0439\", \"\\u043e\\u0442\\u0434\\u0435\\u043b\\u0435\\u043d\\u0438\\u0435\", \"\\u043c\\u0438\\u043b\\u043b\\u0438\\u043e\\u043d\", \"\\u0441\\u0432\\u043e\\u0439\", \"\\u0434\\u0435\\u043b\\u043e\", \"\\u0432\\u0435\\u0442\\u0435\\u0440\\u0430\\u043d\", \"\\u0440\\u043e\\u0441\\u0441\\u0438\\u044f\", \"\\u0433\\u043e\\u0441\\u0430\\u0432\\u0442\\u043e\\u0438\\u043d\\u0441\\u043f\\u0435\\u043a\\u0446\\u0438\\u044f\", \"\\u043c\\u0430\\u0440\\u043a\\u0430\", \"\\u043c\\u0432\\u0434\", \"\\u0431\\u0435\\u0437\\u043e\\u043f\\u0430\\u0441\\u043d\\u043e\\u0441\\u0442\\u044c\", \"\\u0440\\u0430\\u0431\\u043e\\u0442\\u0430\", \"\\u0430\\u043a\\u0446\\u0438\\u044f\", \"\\u0432\\u043d\\u0438\\u043c\\u0430\\u043d\\u0438\\u0435\", \"\\u0434\\u0435\\u043d\\u044c\", \"\\u0433\\u0440\\u0430\\u0436\\u0434\\u0430\\u043d\\u0438\\u043d\", \"\\u043c\\u043e\\u0441\\u043a\\u0432\\u0430\", \"\\u0433\\u043e\\u0434\", \"\\u043f\\u043e\\u043b\\u0438\\u0446\\u0438\\u044f\", \"\\u0441\\u043e\\u0442\\u0440\\u0443\\u0434\\u043d\\u0438\\u043a\", \"\\u043a\\u043e\\u0442\\u043e\\u0440\\u044b\\u0439\", \"\\u0441\\u0442\\u043e\\u043b\\u0438\\u0447\\u043d\\u044b\\u0439\", \"\\u0432\\u043d\\u0443\\u0442\\u0440\\u0435\\u043d\\u043d\\u0438\\u0439\", \"\\u0447\\u0435\\u043b\\u043e\\u0432\\u0435\\u043a\", \"\\u043d\\u0430\\u0447\\u0430\\u043b\\u044c\\u043d\\u0438\\u043a\", \"\\u044d\\u0442\\u043e\", \"\\u0440\\u043e\\u0441\\u0441\\u0438\\u0439\\u0441\\u043a\\u0438\\u0439\", \"\\u043c\\u0435\\u0440\\u043e\\u043f\\u0440\\u0438\\u044f\\u0442\\u0438\\u0435\", \"\\u0441\\u043b\\u0443\\u0436\\u0431\\u0430\", \"\\u043e\\u0434\\u0438\\u043d\", \"\\u0442\\u0430\\u043a\\u0436\\u0435\", \"\\u0443\\u043f\\u0440\\u0430\\u0432\\u043b\\u0435\\u043d\\u0438\\u0435\", \"\\u043f\\u043e\\u043b\\u0438\\u0446\\u0435\\u0439\\u0441\\u043a\\u0438\\u0439\", \"instagram\", \"\\u0434\\u0432\\u0443\\u0445\\u043a\\u043e\\u043b\\u0451\\u0441\\u043d\\u044b\\u0439\", \"\\u0434\\u0432\\u043e\\u0440\\u0435\\u0446\", \"1969\", \"\\u043e\\u0431\\u043b\\u043e\\u0436\\u043a\\u0430\", \"\\u0441\\u043e\\u043b\\u044c\\u043d\\u044b\\u0439\", \"\\u043d\\u0438\\u043a\\u0438\\u0444\\u043e\\u0440\\u043e\\u0432\", \"\\u043a\\u0430\\u043d\\u0430\\u0434\\u0430\", \"\\u0441\\u0442\\u0438\\u0445\\u043e\\u0442\\u0432\\u043e\\u0440\\u0435\\u043d\\u0438\\u0435\", \">\\u0434\\u0440\\u043e\\u0431\\u043d\\u044b\\u0439\", \"\\u043d\\u0430\\u0433\\u043e\\u0440\\u043d\\u044b\\u0439\", \"\\u0431\\u043e\\u043a\\u043e\\u0432\", \"\\u0432\\u044b\\u043f\\u0443\\u0441\\u043a\\u043d\\u043e\\u0439\", \"\\u0434\\u0438\\u043d\\u0430\\u043c\\u043e\", \"\\u043a\\u043e\\u043c\\u043f\\u043e\\u0437\\u0438\\u0446\\u0438\\u044f\", \"1996\", \"\\u043a\\u043e\\u043c\\u0438\", \"\\u0436\\u044e\\u0440\\u0438\", \"\\u043e\\u043c\\u0441\\u043a\\u0438\\u0439\", \"\\u043a\\u0440\\u0430\\u0432\\u0447\\u0435\\u043d\\u043a\\u043e\", \"\\u043f\\u0440\\u043e\\u0441\\u0442\\u043e\\u0440\", \"\\u0433\\u0430\\u043b\\u0430-\\u043a\\u043e\\u043d\\u0446\\u0435\\u0440\\u0442\", \"\\u043f\\u0435\\u0441\\u043e\\u043a\", \"\\u0444\\u0438\\u043d\\u0441\\u043a\\u0438\\u0439\", \"\\u043f\\u0430\\u0440\\u043a\\u043e\\u0432\\u043e\\u0447\\u043d\\u044b\\u0439\", \"\\u043b\\u0438\\u0440\\u0430\", \"\\u0430\\u0432\\u0442\\u043e\\u0434\\u0440\\u043e\\u043c\", \"\\u043f\\u0440\\u0435\\u0442\\u0435\\u043d\\u0434\\u0435\\u043d\\u0442\", \"\\u0437\\u0430\\u0432\\u043e\\u0435\\u0432\\u0430\\u0442\\u044c\", \"1977\", \"\\u043a\\u0440\\u0435\\u0449\\u0435\\u043d\\u0438\\u0435\", \"\\u0430\\u0440\\u0445\\u0438\\u0442\\u0435\\u043a\\u0442\\u0443\\u0440\\u0430\", \"\\u043a\\u0438\\u043d\\u043e\\u043b\\u043e\\u0433\\u043e\\u0432\\u043e\", \"\\u0441\\u0442\\u0430\\u0440\\u0448\\u0435\\u043a\\u043b\\u0430\\u0441\\u0441\\u043d\\u0438\\u043a\", \"\\u0432\\u043e\\u043a\\u0430\\u043b\\u044c\\u043d\\u044b\\u0439\", \"\\u0440\\u0435\\u0442\\u0440\\u043e-\\u0430\\u0432\\u0442\\u043e\\u043c\\u043e\\u0431\\u0438\\u043b\\u044c\", \"\\u0443\\u043d\\u0438\\u0432\\u0435\\u0440\\u0441\\u0438\\u0442\\u0435\\u0442\", \"\\u0437\\u0430\\u0440\\u044f\\u0434\\u043a\\u0430\", \"\\u0442\\u0430\\u043b\\u0430\\u043d\\u0442\", \"\\u0442\\u0432\\u0435\\u0440\\u0441\\u043a\\u043e\\u0439\", \"\\u0441\\u043e\\u0440\\u0435\\u0432\\u043d\\u043e\\u0432\\u0430\\u043d\\u0438\\u0435\", \"\\u043a\\u0443\\u043f\\u0438\\u0442\\u044c\", \"\\u0432\\u0435\\u043b\\u043e\\u0441\\u0438\\u043f\\u0435\\u0434\", \"\\u0432\\u043e\\u043b\\u0435\\u0439\\u0431\\u043e\\u043b\", \"\\u043f\\u0435\\u0440\\u0435\\u043f\\u0438\\u0441\\u043a\\u0430\", \"\\u043a\\u0438\\u043a\\u043e\\u0442\\u0438\\u0442\\u044c\", \"\\u0432.\\u044f\", \"\\u043c\\u0443\\u0437\\u044b\\u043a\\u0430\\u043b\\u044c\\u043d\\u044b\\u0439\", \"\\u0442\\u0438\\u0440\\u0430\\u0436\", \"\\u043a\\u043e\\u043d\\u043a\\u0443\\u0440\\u0441\", \"\\u043e\\u0441\\u0442\\u0440\\u043e\\u0432\", \"\\u043c\\u0435\\u043b\\u043a\\u0438\\u0439\", \"\\u043c\\u0443\\u0437\\u0435\\u0439\", \"\\u043c\\u0430\\u0441\\u0442\\u0435\\u0440\", \"\\u0440\\u0438\\u0441\\u0443\\u043d\\u043e\\u043a\", \"\\u0443\\u0447\\u0435\\u0431\\u043d\\u044b\\u0439\", \"\\u043f\\u0435\\u0440\\u0435\\u0432\\u043e\\u0434\", \"\\u043a\\u0430\\u0440\\u0442\\u0438\\u043d\\u0430\", \"\\u044d\\u0442\\u0430\\u043f\", \"\\u0436\\u0443\\u0440\\u043d\\u0430\\u043b\", \"\\u043a\\u043e\\u0440\\u0430\\u0431\\u043b\\u044c\", \"\\u043a\\u043e\\u043c\\u0430\\u043d\\u0434\\u0430\", \"\\u0433\\u043e\\u043d\\u043a\\u0430\", \"\\u044d\\u0441\\u0442\\u0430\\u0444\\u0435\\u0442\\u0430\", \"\\u0443\\u0447\\u0430\\u0449\\u0438\\u0439\\u0441\\u044f\", \"\\u043f\\u0440\\u043e\\u0439\\u0442\\u0438\", \"\\u043f\\u043e\\u0434\\u0433\\u043e\\u0442\\u043e\\u0432\\u043a\\u0430\", \"\\u0432\\u044b\\u0441\\u0442\\u0430\\u0432\\u043a\\u0430\", \"\\u0433\\u043e\\u0434\", \"\\u043a\\u0438\\u043b\\u043e\\u043c\\u0435\\u0442\\u0440\", \"\\u043f\\u043e\\u0431\\u0435\\u0434\\u0438\\u0442\\u0435\\u043b\\u044c\", \"\\u0441\\u043f\\u043e\\u0440\\u0442\", \"\\u0442\\u0430\\u043a\\u0436\\u0435\", \"\\u0443\\u0447\\u0430\\u0441\\u0442\\u0438\\u0435\", \"\\u043a\\u043e\\u0442\\u043e\\u0440\\u044b\\u0439\", \"\\u043e\\u0434\\u0438\\u043d\", \"\\u0441\\u043e\\u0441\\u0442\\u043e\\u044f\\u0442\\u044c\\u0441\\u044f\", \"\\u0434\\u0432\\u0438\\u0436\\u0435\\u043d\\u0438\\u0435\", \"\\u0440\\u043e\\u0441\\u0441\\u0438\\u044f\", \">\\u0442\\u044c\", \"\\u043f\\u043e\\u0447\\u0442\\u043e\\u0432\\u044b\\u0439\", \"\\u0441\\u043e\\u0441\\u0442\\u0430\\u0432\", \"\\u043f\\u0440\\u0438\\u043d\\u044f\\u0442\\u044c\", \"\\u0432\\u0440\\u0435\\u043c\\u044f\", \"\\u043c\\u0435\\u0441\\u0442\\u043e\", \"\\u043c\\u043e\\u0441\\u043a\\u043e\\u0432\\u0441\\u043a\\u0438\\u0439\", \"\\u043e\\u0442\\u043a\\u0440\\u044b\\u0442\\u043a\\u0430\", \"\\u0441\\u0442\\u0430\\u0442\\u044c\", \"\\u0434\\u0435\\u043d\\u044c\", \"\\u043f\\u043e\\u043b\\u0438\\u0446\\u0438\\u044f\", \"\\u043f\\u0435\\u0442\\u0440\\u043e\\u0432\\u043a\\u043038\", \"\\u0441\\u043b\\u0443\\u0436\\u0431\\u0430\", \"\\u043c\\u043e\\u0441\\u043a\\u0432\\u0430\", \"\\u0432\\u043e\\u043b\\u043a\", \"\\u043c\\u043e\\u0441\\u043a\\u0432\\u0435<><>#\\u043c\\u0432\\u0434\", \"\\u0433\\u043e\\u043b\\u044c\\u044f\\u043d\\u043e\\u0432\\u043e\", \"\\u043b\\u0435\\u043d\\u0438\\u043d\\u0441\\u043a\\u0438\\u0439\", \"\\u043f\\u0430\\u0442\\u0435\\u043d\\u0442\", \">\\u0438\\u043d\\u0441\\u043f\\u0435\\u043a\\u0442\\u043e\\u0440\", \"\\u043d\\u0430\\u0448\\u0438\\u0433\\u0435\\u0440\\u043e\\u0439\", \"\\u0431\\u043b\\u0430\\u0433\\u043e\\u0442\\u0432\\u043e\\u0440\\u0438\\u0442\\u0435\\u043b\\u044c\\u043d\\u044b\\u0439\", \"\\u0434\\u043e\\u043d\\u0441\\u043a\\u0438\\u0439\", \"\\u044e\\u0433\\u043e-\\u0437\\u0430\\u043f\\u0430\\u0434\\u043d\\u044b\\u0439\", \"\\u0432\\u0435\\u0441\\u0451\\u043b\\u044b\\u0439\", \">\\u0444\\u043e\\u0442\\u043e\", \"\\u0432\\u044b\\u0445\\u043e\\u0434\\u043d\\u044b\\u0445!<><>\\u0444\\u043e\\u0442\\u043e\", \"\\u043f\\u0435\\u0442\\u044c\", \"\\u043a\\u0440\\u0430\\u0441\\u043d\\u043e\\u0434\\u0430\\u0440\", \"\\u043d\\u0435\\u0434\\u0435\\u043b\\u0438!<><>\\u0444\\u043e\\u0442\\u043e\", \"\\u0441\\u043a\\u043e\\u0440\\u0431\\u044c\", \"\\u0431\\u0443\\u0442\\u043e\\u0432\\u044b\\u0439\", \"\\u043c\\u043e\\u0441\\u043a\\u0432\\u0430-\\u0440\\u0435\\u043a\\u0430\", \"\\u0432\\u043b\\u044e\\u0431\\u0438\\u0442\\u044c\", \"\\u043e\\u0447\\u0435\\u0432\\u0438\\u0434\\u0435\\u0446\", \"\\u043b\\u044c\\u0432\\u0451\\u043d\\u043e\\u043a\", \"\\u0441\\u0442\\u0443\\u0434\\u0435\\u043d\\u0447\\u0435\\u0441\\u043a\\u0438\\u0439\", \"\\u043b\\u044e\\u0431\\u043b\\u0438\\u043d\\u043e\", \"\\u043f\\u043e\\u0442\\u0435\\u0440\\u044f\\u0442\\u044c\\u0441\\u044f\", \"\\u044f\\u043a\\u0443\\u0442\\u0441\\u043a\", \"\\u043a\\u043e\\u043c\\u0441\\u043e\\u043c\\u043e\\u043b\\u044c\\u0441\\u043a\\u0438\\u0439\", \"\\u043f\\u0435\\u0440\\u0447\\u0430\\u0442\\u043a\\u0430\", \"\\u0438\\u0437\\u0432\\u043b\\u0435\\u0447\\u0435\\u043d\\u0438\\u0435\", \"\\u0442\\u0430\\u0431\\u0435\\u043b\\u044c\\u043d\\u044b\\u0439\", \"\\u0442\\u0438\\u043d\\u0430\\u043e\", \"\\u0432\\u0438\\u043a\\u0442\\u043e\\u0440\\u0438\\u043d\", \"\\u0441\\u0442\\u043e\\u043b\\u043a\\u043d\\u043e\\u0432\\u0435\\u043d\\u0438\\u0435\", \"24-\\u043b\\u0435\\u0442\\u043d\\u0438\\u0439\", \"\\u0433\\u0443\", \"\\u043f\\u043f\\u0441\\u043f\", \"\\u043c\\u0443\\u0436\\u0447\\u0438\\u043d\\u0430\", \"\\u0434\\u0442\\u043f\", \"\\u0437\\u0430\\u043a\\u043e\\u043d\\u043e\\u043f\\u043e\\u0441\\u043b\\u0443\\u0448\\u043d\\u044b\\u0439\", \">#\\u043c\\u0432\\u0434\", \"\\u0432\\u0430\\u043e\", \"\\u0441\\u0435\\u0440\\u0436\\u0430\\u043d\\u0442\", \"112\", \"\\u0441\\u0432\\u0430\\u043e\", \"\\u0443\\u0432\\u0434\", \"><>#\\u043c\\u0432\\u0434\", \"\\u043e\\u043a\\u0440\\u0443\\u0433\\u0430\", \"\\u043f\\u0440\\u043e\\u043f\\u0430\\u0441\\u0442\\u044c\", \"\\u043f\\u0440\\u043e\\u0441\\u043f\\u0435\\u043a\\u0442\", \"\\u043f\\u0435\\u0442\\u0440\\u043e\\u0432\\u043a\\u043038\", \"\\u043f\\u0435\\u0442\\u0440\\u043e\\u0432\\u043a\\u0430\", \"\\u0441\\u0442\", \"\\u043e\\u043f\\u0435\\u0440\\u0430\\u0442\\u0438\\u0432\\u043d\\u044b\\u0439\", \"\\u043c\\u0438\\u043b\\u0438\\u0446\\u0438\\u044f\", \"\\u043c\\u0435\\u0442\\u0440\\u043e\\u043f\\u043e\\u043b\\u0438\\u0442\\u0435\\u043d\", \"\\u0441\\u043b\\u0443\\u0436\\u0435\\u0431\\u043d\\u044b\\u0439\", \"\\u043f\\u043e\\u043b\\u0438\\u0446\\u0438\\u044f\", \"\\u043c\\u043e\\u0441\\u043a\\u0432\\u0430\", \"38\", \"\\u043e\\u0442\\u0434\\u0435\\u043b\", \"\\u0443\\u043f\\u0440\\u0430\\u0432\\u043b\\u0435\\u043d\\u0438\\u0435\", \"\\u043c\\u0435\\u0441\\u0442\\u043e\\u043d\\u0430\\u0445\\u043e\\u0436\\u0434\\u0435\\u043d\\u0438\\u0435\", \"\\u0441\\u043b\\u0443\\u0436\\u0431\\u0430\", \"\\u043f\\u043e\\u0434\\u0440\\u0430\\u0437\\u0434\\u0435\\u043b\\u0435\\u043d\\u0438\\u0435\", \"\\u0434\\u043f\\u0441\", \"\\u0433\\u043e\\u0434\", \"\\u0441\\u043e\\u0442\\u0440\\u0443\\u0434\\u043d\\u0438\\u043a\", \"\\u043f\\u043e\\u043b\\u0438\\u0446\\u0435\\u0439\\u0441\\u043a\\u0438\\u0439\", \"\\u0440\\u0430\\u0439\\u043e\\u043d\", \"\\u043c\\u0432\\u0434\", \"\\u043f\\u043e\\u043b\\u043a\\u043e\\u0432\\u043d\\u0438\\u043a\", \"\\u0440\\u043e\\u0441\\u0441\\u0438\\u044f\", \"\\u043d\\u0430\\u0447\\u0430\\u043b\\u044c\\u043d\\u0438\\u043a\", \">\\u0442\\u044c\", \"\\u0443\\u043a\", \"\\u043c\\u0435\\u0441\\u0442\\u043e\", \"\\u043c\\u0435\\u0440\\u043e\\u043f\\u0440\\u0438\\u044f\\u0442\\u0438\\u0435\", \"\\u043c\\u0447\\u0441\", \"\\u0432\\u043d\\u0443\\u0442\\u0440\\u0435\\u043d\\u043d\\u0438\\u0439\", \"\\u043f\\u0440\\u0438\\u0437\\u043d\\u0430\\u043a\", \"\\u043c\\u043e\\u0441\\u043a\\u043e\\u0432\\u0441\\u043a\\u0438\\u0439\", \"\\u043a\\u043e\\u0442\\u043e\\u0440\\u044b\\u0439\", \"\\u0445\\u043e\\u0434\", \"\\u0443\\u0433\\u043e\\u043b\\u043e\\u0432\\u043d\\u044b\\u0439\", \"\\u0443\\u0447\\u0430\\u0441\\u0442\\u043a\\u043e\\u0432\\u044b\\u0439\", \"\\u043e\\u0433\\u0440\\u0430\\u043d\\u0438\\u0447\\u0435\\u043d\\u0438\\u0435\", \"><>\\u043f\\u043e\\u0434\\u0440\\u043e\\u0431\\u043d\\u044b\\u0439\", \"\\u043a\\u0430\\u0440\\u043c\\u0430\\u043d\\u043d\\u044b\\u0439\", \"\\u0442\\u043e\\u043b\\u043c\\u0430\\u0447\\u0435\\u0432\\u043e\", \"\\u043f\\u0443\\u0448\\u043a\\u0438\\u043d\", \">\\u043c\\u0430\\u043a\\u0441\\u0438\\u043c\\u0430\\u043b\\u044c\\u043d\\u044b\\u0439\", \"\\u043a\\u043e\\u0440\\u0438\\u0447\\u043d\\u0435\\u0432\\u044b\\u0439\", \"\\u043b\\u0438\\u0444\\u0442\", \"\\u0432\\u0435\\u0441\\u044b\", \"\\u0440\\u0430\\u0441\\u043f\\u043e\\u0440\\u044f\\u0434\\u0438\\u0442\\u044c\\u0441\\u044f\", \"\\u0430\\u0432\\u0442\\u043e\\u043c\\u043e\\u0439\\u043a\\u0430\", \"\\u0441\\u0432\\u0451\\u0440\\u0442\\u043a\\u0430\", \"\\u0430\\u043c\\u0444\\u0435\\u0442\\u0430\\u043c\\u0438\\u043d\", \"13.00\", \"\\u0432\\u0438\\u043d\\u043e\\u0432\\u043d\\u044b\\u0439\", \"\\u0433\\u0430\\u0448\\u0438\\u0448\", \">\\u043c\\u0430\\u0442\\u0435\\u0440\\u0438\\u0430\\u043b\\u044c\\u043d\\u044b\\u0439\", \"\\u043f\\u043e\\u0440\\u043e\\u0448\\u043a\\u043e\\u043e\\u0431\\u0440\\u0430\\u0437\\u043d\\u044b\\u0439\", \"\\u043f\\u043e\\u043b\\u0433\\u043e\\u0434\\u0430\", \"\\u0433\\u0440\\u0430\\u0431\\u0435\\u0436\\u0435<><\", \"\\u0432\\u044b\\u0440\\u0430\\u0449\\u0438\\u0432\\u0430\\u0442\\u044c\", \"222\", \"48\", \"\\u0438\\u043d\\u0442\\u0438\\u043c\\u043d\\u044b\\u0439\", \"\\u043c\\u0435\\u0442\\u0435\\u043e\\u0440\\u0438\\u0442\", \"\\u0430\\u0437\\u0430\\u0440\\u0442\\u043d\\u044b\\u0439\", \"\\u0441\\u0442\\u0440\\u0430\\u0436\\u0443.<><>\\u0441\\u043e\\u0442\\u0440\\u0443\\u0434\\u043d\\u0438\\u043a\", \"\\u0447\\u0430\\u0441\\u0442\\u043d\\u043e\\u0435\", \"\\u0444\\u0438\\u0440\\u043c\\u0430\", \"\\u044e\\u0432\\u0435\\u043b\\u0438\\u0440\\u043d\\u044b\\u0439\", \"\\u043c\\u0430\\u0440\\u0438\\u0445\\u0443\\u0430\\u043d\\u0430\", \"\\u0438\\u0433\\u043e\\u0440\\u043d\\u044b\\u0439\", \"\\u0433\\u0440\\u0430\\u043c\\u043c\", \"\\u043f\\u043e\\u0436\\u0438\\u043b\\u043e\\u0439\", \"\\u043d\\u0430\\u043f\\u0430\\u0434\\u0435\\u043d\\u0438\\u0435\", \"\\u0438\\u0437\\u044a\\u044f\\u0442\\u044c\", \"\\u0433\\u0435\\u0440\\u043e\\u0438\\u043d\", \"\\u0431\\u0435\\u0437\\u0440\\u0430\\u0431\\u043e\\u0442\\u043d\\u044b\\u0439\", \"\\u043e\\u0431\\u044b\\u0441\\u043a\", \"\\u0443\\u043f\\u043e\\u043b\\u043d\\u043e\\u043c\\u043e\\u0447\\u0435\\u043d\\u043d\\u044b\\u0439\", \"\\u0437\\u0430\\u0434\\u0435\\u0440\\u0436\\u0430\\u0442\\u044c\", \"\\u0432\\u043e\\u0437\\u0431\\u0443\\u0434\\u0438\\u0442\\u044c\", \"\\u043e\\u043f\\u0435\\u0440\\u0430\\u0442\\u0438\\u0432\\u043d\\u0438\\u043a\", \"\\u043c\\u043e\\u0448\\u0435\\u043d\\u043d\\u0438\\u0447\\u0435\\u0441\\u0442\\u0432\\u043e\", \"\\u043f\\u0440\\u0438\\u0442\\u043e\\u043d\", \"\\u043f\\u043e\\u0434\\u043e\\u0437\\u0440\\u0435\\u043d\\u0438\\u0435\", \"\\u0441\\u0431\\u044b\\u0442\", \"\\u0440\\u0430\\u0437\\u0431\\u043e\\u0439\", \"\\u043f\\u043e\\u0445\\u0438\\u0442\\u0438\\u0442\\u044c\", \"\\u043e\\u043f\\u0435\\u0440\\u0430\\u0442\\u0438\\u0432\\u043d\\u043e-\\u0440\\u0430\\u0437\\u044b\\u0441\\u043a\\u043d\\u043e\\u0439\", \"\\u0443\\u043f\\u043a\", \"\\u043f\\u0441\\u0438\\u0445\\u043e\\u0442\\u0440\\u043e\\u043f\\u043d\\u044b\\u0439\", \"\\u043e\\u043c\\u0432\\u0434\", \"\\u043f\\u043e\\u043a\\u0443\\u0448\\u0435\\u043d\\u0438\\u0435\", \"\\u043e\\u0431\\u043d\\u0430\\u0440\\u0443\\u0436\\u0438\\u0442\\u044c\", \"\\u0433\\u0440\\u0430\\u0431\\u0451\\u0436\", \"\\u0441\\u0440\\u0435\\u0434\\u0441\\u0442\\u0432\\u043e\", \"\\u0445\\u0440\\u0430\\u043d\\u0435\\u043d\\u0438\\u0435\", \"\\u043a\\u0440\\u0430\\u0436\\u0430\", \"\\u0440\\u0430\\u0437\\u0431\\u043e\\u0439\\u043d\\u044b\\u0439\", \"\\u0432\\u0435\\u0449\\u0435\\u0441\\u0442\\u0432\\u043e\", \"\\u043a\\u0432\\u0430\\u0440\\u0442\\u0438\\u0440\\u0430\", \"\\u0445\\u043e\\u0434\", \"\\u043d\\u0435\\u0437\\u0430\\u043a\\u043e\\u043d\\u043d\\u044b\\u0439\", \"\\u043f\\u0435\\u0442\\u0440\\u043e\\u0432\\u043a\\u043038\", \"\\u043f\\u0440\\u043e\\u0442\\u0438\\u0432\\u043e\\u043f\\u0440\\u0430\\u0432\\u043d\\u044b\\u0439\", \">\\u043f\\u043e\", \"\\u0440\\u0430\\u0439\\u043e\\u043d\", \"\\u0440\\u0444\", \">\\u0442\\u044c\", \"\\u043f\\u0440\\u0435\\u0434\\u0443\\u0441\\u043c\\u043e\\u0442\\u0440\\u0435\\u043d\\u043d\\u044b\\u0439\", \"\\u043f\\u043e\\u043b\\u0438\\u0446\\u0438\\u044f\", \"\\u043f\\u043e\\u043b\\u0438\\u0446\\u0435\\u0439\\u0441\\u043a\\u0438\\u0439\", \"\\u0443\\u0432\\u0434\", \"\\u0444\\u0430\\u043a\\u0442\", \"\\u0433\\u043e\\u0434\", \"\\u0432\\u0438\\u0434\", \"\\u043a\\u043e\\u0442\\u043e\\u0440\\u044b\\u0439\", \"\\u0442\\u0430\\u043a\\u0436\\u0435\"], \"Category\": [\"Default\", \"Default\", \"Default\", \"Default\", \"Default\", \"Default\", \"Default\", \"Default\", \"Default\", \"Default\", \"Default\", \"Default\", \"Default\", \"Default\", \"Default\", \"Default\", \"Default\", \"Default\", \"Default\", \"Default\", \"Default\", \"Default\", \"Default\", \"Default\", \"Default\", \"Default\", \"Default\", \"Default\", \"Default\", \"Default\", \"Topic1\", \"Topic1\", \"Topic1\", \"Topic1\", \"Topic1\", \"Topic1\", \"Topic1\", \"Topic1\", \"Topic1\", \"Topic1\", \"Topic1\", \"Topic1\", \"Topic1\", \"Topic1\", \"Topic1\", \"Topic1\", \"Topic1\", \"Topic1\", \"Topic1\", \"Topic1\", \"Topic1\", \"Topic1\", \"Topic1\", \"Topic1\", \"Topic1\", \"Topic1\", \"Topic1\", \"Topic1\", \"Topic1\", \"Topic1\", \"Topic1\", \"Topic1\", \"Topic1\", \"Topic1\", \"Topic1\", \"Topic1\", \"Topic1\", \"Topic1\", \"Topic1\", \"Topic1\", \"Topic1\", \"Topic1\", \"Topic1\", \"Topic1\", \"Topic1\", \"Topic1\", \"Topic1\", \"Topic1\", \"Topic1\", \"Topic1\", \"Topic1\", \"Topic1\", \"Topic1\", \"Topic1\", \"Topic1\", \"Topic1\", \"Topic1\", \"Topic1\", \"Topic1\", \"Topic1\", \"Topic1\", \"Topic1\", \"Topic1\", \"Topic1\", \"Topic1\", \"Topic1\", \"Topic1\", \"Topic1\", \"Topic1\", \"Topic1\", \"Topic1\", \"Topic1\", \"Topic1\", \"Topic1\", \"Topic1\", \"Topic1\", \"Topic1\", \"Topic1\", \"Topic1\", \"Topic1\", \"Topic1\", \"Topic1\", \"Topic1\", \"Topic1\", \"Topic1\", \"Topic1\", \"Topic1\", \"Topic1\", \"Topic2\", \"Topic2\", \"Topic2\", \"Topic2\", \"Topic2\", \"Topic2\", \"Topic2\", \"Topic2\", \"Topic2\", \"Topic2\", \"Topic2\", \"Topic2\", \"Topic2\", \"Topic2\", \"Topic2\", \"Topic2\", \"Topic2\", \"Topic2\", \"Topic2\", \"Topic2\", \"Topic2\", \"Topic2\", \"Topic2\", \"Topic2\", \"Topic2\", \"Topic2\", \"Topic2\", \"Topic2\", \"Topic2\", \"Topic2\", \"Topic2\", \"Topic2\", \"Topic2\", \"Topic2\", \"Topic2\", \"Topic2\", \"Topic2\", \"Topic2\", \"Topic2\", \"Topic2\", \"Topic2\", \"Topic2\", \"Topic2\", \"Topic2\", \"Topic2\", \"Topic2\", \"Topic2\", \"Topic2\", \"Topic2\", \"Topic2\", \"Topic2\", \"Topic2\", \"Topic2\", \"Topic2\", \"Topic2\", \"Topic2\", \"Topic2\", \"Topic2\", \"Topic2\", \"Topic2\", \"Topic2\", \"Topic2\", \"Topic2\", \"Topic2\", \"Topic2\", \"Topic2\", \"Topic2\", \"Topic2\", \"Topic2\", \"Topic2\", \"Topic2\", \"Topic2\", \"Topic2\", \"Topic2\", \"Topic2\", \"Topic2\", \"Topic2\", \"Topic2\", \"Topic2\", \"Topic2\", \"Topic2\", \"Topic2\", \"Topic2\", \"Topic2\", \"Topic2\", \"Topic2\", \"Topic2\", \"Topic2\", \"Topic2\", \"Topic2\", \"Topic2\", \"Topic2\", \"Topic2\", \"Topic3\", \"Topic3\", \"Topic3\", \"Topic3\", \"Topic3\", \"Topic3\", \"Topic3\", \"Topic3\", \"Topic3\", \"Topic3\", \"Topic3\", \"Topic3\", \"Topic3\", \"Topic3\", \"Topic3\", \"Topic3\", \"Topic3\", \"Topic3\", \"Topic3\", \"Topic3\", \"Topic3\", \"Topic3\", \"Topic3\", \"Topic3\", \"Topic3\", \"Topic3\", \"Topic3\", \"Topic3\", \"Topic3\", \"Topic3\", \"Topic3\", \"Topic3\", \"Topic3\", \"Topic3\", \"Topic3\", \"Topic3\", \"Topic3\", \"Topic3\", \"Topic3\", \"Topic3\", \"Topic3\", \"Topic3\", \"Topic3\", \"Topic3\", \"Topic3\", \"Topic3\", \"Topic3\", \"Topic3\", \"Topic3\", \"Topic3\", \"Topic3\", \"Topic3\", \"Topic3\", \"Topic3\", \"Topic3\", \"Topic3\", \"Topic3\", \"Topic3\", \"Topic3\", \"Topic3\", \"Topic3\", \"Topic3\", \"Topic3\", \"Topic3\", \"Topic3\", \"Topic3\", \"Topic3\", \"Topic3\", \"Topic3\", \"Topic3\", \"Topic3\", \"Topic3\", \"Topic3\", \"Topic3\", \"Topic3\", \"Topic3\", \"Topic3\", \"Topic3\", \"Topic3\", \"Topic3\", \"Topic3\", \"Topic3\", \"Topic3\", \"Topic4\", \"Topic4\", \"Topic4\", \"Topic4\", \"Topic4\", \"Topic4\", \"Topic4\", \"Topic4\", \"Topic4\", \"Topic4\", \"Topic4\", \"Topic4\", \"Topic4\", \"Topic4\", \"Topic4\", \"Topic4\", \"Topic4\", \"Topic4\", \"Topic4\", \"Topic4\", \"Topic4\", \"Topic4\", \"Topic4\", \"Topic4\", \"Topic4\", \"Topic4\", \"Topic4\", \"Topic4\", \"Topic4\", \"Topic4\", \"Topic4\", \"Topic4\", \"Topic4\", \"Topic4\", \"Topic4\", \"Topic4\", \"Topic4\", \"Topic4\", \"Topic4\", \"Topic4\", \"Topic4\", \"Topic4\", \"Topic4\", \"Topic4\", \"Topic4\", \"Topic4\", \"Topic4\", \"Topic4\", \"Topic4\", \"Topic4\", \"Topic4\", \"Topic4\", \"Topic4\", \"Topic4\", \"Topic4\", \"Topic4\", \"Topic4\", \"Topic4\", \"Topic4\", \"Topic4\", \"Topic4\", \"Topic4\", \"Topic4\", \"Topic4\", \"Topic4\", \"Topic4\", \"Topic4\", \"Topic4\", \"Topic4\", \"Topic4\", \"Topic4\", \"Topic4\", \"Topic4\", \"Topic4\", \"Topic4\", \"Topic4\", \"Topic4\", \"Topic4\", \"Topic4\", \"Topic4\", \"Topic4\"], \"Total\": [3246.0, 3651.0, 2080.0, 9675.0, 3586.0, 7402.0, 2363.0, 1806.0, 1894.0, 2356.0, 11515.0, 801.0, 1419.0, 2595.0, 2391.0, 1091.0, 5993.0, 4476.0, 1312.0, 652.0, 840.0, 490.0, 1332.0, 1146.0, 2806.0, 2082.0, 2500.0, 736.0, 1066.0, 764.0, 2356.776071912225, 264.4620815874513, 394.67563524050144, 1143.0768762969278, 152.9196427697827, 114.2678091664309, 83.42666640217382, 123.56781608336321, 110.2952158147303, 247.2430264397055, 94.0823645869429, 89.79144993352766, 60.567451371507985, 161.6085724898173, 202.7729746744181, 85.99857974273615, 87.0293431892772, 120.9973203205344, 68.8571266444759, 140.2085721419268, 61.256780246034964, 72.8641177905979, 69.04980339574328, 93.5251025989774, 76.68450434467604, 69.02615781131468, 49.67854646407364, 55.77187957451072, 118.57197445801923, 67.13981416960523, 332.55244917844243, 261.3379127961217, 1084.3165094995318, 218.90347716504178, 179.65275422837692, 184.53517724452504, 158.96859914945722, 609.6384727046606, 2082.666027586243, 866.3665508999845, 605.0192160118306, 952.2213703648089, 341.6751035542374, 235.13261953351943, 185.36460012409177, 2915.67211933966, 225.507275975306, 392.83835961324854, 327.11082010885826, 306.3952776618134, 1175.05685126596, 1807.8073363473654, 1287.349586786042, 565.1238007956495, 668.2037828836957, 3119.957169674784, 1560.334214375762, 542.7493354338717, 2137.5908390822096, 2643.900070809991, 989.9108410036995, 9361.307163982545, 622.7645333627488, 1147.2796927821519, 5993.528114551038, 1493.6209039667108, 2053.491792895224, 1052.3209548348266, 705.9638252694263, 2315.800799445837, 1380.621398961398, 7402.641405647487, 11515.888154329909, 9675.1986317332, 4476.852133229897, 4146.572992657214, 1342.0079636730472, 2062.8712082962743, 1610.5636648954492, 2246.4850923342424, 1355.4408170303482, 1509.4883179009382, 2226.658880699514, 2806.987303623685, 2238.124704939645, 2347.6941501191723, 2500.153029417893, 2595.004275561468, 82.3019689959444, 62.74937464088456, 140.6904975560064, 47.31926797637028, 74.1082961557666, 30.158309195906273, 46.69386509452821, 28.55949327928023, 63.88592053154985, 34.51383250314741, 79.35732202238924, 31.19147556280459, 60.67177459666715, 88.2342509592848, 63.697788425681104, 22.917427242197572, 31.180028102136188, 105.4700883805118, 29.74243622487475, 28.11261743902315, 24.080550115101953, 107.90666750604422, 19.498219285031656, 43.60839470864183, 25.631323442138203, 116.7646358336739, 15.593483944684444, 19.437330223337568, 148.0079001506489, 32.82567501100306, 49.07571210225472, 48.31586201137839, 70.04261247701052, 58.58951337086335, 47.80887199636446, 45.802478986052435, 698.9409479897242, 108.89399054520663, 66.86724561939802, 79.89557149806888, 651.6841225550887, 221.59509430406408, 283.8858699011029, 79.11944111316001, 170.6358058885433, 246.53414698408412, 250.61277696090096, 191.30313489557295, 226.91177960860176, 1419.8526974806323, 191.5272196797755, 166.53467026168306, 492.24759721232607, 234.41602602875273, 244.44864411957045, 459.39989126772616, 312.1154459922632, 179.859789855082, 584.1952844993726, 272.45536932923557, 289.60256642389584, 687.3143906298958, 146.23969362316998, 154.06062847702273, 371.27853769124664, 996.5027819990306, 719.2042163266926, 303.8789147803148, 11515.888154329909, 369.1903596313737, 420.40935374294224, 495.9376360906973, 2347.6941501191723, 1473.9425986924402, 4146.572992657214, 2238.124704939645, 933.9302423679601, 1645.4467376351029, 9361.307163982545, 2391.354688319317, 3119.957169674784, 1081.1930024887079, 1202.2605277983366, 1924.7658423942933, 1610.0704499865544, 1921.2103278485256, 1153.7438525220782, 1175.6523801766295, 2315.800799445837, 9675.1986317332, 3586.379839362016, 2806.987303623685, 7402.641405647487, 101.99025340579223, 27.853792108182052, 63.37822226728001, 36.9705584346512, 114.42541701929349, 35.81842884144985, 19.239025868820992, 178.23082320237063, 20.623633459637364, 88.4264544450045, 38.16880583865385, 201.580012625596, 16.2077078392187, 16.966435044513993, 15.455505345102292, 29.5091671063291, 16.33799991407018, 35.26130151639345, 24.5378468601201, 22.010661520454306, 57.63322196716378, 15.176988709045599, 67.49051853279863, 18.912811723811984, 10.42354069960128, 19.625995416575268, 40.46120163587292, 21.06640275672729, 12.9969975412567, 15.354234586091714, 251.9647914000566, 69.81729397426795, 47.3267810517452, 43.91485801336634, 3651.671035603478, 30.936441302919846, 1091.0287800242213, 356.0545505285001, 88.17239258745391, 338.41307831525586, 479.69304263311045, 106.10457260508636, 97.5202847900863, 267.0917723342498, 2363.1705754560694, 218.57254705903767, 1146.290569436151, 375.60064012195875, 216.44068420137665, 3586.379839362016, 279.3604931353023, 1066.4936741609426, 450.07796093097426, 230.11545486924786, 142.3122722912782, 674.4529610306669, 9675.1986317332, 7402.641405647487, 321.22822674853126, 732.8210126292314, 2500.153029417893, 305.8855585664803, 2806.987303623685, 936.5226089316899, 485.9296709235273, 11515.888154329909, 4476.852133229897, 2595.004275561468, 1894.195353082724, 5993.528114551038, 658.5861057613042, 9361.307163982545, 2246.4850923342424, 2391.354688319317, 771.2736014744069, 1610.0704499865544, 2226.658880699514, 1266.407795630241, 2062.8712082962743, 728.1936787407587, 1921.2103278485256, 4146.572992657214, 1312.4100264143656, 2080.228185200015, 490.51505931019926, 232.02429319182284, 18.82878908558069, 16.978301385457648, 16.705041129168062, 20.88894603266275, 15.463079268304714, 21.74303741917702, 28.933069344447524, 35.809984641267874, 12.096369570868825, 34.55712052558098, 63.076998898035086, 54.370943225253846, 29.87199163725972, 38.26797104167014, 44.278016571333474, 25.793311466825134, 53.804877702641754, 10.6966664579923, 9.083854751939407, 11.37792447826845, 19.019299981865892, 28.845298926715582, 24.748831842762364, 9.366780529944792, 10.576535535461506, 17.876821438073964, 73.68880926173573, 69.79712921033683, 99.89009687947525, 53.6743388123118, 26.954850260537707, 208.81401686030117, 38.20387267988778, 389.5948889274207, 652.4646654055941, 127.08839041470293, 156.3548541460425, 100.16812030336797, 271.2398892696401, 3246.117716768267, 801.6806502614376, 283.43202832856923, 522.2668411179766, 118.16850424741602, 436.27591639929017, 488.3139926295954, 190.10958029916662, 289.09763888488555, 315.1723512262787, 170.94017063199442, 331.5590999374861, 840.1948288586636, 148.0318186534136, 561.8684928249658, 285.6951265627709, 1806.2730798119985, 242.38727674215286, 736.3447615870705, 267.637342317744, 701.5602224950155, 526.01356774586, 1312.4100264143656, 703.4223128532075, 3586.379839362016, 369.73997765325976, 579.6655861447707, 1894.195353082724, 1332.4504374547487, 2391.354688319317, 764.2449948510243, 9675.1986317332, 2595.004275561468, 2363.1705754560694, 879.574216734611, 11515.888154329909, 1253.5757224272916, 4146.572992657214, 2347.6941501191723]}, \"token.table\": {\"Topic\": [1, 2, 3, 4, 1, 2, 4, 2, 1, 2, 3, 2, 1, 2, 3, 4, 2, 3, 4, 1, 2, 3, 4, 1, 2, 3, 4, 1, 2, 3, 4, 1, 2, 3, 4, 2, 4, 2, 2, 3, 4, 2, 4, 1, 2, 4, 1, 2, 3, 4, 1, 2, 3, 4, 1, 2, 3, 2, 2, 1, 2, 3, 4, 2, 4, 1, 2, 3, 4, 1, 2, 3, 4, 1, 2, 1, 2, 3, 1, 2, 1, 2, 3, 4, 1, 2, 3, 4, 1, 2, 4, 1, 2, 3, 1, 2, 3, 4, 2, 2, 3, 4, 1, 2, 3, 4, 1, 2, 3, 4, 1, 2, 3, 4, 1, 2, 3, 1, 2, 3, 4, 1, 2, 3, 4, 1, 2, 3, 4, 1, 2, 1, 2, 3, 4, 1, 2, 3, 4, 1, 2, 3, 1, 2, 4, 1, 2, 3, 1, 2, 3, 4, 1, 2, 3, 4, 1, 2, 3, 4, 1, 2, 1, 2, 3, 4, 1, 2, 3, 4, 1, 2, 3, 4, 1, 2, 3, 1, 2, 3, 1, 2, 2, 4, 1, 2, 3, 4, 2, 3, 1, 2, 3, 1, 2, 3, 4, 1, 2, 3, 4, 1, 2, 3, 4, 1, 2, 3, 4, 1, 2, 3, 4, 1, 2, 3, 4, 1, 2, 3, 4, 2, 4, 1, 2, 3, 4, 1, 2, 3, 4, 1, 2, 3, 4, 1, 2, 3, 4, 1, 2, 3, 4, 1, 2, 3, 2, 1, 2, 3, 4, 1, 2, 3, 4, 1, 2, 3, 4, 1, 2, 3, 1, 2, 3, 2, 3, 1, 2, 3, 4, 1, 2, 3, 4, 1, 2, 3, 4, 1, 2, 3, 1, 2, 3, 4, 1, 2, 3, 4, 1, 2, 3, 4, 1, 2, 3, 4, 1, 2, 1, 2, 3, 4, 1, 2, 2, 3, 1, 2, 3, 4, 1, 2, 3, 4, 2, 2, 4, 1, 2, 3, 1, 2, 3, 4, 1, 2, 3, 4, 1, 2, 3, 4, 1, 2, 3, 1, 2, 4, 1, 2, 3, 4, 2, 1, 2, 1, 2, 3, 1, 2, 3, 4, 1, 2, 3, 4, 1, 2, 3, 4, 1, 2, 4, 1, 2, 3, 4, 1, 2, 3, 4, 2, 1, 2, 3, 4, 2, 3, 1, 2, 1, 2, 4, 1, 2, 3, 1, 2, 3, 1, 2, 4, 1, 2, 2, 3, 1, 2, 3, 1, 2, 1, 2, 3, 4, 1, 2, 3, 4, 1, 2, 3, 4, 1, 2, 3, 4, 1, 2, 3, 4, 1, 2, 3, 4, 1, 2, 3, 4, 1, 2, 3, 4, 2, 4, 1, 2, 3, 1, 2, 3, 4, 1, 2, 3, 4, 1, 2, 3, 4, 1, 2, 3, 4, 2, 3, 1, 2, 3, 1, 2, 3, 4, 1, 2, 3, 4, 1, 2, 3, 4, 1, 2, 3, 4, 1, 2, 3, 4, 1, 2, 3, 4, 1, 2, 3, 4, 1, 2, 4, 1, 2, 3, 4, 1, 2, 3, 1, 2, 3, 4, 1, 2, 3, 4, 2, 3, 1, 2, 3, 1, 2, 3, 4, 1, 2, 3, 1, 2, 1, 2, 3, 4, 2, 4, 1, 2, 3, 4, 1, 2, 3, 4, 1, 2, 3, 4, 1, 2, 3, 4, 1, 2, 3, 4, 1, 2, 3, 4, 2, 4, 1, 2, 3, 4, 1, 2, 3, 4, 1, 2, 3, 4, 1, 2, 3, 4, 1, 2, 3, 4, 1, 2, 3, 4, 1, 2, 3, 4, 1, 2, 3, 4, 1, 2, 3, 4, 1, 2, 1, 2, 1, 2, 3, 4, 2, 1, 2, 4, 1, 2, 3, 1, 2, 3, 4, 1, 2, 3, 1, 2, 3, 4, 2, 1, 2, 3, 4, 1, 2, 3, 4, 2, 3, 1, 2, 4, 1, 2, 3, 4, 1, 2, 3, 4, 1, 2, 3, 4, 1, 2, 3, 4, 1, 2, 3, 4, 1, 2, 3, 4, 1, 2, 4, 1, 2, 3, 4, 1, 2, 3, 4, 1, 2, 3, 4, 1, 2, 3, 4, 2, 4, 1, 2, 3, 4, 1, 2, 3, 4, 1, 2, 3, 4, 1, 2, 1, 2, 3, 1, 2, 3, 4, 1, 2, 2, 3, 1, 2, 3, 4, 1, 2, 1, 2, 3, 4, 1, 2, 3, 4, 1, 2, 3, 4, 1, 2, 3, 4, 1, 2, 3, 4, 2, 1, 2, 3, 4, 1, 2, 3, 4, 1, 2, 3, 4, 1, 2, 3, 4, 1, 2, 3, 4, 1, 2, 3, 2, 1, 2, 3, 4, 1, 2, 3, 4, 2, 4, 1, 2, 3, 4, 1, 2, 3, 1, 2, 3, 4, 1, 2, 3, 4, 1, 2, 3, 4, 2, 4, 1, 2, 3, 4, 1, 2, 1, 2, 1, 2, 1, 2, 3, 4, 1, 2, 3, 4, 1, 2, 3, 4, 1, 2, 3, 4, 1, 2, 3, 4, 1, 2, 3, 4, 1, 2, 3, 4, 1, 2, 3, 4, 1, 2, 3, 4, 1, 2, 3, 4, 1, 2, 4, 2, 3, 1, 2, 3, 4, 1, 2, 3, 4, 1, 2, 3, 4, 2, 1, 2, 3, 4, 1, 2, 3, 4, 1, 2, 3, 4, 1, 2, 3, 4, 1, 2, 1, 2, 3, 4, 1, 2, 3, 4, 1, 2, 3, 4, 1, 2, 3, 1, 2, 3, 4, 1, 2, 1, 2, 3, 4, 1, 2, 3, 4, 1, 2, 3, 4, 1, 2, 3, 1, 2, 3, 1, 2, 3, 4, 1, 2, 1, 2, 3, 1, 2, 3, 4, 1, 2, 3, 4, 1, 2, 3, 4, 1, 2, 3, 4, 2, 4, 1, 2, 3, 4, 1, 2, 3, 4, 1, 2, 1, 2, 3, 4, 1, 2, 3, 4, 1, 2, 3, 4, 1, 2, 3, 4, 1, 2, 3, 4, 1, 2, 3, 4, 1, 2, 3, 4, 1, 2, 3, 4, 1, 2, 3, 4, 1, 2, 3, 4, 1, 2, 3, 4, 1, 2, 2, 4, 1, 2, 3, 4, 1, 2, 3, 4, 1, 2, 3, 4, 1, 2, 4, 1, 2, 3, 4, 1, 2, 3, 4, 1, 2, 3, 4, 1, 2, 3, 4, 1, 2, 3, 4, 1, 2, 3, 4, 2, 3, 4, 1, 2, 4], \"Freq\": [0.12305132235647341, 0.010254276863039452, 0.820342149043156, 0.04101710745215781, 0.03347617434227878, 0.03347617434227878, 0.903856707241527, 0.9721198566083254, 0.030463958461320394, 0.9443827123009322, 0.030463958461320394, 0.9599681398569764, 0.052578170645263406, 0.052578170645263406, 0.052578170645263406, 0.8938289009694779, 0.022771336291139335, 0.888082115354434, 0.09108534516455734, 0.30507904299679695, 0.052921874805566815, 0.6257233432893488, 0.018678308754905934, 0.06933538824060044, 0.03466769412030022, 0.03466769412030022, 0.9013600471278057, 0.12410867868668483, 0.008864905620477488, 0.7712467889815414, 0.09160402474493404, 0.07777737977042562, 0.02745083991897375, 0.7457478177987868, 0.15097961955435563, 0.05311015994999975, 0.9559828790999955, 0.9851122733732757, 0.027918589182861605, 0.9492320322172946, 0.027918589182861605, 0.0646701722631494, 0.9053824116840916, 0.07753948160446021, 0.038769740802230106, 0.8917040384512924, 0.238068298857981, 0.10005769082436883, 0.1914897186466369, 0.47096119991470153, 0.3027572628754787, 0.2057411233905187, 0.2542491931329987, 0.23752227253214353, 0.039686474347329144, 0.024804046467080714, 0.9326321471622349, 0.9841805850840754, 0.9619402599964357, 0.02893759621145946, 0.02893759621145946, 0.05787519242291892, 0.8970654825552432, 0.09454891884465881, 0.8509402696019294, 0.825793685859272, 0.10453084631130026, 0.06651962947082744, 0.0028508412630354617, 0.01839217678930254, 0.01839217678930254, 0.07356870715721016, 0.9012166626758245, 0.9882568268699347, 0.009066576393302153, 0.020697136682866175, 0.952068287411844, 0.020697136682866175, 0.9906310838798985, 0.016510518064664977, 0.7987301174157838, 0.04351840539147187, 0.13725035546541128, 0.020085417872987017, 0.044769956380514314, 0.006395708054359187, 0.13430986914154294, 0.818650630957976, 0.9881724582588367, 0.01149037742161438, 0.01149037742161438, 0.050496316171872405, 0.011221403593749424, 0.9369872000780769, 0.971921744083698, 0.015305854237538552, 0.007652927118769276, 0.003826463559384638, 0.9618012440480562, 0.028359701911033732, 0.9358701630641132, 0.028359701911033732, 0.0359119758742553, 0.8898189577732147, 0.06384351266534276, 0.011970658624751766, 0.1709426502204183, 0.00833866586441065, 0.7504799277969584, 0.06879399338138785, 0.959585108539243, 0.026245062797654508, 0.0032806328497068135, 0.011482214973973847, 0.09863118586971002, 0.8947257575323695, 0.0035225423524896434, 0.02792517254664185, 0.02792517254664185, 0.0558503450932837, 0.9215306940391811, 0.026199404933630176, 0.026199404933630176, 0.9431785776106864, 0.026199404933630176, 0.8687651093183513, 0.042428063478338086, 0.08586631894425564, 0.0020203839751589564, 0.9794834099835615, 0.016324723499726027, 0.3021836090507629, 0.02280631011703871, 0.18815205846556934, 0.4874848787517024, 0.5791433154067872, 0.0965238859011312, 0.11726455559889493, 0.20660897891233868, 0.07161549403279384, 0.028646197613117534, 0.8880321260066436, 0.07839454035159818, 0.026131513450532724, 0.8884714573181126, 0.0454325281896098, 0.0454325281896098, 0.908650563792196, 0.8725659558617013, 0.03966208890280461, 0.06657564922970773, 0.021247547626502467, 0.7237485277779746, 0.07319894688176434, 0.20117591361544504, 0.0014542837128827353, 0.22328092856129927, 0.0012473794891692698, 0.05114255905594006, 0.7247274832073457, 0.04183323965794647, 0.9621645121327688, 0.03791735580777513, 0.9352947765917865, 0.01263911860259171, 0.01263911860259171, 0.009804858470360542, 0.009804858470360542, 0.9706809885656936, 0.009804858470360542, 0.5543531459768197, 0.2145715550969321, 0.13248364782013966, 0.0987133062189276, 0.984796431791028, 0.014482300467515119, 0.014482300467515119, 0.016482128743518447, 0.9724455958675884, 0.016482128743518447, 0.9863412576983437, 0.020129413422415178, 0.08788949178824089, 0.8788949178824089, 0.26326275404081567, 0.6877739449316309, 0.04278019753163254, 0.006581568851020392, 0.06169903911892118, 0.9254855867838178, 0.009267267937303194, 0.9637958654795322, 0.01853453587460639, 0.02258457079686404, 0.02258457079686404, 0.06775371239059212, 0.9033828318745616, 0.031474157371476456, 0.007868539342869114, 0.12589662948590583, 0.8340651703441261, 0.9600517845849967, 0.000922239946767528, 0.005533439680605168, 0.03320063808363101, 0.5669558363629238, 0.20041875789946823, 0.19920304619643853, 0.03334523528310043, 0.015778290463604017, 0.015778290463604017, 0.9466974278162411, 0.015778290463604017, 0.04102853234540263, 0.8684372679776889, 0.0478666210696364, 0.04102853234540263, 0.8976105254124882, 0.02087466338168577, 0.030509123404002282, 0.05138378678568806, 0.11008542378845275, 0.880683390307622, 0.07350492902225278, 0.0035002347153453707, 0.27651854251228425, 0.6475434223388935, 0.7902238809428335, 0.007243115315699666, 0.08329582613054616, 0.11951140270904448, 0.13887956582627933, 0.01436685163720131, 0.01915580218293508, 0.8284884444119422, 0.1790960887833423, 0.02245547290555668, 0.7960738992250399, 0.0024646250750001235, 0.4412175632275002, 0.26315041994147054, 0.18475225788038577, 0.11121599734246906, 0.00710780057908259, 0.9879842804924801, 0.00710780057908259, 0.9880576556312595, 0.8071409443800284, 0.03630999562346894, 0.09266613466406136, 0.06392072146214844, 0.9166133142343272, 0.02654285658979712, 0.019464761499184555, 0.03715999922571597, 0.7358145831920263, 0.14422656736275632, 0.10234040857776422, 0.01770445886788326, 0.011333467322813727, 0.9746781897619806, 0.011333467322813727, 0.9476910604694642, 0.0427989511179758, 0.009171203810994814, 0.04848806113418889, 0.9212731615495888, 0.1831540762490428, 0.13376421299087396, 0.541230584870767, 0.14199585686723545, 0.16851350421147712, 0.0028085584035246187, 0.7892049113904179, 0.04212837605286928, 0.1945272729639426, 0.8001310472856507, 0.003670325904980049, 0.003670325904980049, 0.01896272232923955, 0.9670988387912172, 0.009481361164619775, 0.027025584417646797, 0.9594082468264613, 0.013512792208823399, 0.006756396104411699, 0.29943461229979446, 0.002772542706479578, 0.04128008029647372, 0.6567845611349401, 0.05670709224591748, 0.06804851069510098, 0.8392649652395787, 0.03402425534755049, 0.9834928549223794, 0.00826464583968386, 0.00826464583968386, 0.00826464583968386, 0.06428270251602172, 0.9275075648740276, 0.037099074575977685, 0.037099074575977685, 0.07419814915195537, 0.8903777898234645, 0.9744165187595473, 0.013724176320557004, 0.07694084705530446, 0.9232901646636537, 0.14253645435678583, 0.0015326500468471594, 0.0720345522018165, 0.7847168239857456, 0.04040594749494989, 0.04040594749494989, 0.08081189498989978, 0.8889308448888976, 0.98040955160482, 0.05889870707893816, 0.9423793132630106, 0.033359318415941475, 0.8506626196065076, 0.11675761445579515, 0.3764161461623408, 0.009505458236422749, 0.09125239906965839, 0.5228002030032511, 0.036506099094585166, 0.8923713112009708, 0.06489973172370697, 0.008112466465463371, 0.1598091566066618, 0.6392366264266472, 0.15710052683366754, 0.04333807636790829, 0.028554046305118083, 0.9565605512214558, 0.014277023152559042, 0.9742824050775422, 0.0030070444601158707, 0.021049311220811096, 0.13385431944133416, 0.6692715972066707, 0.18914197312362435, 0.007274691273985552, 0.9621543605326212, 0.015699132178925525, 0.9733461950933825, 0.049430069279672584, 0.024715034639836292, 0.9144562816739428, 0.9497535413101044, 0.0032637578739178846, 0.0032637578739178846, 0.0424288523609325, 0.18945627280724966, 0.7768411483509159, 0.024650444417300143, 0.009860177766920056, 0.05870113725137654, 0.7872858407831677, 0.044889104956935, 0.11049625835553231, 0.04599173430654245, 0.04599173430654245, 0.919834686130849, 0.9656644250313652, 0.010789546648395142, 0.005394773324197571, 0.016184319972592714, 0.6525870893366178, 0.17001991795355342, 0.11093498192714124, 0.06656098915628475, 0.9604228442464868, 0.3354406969197852, 0.0027161190033990704, 0.16296714020394423, 0.49840783712372944, 0.0647018636836026, 0.9058260915704365, 0.04075335668757647, 0.9577038821580471, 0.08574197032506932, 0.9115725266138949, 0.004512735280266807, 0.027048550044695436, 0.027048550044695436, 0.9466992515643402, 0.025692710627499993, 0.959194530093333, 0.00856423687583333, 0.03456252733144289, 0.03456252733144289, 0.933188237948958, 0.9883884158817111, 0.011628099010373072, 0.06588922342704205, 0.9224491279785888, 0.05287421112223944, 0.05287421112223944, 0.8988615890780705, 0.9874467221148777, 0.0065393822656614415, 0.01863087691674779, 0.01863087691674779, 0.09315438458373895, 0.8756512150871462, 0.8472214806163798, 0.12377103934930651, 0.008716270376711726, 0.02091904890410814, 0.10238207859157307, 0.8446521483804779, 0.04692511935447099, 0.00853183988263109, 0.7102661268351925, 0.04171165884632327, 0.21790170581319274, 0.03003239436935275, 0.06004755636941288, 0.8887038342673106, 0.03002377818470644, 0.02401902254776515, 0.5977565811885208, 0.12619804606609644, 0.2160187194227487, 0.06017985114895701, 0.44594321944483606, 0.23725669892468995, 0.2714166948431662, 0.04596072178122266, 0.3596116159112262, 0.0032691965082838744, 0.6211473365739362, 0.016345982541419373, 0.10676026803479445, 0.8540821442783556, 0.23188442900031223, 0.02810720351518936, 0.7378140922737207, 0.1825170761514671, 0.11298676142709868, 0.6822662132328651, 0.02172822335136513, 0.9120232263468345, 0.018424711643370395, 0.05158919260143711, 0.018424711643370395, 0.9654126273519439, 0.004252919063224422, 0.008505838126448844, 0.021264595316122112, 0.6127542523590942, 0.042822552468658036, 0.31488760190675674, 0.029584034670776374, 0.04075337195233867, 0.9373275549037894, 0.03590175427877377, 0.03590175427877377, 0.9693473655268917, 0.5678711925423389, 0.20768158187387095, 0.20247652969658095, 0.021861219144617992, 0.9009227655102653, 0.0523792305529224, 0.03142753833175344, 0.014965494443692115, 0.10913961123395173, 0.005744190064944828, 0.16083732181845517, 0.7237679481830483, 0.1548996718457309, 0.012831925478344572, 0.7598333015391179, 0.07332528844768327, 0.18486631629153094, 0.7922842126779898, 0.018283481831030533, 0.00406299596245123, 0.09409150566103215, 0.8938693037798054, 0.005227305870057342, 0.005227305870057342, 0.47693957829706274, 0.19267095547099886, 0.3063784046014244, 0.023689051902171993, 0.012601231676112608, 0.9702948390606708, 0.012601231676112608, 0.08727013871666578, 0.03336799421519574, 0.07700306357352862, 0.8059653987362663, 0.9873121000835241, 0.008092722131832165, 0.008092722131832165, 0.6717160087770946, 0.05341678002203535, 0.263967921275558, 0.011128495837924031, 0.8847635573827254, 0.09321477338536176, 0.01165184667317022, 0.010875056894958872, 0.05197768363213299, 0.9355983053783937, 0.03388777448027399, 0.03388777448027399, 0.9149699109673978, 0.29001070377272975, 0.00710810548462573, 0.22461613331417307, 0.477664688566849, 0.9868832440437046, 0.004044603459195511, 0.008089206918391023, 0.02141608962923877, 0.9851401229449835, 0.8907037189724087, 0.04527258024811627, 0.01989249738174806, 0.04424365796974999, 0.9850449111198415, 0.013493765905751253, 0.10856632962867135, 0.03203596611993581, 0.29366302276607825, 0.5659687347855327, 0.03993286474664442, 0.009983216186661105, 0.11979859423993326, 0.8286069434928717, 0.012929680589608744, 0.02585936117921749, 0.012929680589608744, 0.9481765765713079, 0.5920134821244157, 0.2301033534294899, 0.10231780181621979, 0.07550964413511417, 0.14481493996906367, 0.08549315733113397, 0.6106654095080998, 0.15964538562854608, 0.09402581078404765, 0.02142360245712478, 0.3249246372663925, 0.5593940641582581, 0.9750378140088665, 0.03362199358651264, 0.04939455883853207, 0.007056365548361723, 0.1764091387090431, 0.7656156619972471, 0.03807440580783869, 0.009518601451959673, 0.26969370780552404, 0.6821664373904431, 0.2932825231587913, 0.04221490863649268, 0.6087834192841576, 0.057767769713095246, 0.9842479521174272, 0.0071322315370828055, 0.0071322315370828055, 0.0071322315370828055, 0.06265427974187394, 0.8823811063647248, 0.03132713987093697, 0.015663569935468486, 0.49261687885394584, 0.0027291793842323868, 0.500804417006643, 0.00409376907634858, 0.8498179350188053, 0.12689589074941438, 0.012817766742365087, 0.010895101731010324, 0.6994620151049143, 0.2790914112314528, 0.0008667435131411578, 0.02080184431538779, 0.9836931202789819, 0.010692316524771543, 0.010692316524771543, 0.010692316524771543, 0.9741014032968163, 0.022265174932498657, 0.9889049315316413, 0.00875137107550125, 0.0520533105317144, 0.017351103510571467, 0.9196084860602878, 0.017351103510571467, 0.9753690657619224, 0.9750353266576497, 0.006290550494565482, 0.018871651483696447, 0.03495726827305818, 0.01747863413652909, 0.943846243372571, 0.14417742081599985, 0.7945777858303992, 0.0032039426847999966, 0.05767096832639994, 0.08790652068533476, 0.9083673804151259, 0.005860434712355651, 0.04746894909149416, 0.04746894909149416, 0.9019100327383891, 0.04746894909149416, 0.9744479596957796, 0.18971902363563833, 0.09664931392758934, 0.6729655932735851, 0.03579604219540346, 0.15335798901263062, 0.09340895694405683, 0.4648141230619186, 0.2883130193437456, 0.058939900891162446, 0.9430384142585991, 0.994471488771944, 0.003781260413581536, 0.003781260413581536, 0.8944248092062048, 0.08850635600137517, 0.0034040906154375063, 0.013616362461750025, 0.3758241784901116, 0.5994157783513172, 0.016650438287536592, 0.007135902123229967, 0.9393176378276359, 0.04836594883123329, 0.007636728762826309, 0.002545576254275436, 0.13070001241108029, 0.5283617523001118, 0.3128457743882241, 0.029198938942900914, 0.9411014411521323, 0.0004801537965061899, 0.0024007689825309496, 0.056177994191224226, 0.21775210693283772, 0.009168509765593167, 0.07105595068334704, 0.7036831245092756, 0.9932206728726211, 0.002533726206307707, 0.002533726206307707, 0.25413161169861276, 0.2188948756227547, 0.4516708896996353, 0.07474459167606258, 0.026175356838272695, 0.026175356838272695, 0.10470142735309078, 0.8637867756629989, 0.9629030519859771, 0.020487298978425047, 0.008780270990753592, 0.0058535139938357275, 0.06079773984991476, 0.006755304427768307, 0.1959038284052809, 0.7363281826267455, 0.09348706944609114, 0.9348706944609114, 0.43545207637683275, 0.0678226242852412, 0.31098214658062306, 0.1857415051448083, 0.565673141019491, 0.04206631982366761, 0.2972548791470959, 0.09498513001953447, 0.4054139582725582, 0.09414106896216708, 0.48285257951563115, 0.016702447719094158, 0.9830232748823836, 0.01489429204367248, 0.9838586997606104, 0.006187790564532141, 0.006187790564532141, 0.018585675550209478, 0.018585675550209478, 0.07434270220083791, 0.892112426410055, 0.9828991560648449, 0.011986575073961524, 0.09593669069074119, 0.8634302162166707, 0.07263981843989356, 0.024213272813297854, 0.1867881045597263, 0.7160210674789508, 0.995427621639301, 0.004243084491216117, 0.815716326088311, 0.16827154074513292, 0.0003205172204669199, 0.015384826582412152, 0.06464867695726967, 0.032324338478634834, 0.9050814774017754, 0.032324338478634834, 0.9534070759564164, 0.03347312978539476, 0.005771229273343925, 0.006925475128012709, 0.9754237792910587, 0.005419020996061437, 0.005419020996061437, 0.01625706298818431, 0.5744231273448838, 0.015701771134712085, 0.015701771134712085, 0.39516124022358745, 0.9775004993837845, 0.3364489519102533, 0.0027465220564102315, 0.4284574407999961, 0.23208111376666454, 0.5497976392940965, 0.29943593062915996, 0.13973676762694132, 0.011644730635578445, 0.025387475445392216, 0.008462491815130738, 0.1777123281177455, 0.7954742306222894, 0.3151019803177082, 0.4997477267459194, 0.16357204710760012, 0.021073699320611056, 0.31150106656370374, 0.005324804556644508, 0.6789125809721748, 0.005324804556644508, 0.2633515977382844, 0.023101017345463548, 0.7115113342402772, 0.955127681471683, 0.38946288933636075, 0.008113810194507515, 0.027046033981691718, 0.5760805238100336, 0.2533484980983414, 0.003016053548789779, 0.07841739226853425, 0.6635317807337514, 0.047872209466019104, 0.909571979854363, 0.7655253385666726, 0.11443922046003058, 0.10323878611713397, 0.017044139217451362, 0.9780333150866484, 0.013040444201155311, 0.013040444201155311, 0.0631214901485562, 0.00526012417904635, 0.17884422208757592, 0.7521977576036281, 0.2764935541474098, 0.0037363993803704023, 0.08967358512888966, 0.631451495282598, 0.33417883692398404, 0.04276222083861407, 0.3315391936623412, 0.29141661608536995, 0.08266943186063508, 0.9093637504669859, 0.8739869388915938, 0.04369934694457969, 0.06029403565771122, 0.022126251617508707, 0.9682298751982439, 0.017930182874041554, 0.043665758803339685, 0.960646693673473, 0.16772439114019025, 0.8304402780843566, 0.9920592599805422, 0.0008748317989246404, 0.0017496635978492808, 0.005248990793547842, 0.7360109957955372, 0.14773218007417174, 0.07817218497198325, 0.03842361634216126, 0.726073814365512, 0.09111975336968983, 0.15905898331473406, 0.023821459556202615, 0.973031597115331, 0.018272893842541427, 0.004568223460635357, 0.004568223460635357, 0.48407053791215016, 0.05778826576625669, 0.14259442202063338, 0.31595921931940346, 0.26622214796660537, 0.0020478626766661954, 0.0430051162099901, 0.6901297220365078, 0.056160471993979555, 0.16473738451567335, 0.752550324719326, 0.02995225173012243, 0.8285028021360682, 0.1127437466486688, 0.03789312646697997, 0.021051736926099983, 0.015853639479844545, 0.015853639479844545, 0.06341455791937818, 0.9036574503511392, 0.09424664512074599, 0.07539731609659678, 0.81994581255049, 0.009424664512074597, 0.9706465219047358, 0.014487261520966205, 0.014487261520966205, 0.061207002402956706, 0.9181050360443506, 0.524761903304097, 0.11115119744119366, 0.33737238454105895, 0.026719037846440783, 0.34101711059067036, 0.11713196407244764, 0.5352485953184, 0.007413415447623269, 0.9813931088179962, 0.004931623662401991, 0.004931623662401991, 0.004931623662401991, 0.9947507270756492, 0.027620743512096858, 0.8823293066364274, 0.08439671628696262, 0.004603457252016143, 0.28764522086633476, 0.32464139075268006, 0.271921848664638, 0.11561303089482908, 0.4518538760775409, 0.3661943735035995, 0.1713190051478828, 0.011778181603916943, 0.6450961331877643, 0.05070527085651748, 0.26916234089032404, 0.035069284248780815, 0.9875520997426828, 0.014522824996215922, 0.21172016874476038, 0.5585379689742727, 0.22583484666107773, 0.0020163825594739083, 0.33881920006453203, 0.07307865099431084, 0.15003268499589573, 0.438471905965865, 0.4378835161562579, 0.0009376520688570833, 0.5297734189042521, 0.03188017034114083, 0.01706790076357421, 0.9558024427601558, 0.03413580152714842, 0.6336907172238034, 0.26963752665764523, 0.07230028317318563, 0.02381656386881409, 0.01565290116632433, 0.9704798723121083, 0.7906063367135807, 0.033531842744685326, 0.1743655822723637, 0.0014903041219860146, 0.06338905654115627, 0.021129685513718757, 0.8874467915761879, 0.021129685513718757, 0.055938355902028815, 0.055938355902028815, 0.055938355902028815, 0.895013694432461, 0.014816896087618976, 0.07408448043809487, 0.9186475574323765, 0.06512861285223735, 0.06512861285223735, 0.9118005799313229, 0.5315854281685924, 0.2704781625697566, 0.08646782204985919, 0.11159886392641925, 0.044865015333153, 0.9421653219962131, 0.025032676561407927, 0.9387253710527973, 0.03754901484211189, 0.9622749379659148, 0.026606680312421607, 0.008868893437473869, 0.004434446718736934, 0.9493590756671061, 0.002100351937316606, 0.03675615890304061, 0.012602111623899638, 0.007937616953888227, 0.003968808476944113, 0.8810754818815932, 0.10715782887749108, 0.11017497656191447, 0.8769928134328392, 0.008813998124953157, 0.004406999062476579, 0.05986216928576946, 0.9577947085723114, 0.10959852102509167, 0.09605739101426954, 0.5991950029788795, 0.1950769042184064, 0.008652896892784524, 0.00048071649404358464, 0.00048071649404358464, 0.9902759777297844, 0.988495563523569, 0.010628984554016872, 0.39026358405706185, 0.0012965567576646573, 0.43045684354466623, 0.1763317190423934, 0.06295238550059437, 0.8899178132129477, 0.04149134498902811, 0.00572294413641767, 0.046800000084372566, 0.005850000010546571, 0.21645000039022314, 0.7312500013183214, 0.1990857618523745, 0.011060320102909695, 0.003686773367636565, 0.7852827273065883, 0.4827704487676997, 0.10159378126511659, 0.3611778916629932, 0.05479664580047627, 0.9586472373939584, 0.028098281096029815, 0.003305680128944684, 0.009917040386834053, 0.5217299511406978, 0.32633563914002034, 0.1356904944449149, 0.016282859333389788, 0.028541427493965012, 0.006116020177278217, 0.00815469356970429, 0.958176494440254, 0.2558725871706636, 0.6625753309892972, 0.07810847397841308, 0.0053867913088560745, 0.10013062883637561, 0.7553332218743986, 0.08924686483242174, 0.05441882001976935, 0.5764152590582067, 0.011369137259530702, 0.07162556473504343, 0.339937204059968, 0.980048769288681, 0.01113691783282592, 0.9631173144669071, 0.022931364630164455, 0.07163618413204749, 0.014327236826409498, 0.042981710479228497, 0.8739614464109794, 0.23011101250505833, 0.1142935492574793, 0.2552555933417038, 0.4007893793962274, 0.24341211631649756, 0.06601006544176205, 0.02475377454066077, 0.6642262835077307, 0.02714116322461105, 0.09499407128613868, 0.8820878047998592, 0.7512897666659752, 0.07202447349855631, 0.12418012672164881, 0.05277655385670074, 0.1168371191130419, 0.8373326869768003, 0.025963804247342643, 0.019472853185506983, 0.1643286115913575, 0.7292082139366489, 0.07360552394196221, 0.034235127414866146, 0.7761312679847133, 0.16599765712600809, 0.04057720507524642, 0.01696864939510305, 0.11012102644441629, 0.010011002404037845, 0.010011002404037845, 0.8709572091512925, 0.011308832931008615, 0.011308832931008615, 0.9386331332737151, 0.04523533172403446, 0.050952829590260845, 0.9171509326246952, 0.050952829590260845, 0.9783087490127792, 0.008433696112179132, 0.016867392224358263], \"Term\": [\"112\", \"112\", \"112\", \"112\", \"13.00\", \"13.00\", \"13.00\", \"1969\", \"1977\", \"1977\", \"1977\", \"1996\", \"222\", \"222\", \"222\", \"222\", \"24-\\u043b\\u0435\\u0442\\u043d\\u0438\\u0439\", \"24-\\u043b\\u0435\\u0442\\u043d\\u0438\\u0439\", \"24-\\u043b\\u0435\\u0442\\u043d\\u0438\\u0439\", \"38\", \"38\", \"38\", \"38\", \"48\", \"48\", \"48\", \"48\", \">#\\u043c\\u0432\\u0434\", \">#\\u043c\\u0432\\u0434\", \">#\\u043c\\u0432\\u0434\", \">#\\u043c\\u0432\\u0434\", \"><>#\\u043c\\u0432\\u0434\", \"><>#\\u043c\\u0432\\u0434\", \"><>#\\u043c\\u0432\\u0434\", \"><>#\\u043c\\u0432\\u0434\", \"><>\\u043f\\u043e\\u0434\\u0440\\u043e\\u0431\\u043d\\u044b\\u0439\", \"><>\\u043f\\u043e\\u0434\\u0440\\u043e\\u0431\\u043d\\u044b\\u0439\", \">\\u0434\\u0440\\u043e\\u0431\\u043d\\u044b\\u0439\", \">\\u0438\\u043d\\u0441\\u043f\\u0435\\u043a\\u0442\\u043e\\u0440\", \">\\u0438\\u043d\\u0441\\u043f\\u0435\\u043a\\u0442\\u043e\\u0440\", \">\\u0438\\u043d\\u0441\\u043f\\u0435\\u043a\\u0442\\u043e\\u0440\", \">\\u043c\\u0430\\u043a\\u0441\\u0438\\u043c\\u0430\\u043b\\u044c\\u043d\\u044b\\u0439\", \">\\u043c\\u0430\\u043a\\u0441\\u0438\\u043c\\u0430\\u043b\\u044c\\u043d\\u044b\\u0439\", \">\\u043c\\u0430\\u0442\\u0435\\u0440\\u0438\\u0430\\u043b\\u044c\\u043d\\u044b\\u0439\", \">\\u043c\\u0430\\u0442\\u0435\\u0440\\u0438\\u0430\\u043b\\u044c\\u043d\\u044b\\u0439\", \">\\u043c\\u0430\\u0442\\u0435\\u0440\\u0438\\u0430\\u043b\\u044c\\u043d\\u044b\\u0439\", \">\\u043f\\u043e\", \">\\u043f\\u043e\", \">\\u043f\\u043e\", \">\\u043f\\u043e\", \">\\u0442\\u044c\", \">\\u0442\\u044c\", \">\\u0442\\u044c\", \">\\u0442\\u044c\", \">\\u0444\\u043e\\u0442\\u043e\", \">\\u0444\\u043e\\u0442\\u043e\", \">\\u0444\\u043e\\u0442\\u043e\", \"instagram\", \"\\u0430\\u0432\\u0442\\u043e\\u0434\\u0440\\u043e\\u043c\", \"\\u0430\\u0432\\u0442\\u043e\\u043c\\u043e\\u0439\\u043a\\u0430\", \"\\u0430\\u0432\\u0442\\u043e\\u043c\\u043e\\u0439\\u043a\\u0430\", \"\\u0430\\u0432\\u0442\\u043e\\u043c\\u043e\\u0439\\u043a\\u0430\", \"\\u0430\\u0432\\u0442\\u043e\\u043c\\u043e\\u0439\\u043a\\u0430\", \"\\u0430\\u0437\\u0430\\u0440\\u0442\\u043d\\u044b\\u0439\", \"\\u0430\\u0437\\u0430\\u0440\\u0442\\u043d\\u044b\\u0439\", \"\\u0430\\u043a\\u0446\\u0438\\u044f\", \"\\u0430\\u043a\\u0446\\u0438\\u044f\", \"\\u0430\\u043a\\u0446\\u0438\\u044f\", \"\\u0430\\u043a\\u0446\\u0438\\u044f\", \"\\u0430\\u043c\\u0444\\u0435\\u0442\\u0430\\u043c\\u0438\\u043d\", \"\\u0430\\u043c\\u0444\\u0435\\u0442\\u0430\\u043c\\u0438\\u043d\", \"\\u0430\\u043c\\u0444\\u0435\\u0442\\u0430\\u043c\\u0438\\u043d\", \"\\u0430\\u043c\\u0444\\u0435\\u0442\\u0430\\u043c\\u0438\\u043d\", \"\\u0430\\u0440\\u0442\\u0435\\u043a\", \"\\u0430\\u0440\\u0442\\u0435\\u043a\", \"\\u0430\\u0440\\u0445\\u0438\\u0442\\u0435\\u043a\\u0442\\u0443\\u0440\\u0430\", \"\\u0430\\u0440\\u0445\\u0438\\u0442\\u0435\\u043a\\u0442\\u0443\\u0440\\u0430\", \"\\u0430\\u0440\\u0445\\u0438\\u0442\\u0435\\u043a\\u0442\\u0443\\u0440\\u0430\", \"\\u0431\\u0430\\u0433\\u0430\\u0436\", \"\\u0431\\u0430\\u0433\\u0430\\u0436\", \"\\u0431\\u0435\\u0437\\u043e\\u043f\\u0430\\u0441\\u043d\\u043e\\u0441\\u0442\\u044c\", \"\\u0431\\u0435\\u0437\\u043e\\u043f\\u0430\\u0441\\u043d\\u043e\\u0441\\u0442\\u044c\", \"\\u0431\\u0435\\u0437\\u043e\\u043f\\u0430\\u0441\\u043d\\u043e\\u0441\\u0442\\u044c\", \"\\u0431\\u0435\\u0437\\u043e\\u043f\\u0430\\u0441\\u043d\\u043e\\u0441\\u0442\\u044c\", \"\\u0431\\u0435\\u0437\\u0440\\u0430\\u0431\\u043e\\u0442\\u043d\\u044b\\u0439\", \"\\u0431\\u0435\\u0437\\u0440\\u0430\\u0431\\u043e\\u0442\\u043d\\u044b\\u0439\", \"\\u0431\\u0435\\u0437\\u0440\\u0430\\u0431\\u043e\\u0442\\u043d\\u044b\\u0439\", \"\\u0431\\u0435\\u0437\\u0440\\u0430\\u0431\\u043e\\u0442\\u043d\\u044b\\u0439\", \"\\u0431\\u0435\\u0441\\u043f\\u043b\\u0430\\u0442\\u043d\\u043e\", \"\\u0431\\u0435\\u0441\\u043f\\u043b\\u0430\\u0442\\u043d\\u043e\", \"\\u0431\\u0435\\u0441\\u043f\\u043b\\u0430\\u0442\\u043d\\u043e\", \"\\u0431\\u043b\\u0430\\u0433\\u043e\\u0442\\u0432\\u043e\\u0440\\u0438\\u0442\\u0435\\u043b\\u044c\\u043d\\u044b\\u0439\", \"\\u0431\\u043b\\u0430\\u0433\\u043e\\u0442\\u0432\\u043e\\u0440\\u0438\\u0442\\u0435\\u043b\\u044c\\u043d\\u044b\\u0439\", \"\\u0431\\u043b\\u0430\\u0433\\u043e\\u0442\\u0432\\u043e\\u0440\\u0438\\u0442\\u0435\\u043b\\u044c\\u043d\\u044b\\u0439\", \"\\u0431\\u043b\\u0438\\u0437\\u043a\\u0438\\u0435\", \"\\u0431\\u043b\\u0438\\u0437\\u043a\\u0438\\u0435\", \"\\u0431\\u043b\\u0438\\u0437\\u043a\\u0438\\u0435\", \"\\u0431\\u043b\\u0438\\u0437\\u043a\\u0438\\u0435\", \"\\u0431\\u043e\\u043a\\u043e\\u0432\", \"\\u0431\\u0443\\u0442\\u043e\\u0432\\u044b\\u0439\", \"\\u0431\\u0443\\u0442\\u043e\\u0432\\u044b\\u0439\", \"\\u0431\\u0443\\u0442\\u043e\\u0432\\u044b\\u0439\", \"\\u0432.\\u044f\", \"\\u0432.\\u044f\", \"\\u0432.\\u044f\", \"\\u0432.\\u044f\", \"\\u0432\\u0430\\u043e\", \"\\u0432\\u0430\\u043e\", \"\\u0432\\u0430\\u043e\", \"\\u0432\\u0430\\u043e\", \"\\u0432\\u0430\\u0448\", \"\\u0432\\u0430\\u0448\", \"\\u0432\\u0430\\u0448\", \"\\u0432\\u0430\\u0448\", \"\\u0432\\u0435\\u043b\\u043e\\u0441\\u0438\\u043f\\u0435\\u0434\", \"\\u0432\\u0435\\u043b\\u043e\\u0441\\u0438\\u043f\\u0435\\u0434\", \"\\u0432\\u0435\\u043b\\u043e\\u0441\\u0438\\u043f\\u0435\\u0434\", \"\\u0432\\u0435\\u0441\\u044b\", \"\\u0432\\u0435\\u0441\\u044b\", \"\\u0432\\u0435\\u0441\\u044b\", \"\\u0432\\u0435\\u0441\\u044b\", \"\\u0432\\u0435\\u0441\\u0451\\u043b\\u044b\\u0439\", \"\\u0432\\u0435\\u0441\\u0451\\u043b\\u044b\\u0439\", \"\\u0432\\u0435\\u0441\\u0451\\u043b\\u044b\\u0439\", \"\\u0432\\u0435\\u0441\\u0451\\u043b\\u044b\\u0439\", \"\\u0432\\u0435\\u0442\\u0435\\u0440\\u0430\\u043d\", \"\\u0432\\u0435\\u0442\\u0435\\u0440\\u0430\\u043d\", \"\\u0432\\u0435\\u0442\\u0435\\u0440\\u0430\\u043d\", \"\\u0432\\u0435\\u0442\\u0435\\u0440\\u0430\\u043d\", \"\\u0432\\u0435\\u0442\\u0435\\u0440\\u0430\\u043d\\u0441\\u043a\\u0438\\u0439\", \"\\u0432\\u0435\\u0442\\u0435\\u0440\\u0430\\u043d\\u0441\\u043a\\u0438\\u0439\", \"\\u0432\\u0435\\u0449\\u0435\\u0441\\u0442\\u0432\\u043e\", \"\\u0432\\u0435\\u0449\\u0435\\u0441\\u0442\\u0432\\u043e\", \"\\u0432\\u0435\\u0449\\u0435\\u0441\\u0442\\u0432\\u043e\", \"\\u0432\\u0435\\u0449\\u0435\\u0441\\u0442\\u0432\\u043e\", \"\\u0432\\u0438\\u0434\", \"\\u0432\\u0438\\u0434\", \"\\u0432\\u0438\\u0434\", \"\\u0432\\u0438\\u0434\", \"\\u0432\\u0438\\u043a\\u0442\\u043e\\u0440\\u0438\\u043d\", \"\\u0432\\u0438\\u043a\\u0442\\u043e\\u0440\\u0438\\u043d\", \"\\u0432\\u0438\\u043a\\u0442\\u043e\\u0440\\u0438\\u043d\", \"\\u0432\\u0438\\u043d\\u043e\\u0432\\u043d\\u044b\\u0439\", \"\\u0432\\u0438\\u043d\\u043e\\u0432\\u043d\\u044b\\u0439\", \"\\u0432\\u0438\\u043d\\u043e\\u0432\\u043d\\u044b\\u0439\", \"\\u0432\\u043b\\u044e\\u0431\\u0438\\u0442\\u044c\", \"\\u0432\\u043b\\u044e\\u0431\\u0438\\u0442\\u044c\", \"\\u0432\\u043b\\u044e\\u0431\\u0438\\u0442\\u044c\", \"\\u0432\\u043d\\u0438\\u043c\\u0430\\u043d\\u0438\\u0435\", \"\\u0432\\u043d\\u0438\\u043c\\u0430\\u043d\\u0438\\u0435\", \"\\u0432\\u043d\\u0438\\u043c\\u0430\\u043d\\u0438\\u0435\", \"\\u0432\\u043d\\u0438\\u043c\\u0430\\u043d\\u0438\\u0435\", \"\\u0432\\u043d\\u0443\\u0442\\u0440\\u0435\\u043d\\u043d\\u0438\\u0439\", \"\\u0432\\u043d\\u0443\\u0442\\u0440\\u0435\\u043d\\u043d\\u0438\\u0439\", \"\\u0432\\u043d\\u0443\\u0442\\u0440\\u0435\\u043d\\u043d\\u0438\\u0439\", \"\\u0432\\u043d\\u0443\\u0442\\u0440\\u0435\\u043d\\u043d\\u0438\\u0439\", \"\\u0432\\u043e\\u0437\\u0431\\u0443\\u0434\\u0438\\u0442\\u044c\", \"\\u0432\\u043e\\u0437\\u0431\\u0443\\u0434\\u0438\\u0442\\u044c\", \"\\u0432\\u043e\\u0437\\u0431\\u0443\\u0434\\u0438\\u0442\\u044c\", \"\\u0432\\u043e\\u0437\\u0431\\u0443\\u0434\\u0438\\u0442\\u044c\", \"\\u0432\\u043e\\u043a\\u0430\\u043b\\u044c\\u043d\\u044b\\u0439\", \"\\u0432\\u043e\\u043a\\u0430\\u043b\\u044c\\u043d\\u044b\\u0439\", \"\\u0432\\u043e\\u043b\\u0435\\u0439\\u0431\\u043e\\u043b\", \"\\u0432\\u043e\\u043b\\u0435\\u0439\\u0431\\u043e\\u043b\", \"\\u0432\\u043e\\u043b\\u0435\\u0439\\u0431\\u043e\\u043b\", \"\\u0432\\u043e\\u043b\\u0435\\u0439\\u0431\\u043e\\u043b\", \"\\u0432\\u043e\\u043b\\u043a\", \"\\u0432\\u043e\\u043b\\u043a\", \"\\u0432\\u043e\\u043b\\u043a\", \"\\u0432\\u043e\\u043b\\u043a\", \"\\u0432\\u0440\\u0435\\u043c\\u044f\", \"\\u0432\\u0440\\u0435\\u043c\\u044f\", \"\\u0432\\u0440\\u0435\\u043c\\u044f\", \"\\u0432\\u0440\\u0435\\u043c\\u044f\", \"\\u0432\\u044b\\u043f\\u043b\\u0430\\u0442\\u0430\", \"\\u0432\\u044b\\u043f\\u043b\\u0430\\u0442\\u0430\", \"\\u0432\\u044b\\u043f\\u043b\\u0430\\u0442\\u0430\", \"\\u0432\\u044b\\u043f\\u0443\\u0441\\u043a\\u043d\\u043e\\u0439\", \"\\u0432\\u044b\\u043f\\u0443\\u0441\\u043a\\u043d\\u043e\\u0439\", \"\\u0432\\u044b\\u043f\\u0443\\u0441\\u043a\\u043d\\u043e\\u0439\", \"\\u0432\\u044b\\u0440\\u0430\\u0436\\u0430\\u0442\\u044c\", \"\\u0432\\u044b\\u0440\\u0430\\u0436\\u0430\\u0442\\u044c\", \"\\u0432\\u044b\\u0440\\u0430\\u0449\\u0438\\u0432\\u0430\\u0442\\u044c\", \"\\u0432\\u044b\\u0440\\u0430\\u0449\\u0438\\u0432\\u0430\\u0442\\u044c\", \"\\u0432\\u044b\\u0441\\u0442\\u0430\\u0432\\u043a\\u0430\", \"\\u0432\\u044b\\u0441\\u0442\\u0430\\u0432\\u043a\\u0430\", \"\\u0432\\u044b\\u0441\\u0442\\u0430\\u0432\\u043a\\u0430\", \"\\u0432\\u044b\\u0441\\u0442\\u0430\\u0432\\u043a\\u0430\", \"\\u0432\\u044b\\u0445\\u043e\\u0434\\u043d\\u044b\\u0445!<><>\\u0444\\u043e\\u0442\\u043e\", \"\\u0432\\u044b\\u0445\\u043e\\u0434\\u043d\\u044b\\u0445!<><>\\u0444\\u043e\\u0442\\u043e\", \"\\u0433\\u0430\\u043b\\u0430-\\u043a\\u043e\\u043d\\u0446\\u0435\\u0440\\u0442\", \"\\u0433\\u0430\\u043b\\u0430-\\u043a\\u043e\\u043d\\u0446\\u0435\\u0440\\u0442\", \"\\u0433\\u0430\\u043b\\u0430-\\u043a\\u043e\\u043d\\u0446\\u0435\\u0440\\u0442\", \"\\u0433\\u0430\\u0448\\u0438\\u0448\", \"\\u0433\\u0430\\u0448\\u0438\\u0448\", \"\\u0433\\u0430\\u0448\\u0438\\u0448\", \"\\u0433\\u0430\\u0448\\u0438\\u0448\", \"\\u0433\\u0435\\u0440\\u043e\\u0438\\u043d\", \"\\u0433\\u0435\\u0440\\u043e\\u0438\\u043d\", \"\\u0433\\u0435\\u0440\\u043e\\u0438\\u043d\", \"\\u0433\\u0435\\u0440\\u043e\\u0438\\u043d\", \"\\u0433\\u0438\\u0431\\u0434\\u0434\", \"\\u0433\\u0438\\u0431\\u0434\\u0434\", \"\\u0433\\u0438\\u0431\\u0434\\u0434\", \"\\u0433\\u0438\\u0431\\u0434\\u0434\", \"\\u0433\\u043e\\u0434\", \"\\u0433\\u043e\\u0434\", \"\\u0433\\u043e\\u0434\", \"\\u0433\\u043e\\u0434\", \"\\u0433\\u043e\\u043b\\u044c\\u044f\\u043d\\u043e\\u0432\\u043e\", \"\\u0433\\u043e\\u043b\\u044c\\u044f\\u043d\\u043e\\u0432\\u043e\", \"\\u0433\\u043e\\u043b\\u044c\\u044f\\u043d\\u043e\\u0432\\u043e\", \"\\u0433\\u043e\\u043b\\u044c\\u044f\\u043d\\u043e\\u0432\\u043e\", \"\\u0433\\u043e\\u043d\\u043a\\u0430\", \"\\u0433\\u043e\\u043d\\u043a\\u0430\", \"\\u0433\\u043e\\u043d\\u043a\\u0430\", \"\\u0433\\u043e\\u043d\\u043a\\u0430\", \"\\u0433\\u043e\\u0441\\u0430\\u0432\\u0442\\u043e\\u0438\\u043d\\u0441\\u043f\\u0435\\u043a\\u0446\\u0438\\u044f\", \"\\u0433\\u043e\\u0441\\u0430\\u0432\\u0442\\u043e\\u0438\\u043d\\u0441\\u043f\\u0435\\u043a\\u0446\\u0438\\u044f\", \"\\u0433\\u043e\\u0441\\u0430\\u0432\\u0442\\u043e\\u0438\\u043d\\u0441\\u043f\\u0435\\u043a\\u0446\\u0438\\u044f\", \"\\u0433\\u043e\\u0441\\u0430\\u0432\\u0442\\u043e\\u0438\\u043d\\u0441\\u043f\\u0435\\u043a\\u0446\\u0438\\u044f\", \"\\u0433\\u0440\\u0430\\u0431\\u0435\\u0436\\u0435<><\", \"\\u0433\\u0440\\u0430\\u0431\\u0435\\u0436\\u0435<><\", \"\\u0433\\u0440\\u0430\\u0431\\u0451\\u0436\", \"\\u0433\\u0440\\u0430\\u0431\\u0451\\u0436\", \"\\u0433\\u0440\\u0430\\u0431\\u0451\\u0436\", \"\\u0433\\u0440\\u0430\\u0431\\u0451\\u0436\", \"\\u0433\\u0440\\u0430\\u0436\\u0434\\u0430\\u043d\\u0438\\u043d\", \"\\u0433\\u0440\\u0430\\u0436\\u0434\\u0430\\u043d\\u0438\\u043d\", \"\\u0433\\u0440\\u0430\\u0436\\u0434\\u0430\\u043d\\u0438\\u043d\", \"\\u0433\\u0440\\u0430\\u0436\\u0434\\u0430\\u043d\\u0438\\u043d\", \"\\u0433\\u0440\\u0430\\u043c\\u043c\", \"\\u0433\\u0440\\u0430\\u043c\\u043c\", \"\\u0433\\u0440\\u0430\\u043c\\u043c\", \"\\u0433\\u0440\\u0430\\u043c\\u043c\", \"\\u0433\\u0443\", \"\\u0433\\u0443\", \"\\u0433\\u0443\", \"\\u0433\\u0443\", \"\\u0434\\u0432\\u0438\\u0436\\u0435\\u043d\\u0438\\u0435\", \"\\u0434\\u0432\\u0438\\u0436\\u0435\\u043d\\u0438\\u0435\", \"\\u0434\\u0432\\u0438\\u0436\\u0435\\u043d\\u0438\\u0435\", \"\\u0434\\u0432\\u0438\\u0436\\u0435\\u043d\\u0438\\u0435\", \"\\u0434\\u0432\\u043e\\u0440\\u0435\\u0446\", \"\\u0434\\u0432\\u043e\\u0440\\u0435\\u0446\", \"\\u0434\\u0432\\u043e\\u0440\\u0435\\u0446\", \"\\u0434\\u0432\\u0443\\u0445\\u043a\\u043e\\u043b\\u0451\\u0441\\u043d\\u044b\\u0439\", \"\\u0434\\u0435\\u043b\\u043e\", \"\\u0434\\u0435\\u043b\\u043e\", \"\\u0434\\u0435\\u043b\\u043e\", \"\\u0434\\u0435\\u043b\\u043e\", \"\\u0434\\u0435\\u043d\\u0435\\u0436\\u043d\\u044b\\u0439\", \"\\u0434\\u0435\\u043d\\u0435\\u0436\\u043d\\u044b\\u0439\", \"\\u0434\\u0435\\u043d\\u0435\\u0436\\u043d\\u044b\\u0439\", \"\\u0434\\u0435\\u043d\\u0435\\u0436\\u043d\\u044b\\u0439\", \"\\u0434\\u0435\\u043d\\u044c\", \"\\u0434\\u0435\\u043d\\u044c\", \"\\u0434\\u0435\\u043d\\u044c\", \"\\u0434\\u0435\\u043d\\u044c\", \"\\u0434\\u0438\\u043d\\u0430\\u043c\\u043e\", \"\\u0434\\u0438\\u043d\\u0430\\u043c\\u043e\", \"\\u0434\\u0438\\u043d\\u0430\\u043c\\u043e\", \"\\u0434\\u043e\\u0431\\u0440\\u044b\\u0439\", \"\\u0434\\u043e\\u0431\\u0440\\u044b\\u0439\", \"\\u0434\\u043e\\u0431\\u0440\\u044b\\u0439\", \"\\u0434\\u043e\\u043d\\u0441\\u043a\\u0438\\u0439\", \"\\u0434\\u043e\\u043d\\u0441\\u043a\\u0438\\u0439\", \"\\u0434\\u043f\\u0441\", \"\\u0434\\u043f\\u0441\", \"\\u0434\\u043f\\u0441\", \"\\u0434\\u043f\\u0441\", \"\\u0434\\u0442\\u043f\", \"\\u0434\\u0442\\u043f\", \"\\u0434\\u0442\\u043f\", \"\\u0434\\u0442\\u043f\", \"\\u0436\\u0443\\u0440\\u043d\\u0430\\u043b\", \"\\u0436\\u0443\\u0440\\u043d\\u0430\\u043b\", \"\\u0436\\u0443\\u0440\\u043d\\u0430\\u043b\", \"\\u0436\\u0443\\u0440\\u043d\\u0430\\u043b\", \"\\u0436\\u044e\\u0440\\u0438\", \"\\u0436\\u044e\\u0440\\u0438\", \"\\u0436\\u044e\\u0440\\u0438\", \"\\u0437\\u0430\\u0432\\u043e\\u0435\\u0432\\u0430\\u0442\\u044c\", \"\\u0437\\u0430\\u0432\\u043e\\u0435\\u0432\\u0430\\u0442\\u044c\", \"\\u0437\\u0430\\u0432\\u043e\\u0435\\u0432\\u0430\\u0442\\u044c\", \"\\u0437\\u0430\\u0432\\u043e\\u0435\\u0432\\u0430\\u0442\\u044c\", \"\\u0437\\u0430\\u0434\\u0435\\u0440\\u0436\\u0430\\u0442\\u044c\", \"\\u0437\\u0430\\u0434\\u0435\\u0440\\u0436\\u0430\\u0442\\u044c\", \"\\u0437\\u0430\\u0434\\u0435\\u0440\\u0436\\u0430\\u0442\\u044c\", \"\\u0437\\u0430\\u0434\\u0435\\u0440\\u0436\\u0430\\u0442\\u044c\", \"\\u0437\\u0430\\u043a\\u043e\\u043d\\u043e\\u043f\\u043e\\u0441\\u043b\\u0443\\u0448\\u043d\\u044b\\u0439\", \"\\u0437\\u0430\\u043a\\u043e\\u043d\\u043e\\u043f\\u043e\\u0441\\u043b\\u0443\\u0448\\u043d\\u044b\\u0439\", \"\\u0437\\u0430\\u043a\\u043e\\u043d\\u043e\\u043f\\u043e\\u0441\\u043b\\u0443\\u0448\\u043d\\u044b\\u0439\", \"\\u0437\\u0430\\u043a\\u043e\\u043d\\u043e\\u043f\\u043e\\u0441\\u043b\\u0443\\u0448\\u043d\\u044b\\u0439\", \"\\u0437\\u0430\\u043f\\u0440\\u0435\\u0442\\u0438\\u0442\\u044c\", \"\\u0437\\u0430\\u043f\\u0440\\u0435\\u0442\\u0438\\u0442\\u044c\", \"\\u0437\\u0430\\u043f\\u0440\\u0435\\u0442\\u0438\\u0442\\u044c\", \"\\u0437\\u0430\\u043f\\u0440\\u0435\\u0442\\u0438\\u0442\\u044c\", \"\\u0437\\u0430\\u0440\\u044f\\u0434\\u043a\\u0430\", \"\\u0437\\u0430\\u0440\\u044f\\u0434\\u043a\\u0430\", \"\\u0438\\u0433\\u043e\\u0440\\u043d\\u044b\\u0439\", \"\\u0438\\u0433\\u043e\\u0440\\u043d\\u044b\\u0439\", \"\\u0438\\u0433\\u043e\\u0440\\u043d\\u044b\\u0439\", \"\\u0438\\u0433\\u043e\\u0440\\u043d\\u044b\\u0439\", \"\\u0438\\u0433\\u0440\\u043e\\u0432\\u043e\\u0439\", \"\\u0438\\u0433\\u0440\\u043e\\u0432\\u043e\\u0439\", \"\\u0438\\u0437\\u0432\\u043b\\u0435\\u0447\\u0435\\u043d\\u0438\\u0435\", \"\\u0438\\u0437\\u0432\\u043b\\u0435\\u0447\\u0435\\u043d\\u0438\\u0435\", \"\\u0438\\u0437\\u044a\\u044f\\u0442\\u044c\", \"\\u0438\\u0437\\u044a\\u044f\\u0442\\u044c\", \"\\u0438\\u0437\\u044a\\u044f\\u0442\\u044c\", \"\\u0438\\u0437\\u044a\\u044f\\u0442\\u044c\", \"\\u0438\\u043d\\u0442\\u0438\\u043c\\u043d\\u044b\\u0439\", \"\\u0438\\u043d\\u0442\\u0438\\u043c\\u043d\\u044b\\u0439\", \"\\u0438\\u043d\\u0442\\u0438\\u043c\\u043d\\u044b\\u0439\", \"\\u0438\\u043d\\u0442\\u0438\\u043c\\u043d\\u044b\\u0439\", \"\\u043a\\u0430\\u043d\\u0430\\u0434\\u0430\", \"\\u043a\\u0430\\u0440\\u043c\\u0430\\u043d\\u043d\\u044b\\u0439\", \"\\u043a\\u0430\\u0440\\u043c\\u0430\\u043d\\u043d\\u044b\\u0439\", \"\\u043a\\u0430\\u0440\\u0442\\u0438\\u043d\\u0430\", \"\\u043a\\u0430\\u0440\\u0442\\u0438\\u043d\\u0430\", \"\\u043a\\u0430\\u0440\\u0442\\u0438\\u043d\\u0430\", \"\\u043a\\u0432\\u0430\\u0440\\u0442\\u0438\\u0440\\u0430\", \"\\u043a\\u0432\\u0430\\u0440\\u0442\\u0438\\u0440\\u0430\", \"\\u043a\\u0432\\u0430\\u0440\\u0442\\u0438\\u0440\\u0430\", \"\\u043a\\u0432\\u0430\\u0440\\u0442\\u0438\\u0440\\u0430\", \"\\u043a\\u0438\\u043a\\u043e\\u0442\\u0438\\u0442\\u044c\", \"\\u043a\\u0438\\u043a\\u043e\\u0442\\u0438\\u0442\\u044c\", \"\\u043a\\u0438\\u043a\\u043e\\u0442\\u0438\\u0442\\u044c\", \"\\u043a\\u0438\\u043a\\u043e\\u0442\\u0438\\u0442\\u044c\", \"\\u043a\\u0438\\u043b\\u043e\\u043c\\u0435\\u0442\\u0440\", \"\\u043a\\u0438\\u043b\\u043e\\u043c\\u0435\\u0442\\u0440\", \"\\u043a\\u0438\\u043b\\u043e\\u043c\\u0435\\u0442\\u0440\", \"\\u043a\\u0438\\u043b\\u043e\\u043c\\u0435\\u0442\\u0440\", \"\\u043a\\u0438\\u043d\\u043e\\u043b\\u043e\\u0433\\u043e\\u0432\\u043e\", \"\\u043a\\u0438\\u043d\\u043e\\u043b\\u043e\\u0433\\u043e\\u0432\\u043e\", \"\\u043a\\u0438\\u043d\\u043e\\u043b\\u043e\\u0433\\u043e\\u0432\\u043e\", \"\\u043a\\u043b\\u0438\\u0435\\u043d\\u0442\", \"\\u043a\\u043b\\u0438\\u0435\\u043d\\u0442\", \"\\u043a\\u043b\\u0438\\u0435\\u043d\\u0442\", \"\\u043a\\u043e\\u043c\\u0430\\u043d\\u0434\\u0430\", \"\\u043a\\u043e\\u043c\\u0430\\u043d\\u0434\\u0430\", \"\\u043a\\u043e\\u043c\\u0430\\u043d\\u0434\\u0430\", \"\\u043a\\u043e\\u043c\\u0430\\u043d\\u0434\\u0430\", \"\\u043a\\u043e\\u043c\\u0438\", \"\\u043a\\u043e\\u043c\\u043f\\u043e\\u0437\\u0438\\u0446\\u0438\\u044f\", \"\\u043a\\u043e\\u043c\\u043f\\u043e\\u0437\\u0438\\u0446\\u0438\\u044f\", \"\\u043a\\u043e\\u043c\\u0441\\u043e\\u043c\\u043e\\u043b\\u044c\\u0441\\u043a\\u0438\\u0439\", \"\\u043a\\u043e\\u043c\\u0441\\u043e\\u043c\\u043e\\u043b\\u044c\\u0441\\u043a\\u0438\\u0439\", \"\\u043a\\u043e\\u043c\\u0441\\u043e\\u043c\\u043e\\u043b\\u044c\\u0441\\u043a\\u0438\\u0439\", \"\\u043a\\u043e\\u043d\\u0432\\u0435\\u0440\\u0442\", \"\\u043a\\u043e\\u043d\\u0432\\u0435\\u0440\\u0442\", \"\\u043a\\u043e\\u043d\\u0432\\u0435\\u0440\\u0442\", \"\\u043a\\u043e\\u043d\\u0432\\u0435\\u0440\\u0442\", \"\\u043a\\u043e\\u043d\\u043a\\u0443\\u0440\\u0441\", \"\\u043a\\u043e\\u043d\\u043a\\u0443\\u0440\\u0441\", \"\\u043a\\u043e\\u043d\\u043a\\u0443\\u0440\\u0441\", \"\\u043a\\u043e\\u043d\\u043a\\u0443\\u0440\\u0441\", \"\\u043a\\u043e\\u0440\\u0430\\u0431\\u043b\\u044c\", \"\\u043a\\u043e\\u0440\\u0430\\u0431\\u043b\\u044c\", \"\\u043a\\u043e\\u0440\\u0430\\u0431\\u043b\\u044c\", \"\\u043a\\u043e\\u0440\\u0430\\u0431\\u043b\\u044c\", \"\\u043a\\u043e\\u0440\\u0438\\u0447\\u043d\\u0435\\u0432\\u044b\\u0439\", \"\\u043a\\u043e\\u0440\\u0438\\u0447\\u043d\\u0435\\u0432\\u044b\\u0439\", \"\\u043a\\u043e\\u0440\\u0438\\u0447\\u043d\\u0435\\u0432\\u044b\\u0439\", \"\\u043a\\u043e\\u0440\\u0440\\u0435\\u0441\\u043f\\u043e\\u043d\\u0434\\u0435\\u043d\\u0446\\u0438\\u044f\", \"\\u043a\\u043e\\u0440\\u0440\\u0435\\u0441\\u043f\\u043e\\u043d\\u0434\\u0435\\u043d\\u0446\\u0438\\u044f\", \"\\u043a\\u043e\\u0440\\u0440\\u0435\\u0441\\u043f\\u043e\\u043d\\u0434\\u0435\\u043d\\u0446\\u0438\\u044f\", \"\\u043a\\u043e\\u0440\\u0440\\u0435\\u0441\\u043f\\u043e\\u043d\\u0434\\u0435\\u043d\\u0446\\u0438\\u044f\", \"\\u043a\\u043e\\u0442\\u043e\\u0440\\u044b\\u0439\", \"\\u043a\\u043e\\u0442\\u043e\\u0440\\u044b\\u0439\", \"\\u043a\\u043e\\u0442\\u043e\\u0440\\u044b\\u0439\", \"\\u043a\\u043e\\u0442\\u043e\\u0440\\u044b\\u0439\", \"\\u043a\\u0440\\u0430\\u0432\\u0447\\u0435\\u043d\\u043a\\u043e\", \"\\u043a\\u0440\\u0430\\u0436\\u0430\", \"\\u043a\\u0440\\u0430\\u0436\\u0430\", \"\\u043a\\u0440\\u0430\\u0436\\u0430\", \"\\u043a\\u0440\\u0430\\u0436\\u0430\", \"\\u043a\\u0440\\u0430\\u0441\\u043d\\u043e\\u0434\\u0430\\u0440\", \"\\u043a\\u0440\\u0430\\u0441\\u043d\\u043e\\u0434\\u0430\\u0440\", \"\\u043a\\u0440\\u0435\\u0449\\u0435\\u043d\\u0438\\u0435\", \"\\u043a\\u0440\\u0435\\u0449\\u0435\\u043d\\u0438\\u0435\", \"\\u043a\\u0443\\u043f\\u0438\\u0442\\u044c\", \"\\u043a\\u0443\\u043f\\u0438\\u0442\\u044c\", \"\\u043a\\u0443\\u043f\\u0438\\u0442\\u044c\", \"\\u043b\\u0435\\u043d\\u0438\\u043d\\u0441\\u043a\\u0438\\u0439\", \"\\u043b\\u0435\\u043d\\u0438\\u043d\\u0441\\u043a\\u0438\\u0439\", \"\\u043b\\u0435\\u043d\\u0438\\u043d\\u0441\\u043a\\u0438\\u0439\", \"\\u043b\\u0438\\u0440\\u0430\", \"\\u043b\\u0438\\u0440\\u0430\", \"\\u043b\\u0438\\u0440\\u0430\", \"\\u043b\\u0438\\u0444\\u0442\", \"\\u043b\\u0438\\u0444\\u0442\", \"\\u043b\\u0438\\u0444\\u0442\", \"\\u043b\\u0438\\u0447\\u043d\\u043e\\u0441\\u0442\\u044c\", \"\\u043b\\u0438\\u0447\\u043d\\u043e\\u0441\\u0442\\u044c\", \"\\u043b\\u044c\\u0432\\u0451\\u043d\\u043e\\u043a\", \"\\u043b\\u044c\\u0432\\u0451\\u043d\\u043e\\u043a\", \"\\u043b\\u044e\\u0431\\u043b\\u0438\\u043d\\u043e\", \"\\u043b\\u044e\\u0431\\u043b\\u0438\\u043d\\u043e\", \"\\u043b\\u044e\\u0431\\u043b\\u0438\\u043d\\u043e\", \"\\u043c\\u0430\\u043c\\u0430\", \"\\u043c\\u0430\\u043c\\u0430\", \"\\u043c\\u0430\\u0440\\u0438\\u0445\\u0443\\u0430\\u043d\\u0430\", \"\\u043c\\u0430\\u0440\\u0438\\u0445\\u0443\\u0430\\u043d\\u0430\", \"\\u043c\\u0430\\u0440\\u0438\\u0445\\u0443\\u0430\\u043d\\u0430\", \"\\u043c\\u0430\\u0440\\u0438\\u0445\\u0443\\u0430\\u043d\\u0430\", \"\\u043c\\u0430\\u0440\\u043a\\u0430\", \"\\u043c\\u0430\\u0440\\u043a\\u0430\", \"\\u043c\\u0430\\u0440\\u043a\\u0430\", \"\\u043c\\u0430\\u0440\\u043a\\u0430\", \"\\u043c\\u0430\\u0441\\u0442\\u0435\\u0440\", \"\\u043c\\u0430\\u0441\\u0442\\u0435\\u0440\", \"\\u043c\\u0430\\u0441\\u0442\\u0435\\u0440\", \"\\u043c\\u0430\\u0441\\u0442\\u0435\\u0440\", \"\\u043c\\u0432\\u0434\", \"\\u043c\\u0432\\u0434\", \"\\u043c\\u0432\\u0434\", \"\\u043c\\u0432\\u0434\", \"\\u043c\\u0435\\u043b\\u043a\\u0438\\u0439\", \"\\u043c\\u0435\\u043b\\u043a\\u0438\\u0439\", \"\\u043c\\u0435\\u043b\\u043a\\u0438\\u0439\", \"\\u043c\\u0435\\u043b\\u043a\\u0438\\u0439\", \"\\u043c\\u0435\\u0440\\u043e\\u043f\\u0440\\u0438\\u044f\\u0442\\u0438\\u0435\", \"\\u043c\\u0435\\u0440\\u043e\\u043f\\u0440\\u0438\\u044f\\u0442\\u0438\\u0435\", \"\\u043c\\u0435\\u0440\\u043e\\u043f\\u0440\\u0438\\u044f\\u0442\\u0438\\u0435\", \"\\u043c\\u0435\\u0440\\u043e\\u043f\\u0440\\u0438\\u044f\\u0442\\u0438\\u0435\", \"\\u043c\\u0435\\u0441\\u0442\\u043e\", \"\\u043c\\u0435\\u0441\\u0442\\u043e\", \"\\u043c\\u0435\\u0441\\u0442\\u043e\", \"\\u043c\\u0435\\u0441\\u0442\\u043e\", \"\\u043c\\u0435\\u0441\\u0442\\u043e\\u043d\\u0430\\u0445\\u043e\\u0436\\u0434\\u0435\\u043d\\u0438\\u0435\", \"\\u043c\\u0435\\u0441\\u0442\\u043e\\u043d\\u0430\\u0445\\u043e\\u0436\\u0434\\u0435\\u043d\\u0438\\u0435\", \"\\u043c\\u0435\\u0441\\u0442\\u043e\\u043d\\u0430\\u0445\\u043e\\u0436\\u0434\\u0435\\u043d\\u0438\\u0435\", \"\\u043c\\u0435\\u0441\\u0442\\u043e\\u043d\\u0430\\u0445\\u043e\\u0436\\u0434\\u0435\\u043d\\u0438\\u0435\", \"\\u043c\\u0435\\u0442\\u0435\\u043e\\u0440\\u0438\\u0442\", \"\\u043c\\u0435\\u0442\\u0435\\u043e\\u0440\\u0438\\u0442\", \"\\u043c\\u0435\\u0442\\u0440\\u043e\\u043f\\u043e\\u043b\\u0438\\u0442\\u0435\\u043d\", \"\\u043c\\u0435\\u0442\\u0440\\u043e\\u043f\\u043e\\u043b\\u0438\\u0442\\u0435\\u043d\", \"\\u043c\\u0435\\u0442\\u0440\\u043e\\u043f\\u043e\\u043b\\u0438\\u0442\\u0435\\u043d\", \"\\u043c\\u0438\\u043b\\u0438\\u0446\\u0438\\u044f\", \"\\u043c\\u0438\\u043b\\u0438\\u0446\\u0438\\u044f\", \"\\u043c\\u0438\\u043b\\u0438\\u0446\\u0438\\u044f\", \"\\u043c\\u0438\\u043b\\u0438\\u0446\\u0438\\u044f\", \"\\u043c\\u0438\\u043b\\u043b\\u0438\\u043e\\u043d\", \"\\u043c\\u0438\\u043b\\u043b\\u0438\\u043e\\u043d\", \"\\u043c\\u0438\\u043b\\u043b\\u0438\\u043e\\u043d\", \"\\u043c\\u0438\\u043b\\u043b\\u0438\\u043e\\u043d\", \"\\u043c\\u043e\\u0440\\u043e\\u0437\", \"\\u043c\\u043e\\u0440\\u043e\\u0437\", \"\\u043c\\u043e\\u0440\\u043e\\u0437\", \"\\u043c\\u043e\\u0440\\u043e\\u0437\", \"\\u043c\\u043e\\u0441\\u043a\\u0432\\u0430\", \"\\u043c\\u043e\\u0441\\u043a\\u0432\\u0430\", \"\\u043c\\u043e\\u0441\\u043a\\u0432\\u0430\", \"\\u043c\\u043e\\u0441\\u043a\\u0432\\u0430\", \"\\u043c\\u043e\\u0441\\u043a\\u0432\\u0430-\\u0440\\u0435\\u043a\\u0430\", \"\\u043c\\u043e\\u0441\\u043a\\u0432\\u0430-\\u0440\\u0435\\u043a\\u0430\", \"\\u043c\\u043e\\u0441\\u043a\\u0432\\u0435<><>#\\u043c\\u0432\\u0434\", \"\\u043c\\u043e\\u0441\\u043a\\u0432\\u0435<><>#\\u043c\\u0432\\u0434\", \"\\u043c\\u043e\\u0441\\u043a\\u0432\\u0435<><>#\\u043c\\u0432\\u0434\", \"\\u043c\\u043e\\u0441\\u043a\\u043e\\u0432\\u0441\\u043a\\u0438\\u0439\", \"\\u043c\\u043e\\u0441\\u043a\\u043e\\u0432\\u0441\\u043a\\u0438\\u0439\", \"\\u043c\\u043e\\u0441\\u043a\\u043e\\u0432\\u0441\\u043a\\u0438\\u0439\", \"\\u043c\\u043e\\u0441\\u043a\\u043e\\u0432\\u0441\\u043a\\u0438\\u0439\", \"\\u043c\\u043e\\u0447\\u044c\", \"\\u043c\\u043e\\u0447\\u044c\", \"\\u043c\\u043e\\u0447\\u044c\", \"\\u043c\\u043e\\u0447\\u044c\", \"\\u043c\\u043e\\u0448\\u0435\\u043d\\u043d\\u0438\\u0447\\u0435\\u0441\\u0442\\u0432\\u043e\", \"\\u043c\\u043e\\u0448\\u0435\\u043d\\u043d\\u0438\\u0447\\u0435\\u0441\\u0442\\u0432\\u043e\", \"\\u043c\\u043e\\u0448\\u0435\\u043d\\u043d\\u0438\\u0447\\u0435\\u0441\\u0442\\u0432\\u043e\", \"\\u043c\\u043e\\u0448\\u0435\\u043d\\u043d\\u0438\\u0447\\u0435\\u0441\\u0442\\u0432\\u043e\", \"\\u043c\\u0443\\u0436\\u0447\\u0438\\u043d\\u0430\", \"\\u043c\\u0443\\u0436\\u0447\\u0438\\u043d\\u0430\", \"\\u043c\\u0443\\u0436\\u0447\\u0438\\u043d\\u0430\", \"\\u043c\\u0443\\u0436\\u0447\\u0438\\u043d\\u0430\", \"\\u043c\\u0443\\u0437\\u0435\\u0439\", \"\\u043c\\u0443\\u0437\\u0435\\u0439\", \"\\u043c\\u0443\\u0437\\u0435\\u0439\", \"\\u043c\\u0443\\u0437\\u0435\\u0439\", \"\\u043c\\u0443\\u0437\\u044b\\u043a\\u0430\\u043b\\u044c\\u043d\\u044b\\u0439\", \"\\u043c\\u0443\\u0437\\u044b\\u043a\\u0430\\u043b\\u044c\\u043d\\u044b\\u0439\", \"\\u043c\\u0443\\u0437\\u044b\\u043a\\u0430\\u043b\\u044c\\u043d\\u044b\\u0439\", \"\\u043c\\u0443\\u0437\\u044b\\u043a\\u0430\\u043b\\u044c\\u043d\\u044b\\u0439\", \"\\u043c\\u0447\\u0441\", \"\\u043c\\u0447\\u0441\", \"\\u043c\\u0447\\u0441\", \"\\u043c\\u0447\\u0441\", \"\\u043d\\u0430\\u0433\\u043e\\u0440\\u043d\\u044b\\u0439\", \"\\u043d\\u0430\\u0433\\u043e\\u0440\\u043d\\u044b\\u0439\", \"\\u043d\\u0430\\u0433\\u043e\\u0440\\u043d\\u044b\\u0439\", \"\\u043d\\u0430\\u043f\\u0430\\u0434\\u0435\\u043d\\u0438\\u0435\", \"\\u043d\\u0430\\u043f\\u0430\\u0434\\u0435\\u043d\\u0438\\u0435\", \"\\u043d\\u0430\\u043f\\u0430\\u0434\\u0435\\u043d\\u0438\\u0435\", \"\\u043d\\u0430\\u043f\\u0430\\u0434\\u0435\\u043d\\u0438\\u0435\", \"\\u043d\\u0430\\u043f\\u043e\\u043c\\u0438\\u043d\\u0430\\u0442\\u044c\", \"\\u043d\\u0430\\u043f\\u043e\\u043c\\u0438\\u043d\\u0430\\u0442\\u044c\", \"\\u043d\\u0430\\u043f\\u043e\\u043c\\u0438\\u043d\\u0430\\u0442\\u044c\", \"\\u043d\\u0430\\u0447\\u0430\\u043b\\u044c\\u043d\\u0438\\u043a\", \"\\u043d\\u0430\\u0447\\u0430\\u043b\\u044c\\u043d\\u0438\\u043a\", \"\\u043d\\u0430\\u0447\\u0430\\u043b\\u044c\\u043d\\u0438\\u043a\", \"\\u043d\\u0430\\u0447\\u0430\\u043b\\u044c\\u043d\\u0438\\u043a\", \"\\u043d\\u0430\\u0448\", \"\\u043d\\u0430\\u0448\", \"\\u043d\\u0430\\u0448\", \"\\u043d\\u0430\\u0448\", \"\\u043d\\u0430\\u0448\\u0438\\u0433\\u0435\\u0440\\u043e\\u0439\", \"\\u043d\\u0430\\u0448\\u0438\\u0433\\u0435\\u0440\\u043e\\u0439\", \"\\u043d\\u0435\\u0434\\u0435\\u043b\\u0438!<><>\\u0444\\u043e\\u0442\\u043e\", \"\\u043d\\u0435\\u0434\\u0435\\u043b\\u0438!<><>\\u0444\\u043e\\u0442\\u043e\", \"\\u043d\\u0435\\u0434\\u0435\\u043b\\u0438!<><>\\u0444\\u043e\\u0442\\u043e\", \"\\u043d\\u0435\\u0437\\u0430\\u043a\\u043e\\u043d\\u043d\\u044b\\u0439\", \"\\u043d\\u0435\\u0437\\u0430\\u043a\\u043e\\u043d\\u043d\\u044b\\u0439\", \"\\u043d\\u0435\\u0437\\u0430\\u043a\\u043e\\u043d\\u043d\\u044b\\u0439\", \"\\u043d\\u0435\\u0437\\u0430\\u043a\\u043e\\u043d\\u043d\\u044b\\u0439\", \"\\u043d\\u0435\\u0441\\u043e\\u0432\\u0435\\u0440\\u0448\\u0435\\u043d\\u043d\\u043e\\u043b\\u0435\\u0442\\u043d\\u0438\\u0439\", \"\\u043d\\u0435\\u0441\\u043e\\u0432\\u0435\\u0440\\u0448\\u0435\\u043d\\u043d\\u043e\\u043b\\u0435\\u0442\\u043d\\u0438\\u0439\", \"\\u043d\\u0435\\u0441\\u043e\\u0432\\u0435\\u0440\\u0448\\u0435\\u043d\\u043d\\u043e\\u043b\\u0435\\u0442\\u043d\\u0438\\u0439\", \"\\u043d\\u0438\\u043a\\u0438\\u0444\\u043e\\u0440\\u043e\\u0432\", \"\\u043d\\u0438\\u043a\\u0438\\u0444\\u043e\\u0440\\u043e\\u0432\", \"\\u043d\\u043e\\u0432\\u043e\\u0441\\u0442\\u044c\", \"\\u043d\\u043e\\u0432\\u043e\\u0441\\u0442\\u044c\", \"\\u043d\\u043e\\u0432\\u043e\\u0441\\u0442\\u044c\", \"\\u043d\\u043e\\u0432\\u043e\\u0441\\u0442\\u044c\", \"\\u043e\\u0431\\u043b\\u043e\\u0436\\u043a\\u0430\", \"\\u043e\\u0431\\u043b\\u043e\\u0436\\u043a\\u0430\", \"\\u043e\\u0431\\u043d\\u0430\\u0440\\u0443\\u0436\\u0438\\u0442\\u044c\", \"\\u043e\\u0431\\u043d\\u0430\\u0440\\u0443\\u0436\\u0438\\u0442\\u044c\", \"\\u043e\\u0431\\u043d\\u0430\\u0440\\u0443\\u0436\\u0438\\u0442\\u044c\", \"\\u043e\\u0431\\u043d\\u0430\\u0440\\u0443\\u0436\\u0438\\u0442\\u044c\", \"\\u043e\\u0431\\u044b\\u0441\\u043a\", \"\\u043e\\u0431\\u044b\\u0441\\u043a\", \"\\u043e\\u0431\\u044b\\u0441\\u043a\", \"\\u043e\\u0431\\u044b\\u0441\\u043a\", \"\\u043e\\u0433\\u0440\\u0430\\u043d\\u0438\\u0447\\u0435\\u043d\\u0438\\u0435\", \"\\u043e\\u0433\\u0440\\u0430\\u043d\\u0438\\u0447\\u0435\\u043d\\u0438\\u0435\", \"\\u043e\\u0433\\u0440\\u0430\\u043d\\u0438\\u0447\\u0435\\u043d\\u0438\\u0435\", \"\\u043e\\u0433\\u0440\\u0430\\u043d\\u0438\\u0447\\u0435\\u043d\\u0438\\u0435\", \"\\u043e\\u0434\\u0438\\u043d\", \"\\u043e\\u0434\\u0438\\u043d\", \"\\u043e\\u0434\\u0438\\u043d\", \"\\u043e\\u0434\\u0438\\u043d\", \"\\u043e\\u043a\\u0440\\u0443\\u0433\\u0430\", \"\\u043e\\u043a\\u0440\\u0443\\u0433\\u0430\", \"\\u043e\\u043a\\u0440\\u0443\\u0433\\u0430\", \"\\u043e\\u043a\\u0440\\u0443\\u0433\\u0430\", \"\\u043e\\u043c\\u0432\\u0434\", \"\\u043e\\u043c\\u0432\\u0434\", \"\\u043e\\u043c\\u0432\\u0434\", \"\\u043e\\u043c\\u0432\\u0434\", \"\\u043e\\u043c\\u0441\\u043a\\u0438\\u0439\", \"\\u043e\\u043c\\u0441\\u043a\\u0438\\u0439\", \"\\u043e\\u043f\\u0435\\u0440\\u0430\\u0442\\u0438\\u0432\\u043d\\u0438\\u043a\", \"\\u043e\\u043f\\u0435\\u0440\\u0430\\u0442\\u0438\\u0432\\u043d\\u0438\\u043a\", \"\\u043e\\u043f\\u0435\\u0440\\u0430\\u0442\\u0438\\u0432\\u043d\\u0438\\u043a\", \"\\u043e\\u043f\\u0435\\u0440\\u0430\\u0442\\u0438\\u0432\\u043d\\u0438\\u043a\", \"\\u043e\\u043f\\u0435\\u0440\\u0430\\u0442\\u0438\\u0432\\u043d\\u043e-\\u0440\\u0430\\u0437\\u044b\\u0441\\u043a\\u043d\\u043e\\u0439\", \"\\u043e\\u043f\\u0435\\u0440\\u0430\\u0442\\u0438\\u0432\\u043d\\u043e-\\u0440\\u0430\\u0437\\u044b\\u0441\\u043a\\u043d\\u043e\\u0439\", \"\\u043e\\u043f\\u0435\\u0440\\u0430\\u0442\\u0438\\u0432\\u043d\\u043e-\\u0440\\u0430\\u0437\\u044b\\u0441\\u043a\\u043d\\u043e\\u0439\", \"\\u043e\\u043f\\u0435\\u0440\\u0430\\u0442\\u0438\\u0432\\u043d\\u043e-\\u0440\\u0430\\u0437\\u044b\\u0441\\u043a\\u043d\\u043e\\u0439\", \"\\u043e\\u043f\\u0435\\u0440\\u0430\\u0442\\u0438\\u0432\\u043d\\u044b\\u0439\", \"\\u043e\\u043f\\u0435\\u0440\\u0430\\u0442\\u0438\\u0432\\u043d\\u044b\\u0439\", \"\\u043e\\u043f\\u0435\\u0440\\u0430\\u0442\\u0438\\u0432\\u043d\\u044b\\u0439\", \"\\u043e\\u043f\\u0435\\u0440\\u0430\\u0442\\u0438\\u0432\\u043d\\u044b\\u0439\", \"\\u043e\\u043f\\u043b\\u0430\\u0442\\u0430\", \"\\u043e\\u043f\\u043b\\u0430\\u0442\\u0430\", \"\\u043e\\u043f\\u043b\\u0430\\u0442\\u0430\", \"\\u043e\\u043f\\u043b\\u0430\\u0442\\u0430\", \"\\u043e\\u0441\\u0442\\u0440\\u043e\\u0432\", \"\\u043e\\u0441\\u0442\\u0440\\u043e\\u0432\", \"\\u043e\\u0441\\u0442\\u0440\\u043e\\u0432\", \"\\u043e\\u0441\\u0442\\u0440\\u043e\\u0432\", \"\\u043e\\u0442\\u0434\\u0435\\u043b\", \"\\u043e\\u0442\\u0434\\u0435\\u043b\", \"\\u043e\\u0442\\u0434\\u0435\\u043b\", \"\\u043e\\u0442\\u0434\\u0435\\u043b\", \"\\u043e\\u0442\\u0434\\u0435\\u043b\\u0435\\u043d\\u0438\\u0435\", \"\\u043e\\u0442\\u0434\\u0435\\u043b\\u0435\\u043d\\u0438\\u0435\", \"\\u043e\\u0442\\u0434\\u0435\\u043b\\u0435\\u043d\\u0438\\u0435\", \"\\u043e\\u0442\\u0434\\u0435\\u043b\\u0435\\u043d\\u0438\\u0435\", \"\\u043e\\u0442\\u043a\\u0440\\u044b\\u0442\\u043a\\u0430\", \"\\u043e\\u0442\\u043a\\u0440\\u044b\\u0442\\u043a\\u0430\", \"\\u043e\\u0442\\u043a\\u0440\\u044b\\u0442\\u043a\\u0430\", \"\\u043e\\u0442\\u043a\\u0440\\u044b\\u0442\\u043a\\u0430\", \"\\u043e\\u0442\\u043f\\u0440\\u0430\\u0432\\u0438\\u0442\\u0435\\u043b\\u044c\", \"\\u043e\\u0442\\u043f\\u0440\\u0430\\u0432\\u0438\\u0442\\u0435\\u043b\\u044c\", \"\\u043e\\u0442\\u043f\\u0440\\u0430\\u0432\\u0438\\u0442\\u0435\\u043b\\u044c\", \"\\u043e\\u0442\\u043f\\u0440\\u0430\\u0432\\u0438\\u0442\\u0435\\u043b\\u044c\", \"\\u043e\\u0444\\u043e\\u0440\\u043c\\u0438\\u0442\\u044c\", \"\\u043e\\u0444\\u043e\\u0440\\u043c\\u0438\\u0442\\u044c\", \"\\u043e\\u0444\\u043e\\u0440\\u043c\\u043b\\u0435\\u043d\\u0438\\u0435\", \"\\u043e\\u0444\\u043e\\u0440\\u043c\\u043b\\u0435\\u043d\\u0438\\u0435\", \"\\u043e\\u0447\\u0435\\u0432\\u0438\\u0434\\u0435\\u0446\", \"\\u043e\\u0447\\u0435\\u0432\\u0438\\u0434\\u0435\\u0446\", \"\\u043e\\u0447\\u0435\\u0432\\u0438\\u0434\\u0435\\u0446\", \"\\u043e\\u0447\\u0435\\u0432\\u0438\\u0434\\u0435\\u0446\", \"\\u043f\\u0430\\u0440\\u043a\\u043e\\u0432\\u043e\\u0447\\u043d\\u044b\\u0439\", \"\\u043f\\u0430\\u0441\\u043f\\u043e\\u0440\\u0442\", \"\\u043f\\u0430\\u0441\\u043f\\u043e\\u0440\\u0442\", \"\\u043f\\u0430\\u0441\\u043f\\u043e\\u0440\\u0442\", \"\\u043f\\u0430\\u0442\\u0435\\u043d\\u0442\", \"\\u043f\\u0430\\u0442\\u0435\\u043d\\u0442\", \"\\u043f\\u0430\\u0442\\u0435\\u043d\\u0442\", \"\\u043f\\u0435\\u0440\\u0435\\u0432\\u043e\\u0434\", \"\\u043f\\u0435\\u0440\\u0435\\u0432\\u043e\\u0434\", \"\\u043f\\u0435\\u0440\\u0435\\u0432\\u043e\\u0434\", \"\\u043f\\u0435\\u0440\\u0435\\u0432\\u043e\\u0434\", \"\\u043f\\u0435\\u0440\\u0435\\u043f\\u0438\\u0441\\u043a\\u0430\", \"\\u043f\\u0435\\u0440\\u0435\\u043f\\u0438\\u0441\\u043a\\u0430\", \"\\u043f\\u0435\\u0440\\u0435\\u043f\\u0438\\u0441\\u043a\\u0430\", \"\\u043f\\u0435\\u0440\\u0447\\u0430\\u0442\\u043a\\u0430\", \"\\u043f\\u0435\\u0440\\u0447\\u0430\\u0442\\u043a\\u0430\", \"\\u043f\\u0435\\u0440\\u0447\\u0430\\u0442\\u043a\\u0430\", \"\\u043f\\u0435\\u0440\\u0447\\u0430\\u0442\\u043a\\u0430\", \"\\u043f\\u0435\\u0441\\u043e\\u043a\", \"\\u043f\\u0435\\u0442\\u0440\\u043e\\u0432\\u043a\\u0430\", \"\\u043f\\u0435\\u0442\\u0440\\u043e\\u0432\\u043a\\u0430\", \"\\u043f\\u0435\\u0442\\u0440\\u043e\\u0432\\u043a\\u0430\", \"\\u043f\\u0435\\u0442\\u0440\\u043e\\u0432\\u043a\\u0430\", \"\\u043f\\u0435\\u0442\\u0440\\u043e\\u0432\\u043a\\u043038\", \"\\u043f\\u0435\\u0442\\u0440\\u043e\\u0432\\u043a\\u043038\", \"\\u043f\\u0435\\u0442\\u0440\\u043e\\u0432\\u043a\\u043038\", \"\\u043f\\u0435\\u0442\\u0440\\u043e\\u0432\\u043a\\u043038\", \"\\u043f\\u0435\\u0442\\u044c\", \"\\u043f\\u0435\\u0442\\u044c\", \"\\u043f\\u0435\\u0448\\u0435\\u0445\\u043e\\u0434\", \"\\u043f\\u0435\\u0448\\u0435\\u0445\\u043e\\u0434\", \"\\u043f\\u0435\\u0448\\u0435\\u0445\\u043e\\u0434\", \"\\u043f\\u0438\\u0441\\u044c\\u043c\\u043e\", \"\\u043f\\u0438\\u0441\\u044c\\u043c\\u043e\", \"\\u043f\\u0438\\u0441\\u044c\\u043c\\u043e\", \"\\u043f\\u0438\\u0441\\u044c\\u043c\\u043e\", \"\\u043f\\u043e\\u0431\\u0435\\u0434\\u0438\\u0442\\u0435\\u043b\\u044c\", \"\\u043f\\u043e\\u0431\\u0435\\u0434\\u0438\\u0442\\u0435\\u043b\\u044c\", \"\\u043f\\u043e\\u0431\\u0435\\u0434\\u0438\\u0442\\u0435\\u043b\\u044c\", \"\\u043f\\u043e\\u0431\\u0435\\u0434\\u0438\\u0442\\u0435\\u043b\\u044c\", \"\\u043f\\u043e\\u0434\\u0430\\u0440\\u043e\\u043a\", \"\\u043f\\u043e\\u0434\\u0430\\u0440\\u043e\\u043a\", \"\\u043f\\u043e\\u0434\\u0430\\u0440\\u043e\\u043a\", \"\\u043f\\u043e\\u0434\\u0430\\u0440\\u043e\\u043a\", \"\\u043f\\u043e\\u0434\\u0433\\u043e\\u0442\\u043e\\u0432\\u043a\\u0430\", \"\\u043f\\u043e\\u0434\\u0433\\u043e\\u0442\\u043e\\u0432\\u043a\\u0430\", \"\\u043f\\u043e\\u0434\\u0433\\u043e\\u0442\\u043e\\u0432\\u043a\\u0430\", \"\\u043f\\u043e\\u0434\\u0433\\u043e\\u0442\\u043e\\u0432\\u043a\\u0430\", \"\\u043f\\u043e\\u0434\\u043e\\u0437\\u0440\\u0435\\u0432\\u0430\\u0442\\u044c\", \"\\u043f\\u043e\\u0434\\u043e\\u0437\\u0440\\u0435\\u0432\\u0430\\u0442\\u044c\", \"\\u043f\\u043e\\u0434\\u043e\\u0437\\u0440\\u0435\\u0432\\u0430\\u0442\\u044c\", \"\\u043f\\u043e\\u0434\\u043e\\u0437\\u0440\\u0435\\u0432\\u0430\\u0442\\u044c\", \"\\u043f\\u043e\\u0434\\u043e\\u0437\\u0440\\u0435\\u043d\\u0438\\u0435\", \"\\u043f\\u043e\\u0434\\u043e\\u0437\\u0440\\u0435\\u043d\\u0438\\u0435\", \"\\u043f\\u043e\\u0434\\u043e\\u0437\\u0440\\u0435\\u043d\\u0438\\u0435\", \"\\u043f\\u043e\\u0434\\u043e\\u0437\\u0440\\u0435\\u043d\\u0438\\u0435\", \"\\u043f\\u043e\\u0434\\u043f\\u0438\\u0441\\u043a\\u0430\", \"\\u043f\\u043e\\u0434\\u043f\\u0438\\u0441\\u043a\\u0430\", \"\\u043f\\u043e\\u0434\\u043f\\u0438\\u0441\\u043a\\u0430\", \"\\u043f\\u043e\\u0434\\u0440\\u0430\\u0437\\u0434\\u0435\\u043b\\u0435\\u043d\\u0438\\u0435\", \"\\u043f\\u043e\\u0434\\u0440\\u0430\\u0437\\u0434\\u0435\\u043b\\u0435\\u043d\\u0438\\u0435\", \"\\u043f\\u043e\\u0434\\u0440\\u0430\\u0437\\u0434\\u0435\\u043b\\u0435\\u043d\\u0438\\u0435\", \"\\u043f\\u043e\\u0434\\u0440\\u0430\\u0437\\u0434\\u0435\\u043b\\u0435\\u043d\\u0438\\u0435\", \"\\u043f\\u043e\\u0436\\u0438\\u043b\\u043e\\u0439\", \"\\u043f\\u043e\\u0436\\u0438\\u043b\\u043e\\u0439\", \"\\u043f\\u043e\\u0436\\u0438\\u043b\\u043e\\u0439\", \"\\u043f\\u043e\\u0436\\u0438\\u043b\\u043e\\u0439\", \"\\u043f\\u043e\\u0437\\u0434\\u0440\\u0430\\u0432\\u043b\\u0435\\u043d\\u0438\\u0435\", \"\\u043f\\u043e\\u0437\\u0434\\u0440\\u0430\\u0432\\u043b\\u0435\\u043d\\u0438\\u0435\", \"\\u043f\\u043e\\u0437\\u0434\\u0440\\u0430\\u0432\\u043b\\u0435\\u043d\\u0438\\u0435\", \"\\u043f\\u043e\\u0437\\u0434\\u0440\\u0430\\u0432\\u043b\\u0435\\u043d\\u0438\\u0435\", \"\\u043f\\u043e\\u043a\\u0443\\u0448\\u0435\\u043d\\u0438\\u0435\", \"\\u043f\\u043e\\u043a\\u0443\\u0448\\u0435\\u043d\\u0438\\u0435\", \"\\u043f\\u043e\\u043a\\u0443\\u0448\\u0435\\u043d\\u0438\\u0435\", \"\\u043f\\u043e\\u043a\\u0443\\u0448\\u0435\\u043d\\u0438\\u0435\", \"\\u043f\\u043e\\u043b\\u0433\\u043e\\u0434\\u0430\", \"\\u043f\\u043e\\u043b\\u0433\\u043e\\u0434\\u0430\", \"\\u043f\\u043e\\u043b\\u0438\\u0446\\u0435\\u0439\\u0441\\u043a\\u0438\\u0439\", \"\\u043f\\u043e\\u043b\\u0438\\u0446\\u0435\\u0439\\u0441\\u043a\\u0438\\u0439\", \"\\u043f\\u043e\\u043b\\u0438\\u0446\\u0435\\u0439\\u0441\\u043a\\u0438\\u0439\", \"\\u043f\\u043e\\u043b\\u0438\\u0446\\u0435\\u0439\\u0441\\u043a\\u0438\\u0439\", \"\\u043f\\u043e\\u043b\\u0438\\u0446\\u0438\\u044f\", \"\\u043f\\u043e\\u043b\\u0438\\u0446\\u0438\\u044f\", \"\\u043f\\u043e\\u043b\\u0438\\u0446\\u0438\\u044f\", \"\\u043f\\u043e\\u043b\\u0438\\u0446\\u0438\\u044f\", \"\\u043f\\u043e\\u043b\\u043a\\u043e\\u0432\\u043d\\u0438\\u043a\", \"\\u043f\\u043e\\u043b\\u043a\\u043e\\u0432\\u043d\\u0438\\u043a\", \"\\u043f\\u043e\\u043b\\u043a\\u043e\\u0432\\u043d\\u0438\\u043a\", \"\\u043f\\u043e\\u043b\\u043a\\u043e\\u0432\\u043d\\u0438\\u043a\", \"\\u043f\\u043e\\u043b\\u0443\\u0433\\u043e\\u0434\\u0438\\u0435\", \"\\u043f\\u043e\\u043b\\u0443\\u0433\\u043e\\u0434\\u0438\\u0435\", \"\\u043f\\u043e\\u043d\\u0435\\u0434\\u0435\\u043b\\u044c\\u043d\\u0438\\u043a\", \"\\u043f\\u043e\\u043d\\u0435\\u0434\\u0435\\u043b\\u044c\\u043d\\u0438\\u043a\", \"\\u043f\\u043e\\u043d\\u0435\\u0434\\u0435\\u043b\\u044c\\u043d\\u0438\\u043a\", \"\\u043f\\u043e\\u0440\\u043e\\u0448\\u043a\\u043e\\u043e\\u0431\\u0440\\u0430\\u0437\\u043d\\u044b\\u0439\", \"\\u043f\\u043e\\u0440\\u043e\\u0448\\u043a\\u043e\\u043e\\u0431\\u0440\\u0430\\u0437\\u043d\\u044b\\u0439\", \"\\u043f\\u043e\\u0440\\u043e\\u0448\\u043a\\u043e\\u043e\\u0431\\u0440\\u0430\\u0437\\u043d\\u044b\\u0439\", \"\\u043f\\u043e\\u0440\\u043e\\u0448\\u043a\\u043e\\u043e\\u0431\\u0440\\u0430\\u0437\\u043d\\u044b\\u0439\", \"\\u043f\\u043e\\u0440\\u0442\\u0430\\u043b\", \"\\u043f\\u043e\\u0440\\u0442\\u0430\\u043b\", \"\\u043f\\u043e\\u0442\\u0435\\u0440\\u044f\\u0442\\u044c\\u0441\\u044f\", \"\\u043f\\u043e\\u0442\\u0435\\u0440\\u044f\\u0442\\u044c\\u0441\\u044f\", \"\\u043f\\u043e\\u0445\\u0438\\u0442\\u0438\\u0442\\u044c\", \"\\u043f\\u043e\\u0445\\u0438\\u0442\\u0438\\u0442\\u044c\", \"\\u043f\\u043e\\u0445\\u0438\\u0442\\u0438\\u0442\\u044c\", \"\\u043f\\u043e\\u0445\\u0438\\u0442\\u0438\\u0442\\u044c\", \"\\u043f\\u043e\\u0447\\u0442\\u0430\", \"\\u043f\\u043e\\u0447\\u0442\\u0430\", \"\\u043f\\u043e\\u0447\\u0442\\u043e\\u0432\\u044b\\u0439\", \"\\u043f\\u043e\\u0447\\u0442\\u043e\\u0432\\u044b\\u0439\", \"\\u043f\\u043e\\u0447\\u0442\\u043e\\u0432\\u044b\\u0439\", \"\\u043f\\u043e\\u0447\\u0442\\u043e\\u0432\\u044b\\u0439\", \"\\u043f\\u043f\\u0441\\u043f\", \"\\u043f\\u043f\\u0441\\u043f\", \"\\u043f\\u043f\\u0441\\u043f\", \"\\u043f\\u043f\\u0441\\u043f\", \"\\u043f\\u0440\\u0430\\u0432\\u0438\\u043b\\u043e\", \"\\u043f\\u0440\\u0430\\u0432\\u0438\\u043b\\u043e\", \"\\u043f\\u0440\\u0430\\u0432\\u0438\\u043b\\u043e\", \"\\u043f\\u0440\\u0430\\u0432\\u0438\\u043b\\u043e\", \"\\u043f\\u0440\\u0430\\u0432\\u043e\\u043d\\u0430\\u0440\\u0443\\u0448\\u0435\\u043d\\u0438\\u0435\", \"\\u043f\\u0440\\u0430\\u0432\\u043e\\u043d\\u0430\\u0440\\u0443\\u0448\\u0435\\u043d\\u0438\\u0435\", \"\\u043f\\u0440\\u0430\\u0432\\u043e\\u043d\\u0430\\u0440\\u0443\\u0448\\u0435\\u043d\\u0438\\u0435\", \"\\u043f\\u0440\\u0430\\u0432\\u043e\\u043d\\u0430\\u0440\\u0443\\u0448\\u0435\\u043d\\u0438\\u0435\", \"\\u043f\\u0440\\u0435\\u0434\\u0443\\u0441\\u043c\\u043e\\u0442\\u0440\\u0435\\u043d\\u043d\\u044b\\u0439\", \"\\u043f\\u0440\\u0435\\u0434\\u0443\\u0441\\u043c\\u043e\\u0442\\u0440\\u0435\\u043d\\u043d\\u044b\\u0439\", \"\\u043f\\u0440\\u0435\\u0434\\u0443\\u0441\\u043c\\u043e\\u0442\\u0440\\u0435\\u043d\\u043d\\u044b\\u0439\", \"\\u043f\\u0440\\u0435\\u0434\\u0443\\u0441\\u043c\\u043e\\u0442\\u0440\\u0435\\u043d\\u043d\\u044b\\u0439\", \"\\u043f\\u0440\\u0435\\u0442\\u0435\\u043d\\u0434\\u0435\\u043d\\u0442\", \"\\u043f\\u0440\\u0438\\u0437\\u043d\\u0430\\u043a\", \"\\u043f\\u0440\\u0438\\u0437\\u043d\\u0430\\u043a\", \"\\u043f\\u0440\\u0438\\u0437\\u043d\\u0430\\u043a\", \"\\u043f\\u0440\\u0438\\u0437\\u043d\\u0430\\u043a\", \"\\u043f\\u0440\\u0438\\u043d\\u044f\\u0442\\u044c\", \"\\u043f\\u0440\\u0438\\u043d\\u044f\\u0442\\u044c\", \"\\u043f\\u0440\\u0438\\u043d\\u044f\\u0442\\u044c\", \"\\u043f\\u0440\\u0438\\u043d\\u044f\\u0442\\u044c\", \"\\u043f\\u0440\\u0438\\u0442\\u043e\\u043d\", \"\\u043f\\u0440\\u0438\\u0442\\u043e\\u043d\", \"\\u043f\\u0440\\u0438\\u0442\\u043e\\u043d\", \"\\u043f\\u0440\\u0438\\u0442\\u043e\\u043d\", \"\\u043f\\u0440\\u043e\\u0439\\u0442\\u0438\", \"\\u043f\\u0440\\u043e\\u0439\\u0442\\u0438\", \"\\u043f\\u0440\\u043e\\u0439\\u0442\\u0438\", \"\\u043f\\u0440\\u043e\\u0439\\u0442\\u0438\", \"\\u043f\\u0440\\u043e\\u043f\\u0430\\u0441\\u0442\\u044c\", \"\\u043f\\u0440\\u043e\\u043f\\u0430\\u0441\\u0442\\u044c\", \"\\u043f\\u0440\\u043e\\u043f\\u0430\\u0441\\u0442\\u044c\", \"\\u043f\\u0440\\u043e\\u043f\\u0430\\u0441\\u0442\\u044c\", \"\\u043f\\u0440\\u043e\\u0441\\u043f\\u0435\\u043a\\u0442\", \"\\u043f\\u0440\\u043e\\u0441\\u043f\\u0435\\u043a\\u0442\", \"\\u043f\\u0440\\u043e\\u0441\\u043f\\u0435\\u043a\\u0442\", \"\\u043f\\u0440\\u043e\\u0441\\u0442\\u043e\\u0440\", \"\\u043f\\u0440\\u043e\\u0442\\u0438\\u0432\\u043e\\u043f\\u0440\\u0430\\u0432\\u043d\\u044b\\u0439\", \"\\u043f\\u0440\\u043e\\u0442\\u0438\\u0432\\u043e\\u043f\\u0440\\u0430\\u0432\\u043d\\u044b\\u0439\", \"\\u043f\\u0440\\u043e\\u0442\\u0438\\u0432\\u043e\\u043f\\u0440\\u0430\\u0432\\u043d\\u044b\\u0439\", \"\\u043f\\u0440\\u043e\\u0442\\u0438\\u0432\\u043e\\u043f\\u0440\\u0430\\u0432\\u043d\\u044b\\u0439\", \"\\u043f\\u0441\\u0438\\u0445\\u043e\\u0442\\u0440\\u043e\\u043f\\u043d\\u044b\\u0439\", \"\\u043f\\u0441\\u0438\\u0445\\u043e\\u0442\\u0440\\u043e\\u043f\\u043d\\u044b\\u0439\", \"\\u043f\\u0441\\u0438\\u0445\\u043e\\u0442\\u0440\\u043e\\u043f\\u043d\\u044b\\u0439\", \"\\u043f\\u0441\\u0438\\u0445\\u043e\\u0442\\u0440\\u043e\\u043f\\u043d\\u044b\\u0439\", \"\\u043f\\u0443\\u0448\\u043a\\u0438\\u043d\", \"\\u043f\\u0443\\u0448\\u043a\\u0438\\u043d\", \"\\u0440\\u0430\\u0431\\u043e\\u0442\\u0430\", \"\\u0440\\u0430\\u0431\\u043e\\u0442\\u0430\", \"\\u0440\\u0430\\u0431\\u043e\\u0442\\u0430\", \"\\u0440\\u0430\\u0431\\u043e\\u0442\\u0430\", \"\\u0440\\u0430\\u0434\\u043e\\u0441\\u0442\\u044c\", \"\\u0440\\u0430\\u0434\\u043e\\u0441\\u0442\\u044c\", \"\\u0440\\u0430\\u0434\\u043e\\u0441\\u0442\\u044c\", \"\\u0440\\u0430\\u0437\\u0431\\u043e\\u0439\", \"\\u0440\\u0430\\u0437\\u0431\\u043e\\u0439\", \"\\u0440\\u0430\\u0437\\u0431\\u043e\\u0439\", \"\\u0440\\u0430\\u0437\\u0431\\u043e\\u0439\", \"\\u0440\\u0430\\u0437\\u0431\\u043e\\u0439\\u043d\\u044b\\u0439\", \"\\u0440\\u0430\\u0437\\u0431\\u043e\\u0439\\u043d\\u044b\\u0439\", \"\\u0440\\u0430\\u0437\\u0431\\u043e\\u0439\\u043d\\u044b\\u0439\", \"\\u0440\\u0430\\u0437\\u0431\\u043e\\u0439\\u043d\\u044b\\u0439\", \"\\u0440\\u0430\\u0439\\u043e\\u043d\", \"\\u0440\\u0430\\u0439\\u043e\\u043d\", \"\\u0440\\u0430\\u0439\\u043e\\u043d\", \"\\u0440\\u0430\\u0439\\u043e\\u043d\", \"\\u0440\\u0430\\u0441\\u043f\\u043e\\u0440\\u044f\\u0434\\u0438\\u0442\\u044c\\u0441\\u044f\", \"\\u0440\\u0430\\u0441\\u043f\\u043e\\u0440\\u044f\\u0434\\u0438\\u0442\\u044c\\u0441\\u044f\", \"\\u0440\\u0435\\u0431\\u0451\\u043d\\u043e\\u043a\", \"\\u0440\\u0435\\u0431\\u0451\\u043d\\u043e\\u043a\", \"\\u0440\\u0435\\u0431\\u0451\\u043d\\u043e\\u043a\", \"\\u0440\\u0435\\u0431\\u0451\\u043d\\u043e\\u043a\", \"\\u0440\\u0435\\u043a\\u043e\\u043c\\u0435\\u043d\\u0434\\u043e\\u0432\\u0430\\u0442\\u044c\", \"\\u0440\\u0435\\u043a\\u043e\\u043c\\u0435\\u043d\\u0434\\u043e\\u0432\\u0430\\u0442\\u044c\", \"\\u0440\\u0435\\u0442\\u0440\\u043e-\\u0430\\u0432\\u0442\\u043e\\u043c\\u043e\\u0431\\u0438\\u043b\\u044c\", \"\\u0440\\u0435\\u0442\\u0440\\u043e-\\u0430\\u0432\\u0442\\u043e\\u043c\\u043e\\u0431\\u0438\\u043b\\u044c\", \"\\u0440\\u0438\\u0441\\u0443\\u043d\\u043e\\u043a\", \"\\u0440\\u0438\\u0441\\u0443\\u043d\\u043e\\u043a\", \"\\u0440\\u043e\\u0437\\u044b\\u0441\\u043a\", \"\\u0440\\u043e\\u0437\\u044b\\u0441\\u043a\", \"\\u0440\\u043e\\u0437\\u044b\\u0441\\u043a\", \"\\u0440\\u043e\\u0437\\u044b\\u0441\\u043a\", \"\\u0440\\u043e\\u0441\\u0441\\u0438\\u0439\\u0441\\u043a\\u0438\\u0439\", \"\\u0440\\u043e\\u0441\\u0441\\u0438\\u0439\\u0441\\u043a\\u0438\\u0439\", \"\\u0440\\u043e\\u0441\\u0441\\u0438\\u0439\\u0441\\u043a\\u0438\\u0439\", \"\\u0440\\u043e\\u0441\\u0441\\u0438\\u0439\\u0441\\u043a\\u0438\\u0439\", \"\\u0440\\u043e\\u0441\\u0441\\u0438\\u044f\", \"\\u0440\\u043e\\u0441\\u0441\\u0438\\u044f\", \"\\u0440\\u043e\\u0441\\u0441\\u0438\\u044f\", \"\\u0440\\u043e\\u0441\\u0441\\u0438\\u044f\", \"\\u0440\\u043e\\u0441\\u0442\", \"\\u0440\\u043e\\u0441\\u0442\", \"\\u0440\\u043e\\u0441\\u0442\", \"\\u0440\\u043e\\u0441\\u0442\", \"\\u0440\\u0444\", \"\\u0440\\u0444\", \"\\u0440\\u0444\", \"\\u0440\\u0444\", \"\\u0441\\u0431\\u044b\\u0442\", \"\\u0441\\u0431\\u044b\\u0442\", \"\\u0441\\u0431\\u044b\\u0442\", \"\\u0441\\u0431\\u044b\\u0442\", \"\\u0441\\u0432\\u0430\\u043e\", \"\\u0441\\u0432\\u0430\\u043e\", \"\\u0441\\u0432\\u0430\\u043e\", \"\\u0441\\u0432\\u0430\\u043e\", \"\\u0441\\u0432\\u043e\\u0439\", \"\\u0441\\u0432\\u043e\\u0439\", \"\\u0441\\u0432\\u043e\\u0439\", \"\\u0441\\u0432\\u043e\\u0439\", \"\\u0441\\u0432\\u0451\\u0440\\u0442\\u043a\\u0430\", \"\\u0441\\u0432\\u0451\\u0440\\u0442\\u043a\\u0430\", \"\\u0441\\u0432\\u0451\\u0440\\u0442\\u043a\\u0430\", \"\\u0441\\u0432\\u0451\\u0440\\u0442\\u043a\\u0430\", \"\\u0441\\u0435\\u0440\\u0436\\u0430\\u043d\\u0442\", \"\\u0441\\u0435\\u0440\\u0436\\u0430\\u043d\\u0442\", \"\\u0441\\u0435\\u0440\\u0436\\u0430\\u043d\\u0442\", \"\\u0441\\u0435\\u0440\\u0436\\u0430\\u043d\\u0442\", \"\\u0441\\u043a\\u0438\\u0434\\u043a\\u0430\", \"\\u0441\\u043a\\u0438\\u0434\\u043a\\u0430\", \"\\u0441\\u043a\\u0438\\u0434\\u043a\\u0430\", \"\\u0441\\u043a\\u043e\\u0440\\u0431\\u044c\", \"\\u0441\\u043a\\u043e\\u0440\\u0431\\u044c\", \"\\u0441\\u043b\\u0443\\u0436\\u0431\\u0430\", \"\\u0441\\u043b\\u0443\\u0436\\u0431\\u0430\", \"\\u0441\\u043b\\u0443\\u0436\\u0431\\u0430\", \"\\u0441\\u043b\\u0443\\u0436\\u0431\\u0430\", \"\\u0441\\u043b\\u0443\\u0436\\u0435\\u0431\\u043d\\u044b\\u0439\", \"\\u0441\\u043b\\u0443\\u0436\\u0435\\u0431\\u043d\\u044b\\u0439\", \"\\u0441\\u043b\\u0443\\u0436\\u0435\\u0431\\u043d\\u044b\\u0439\", \"\\u0441\\u043b\\u0443\\u0436\\u0435\\u0431\\u043d\\u044b\\u0439\", \"\\u0441\\u043e\\u0431\\u043b\\u044e\\u0434\\u0435\\u043d\\u0438\\u0435\", \"\\u0441\\u043e\\u0431\\u043b\\u044e\\u0434\\u0435\\u043d\\u0438\\u0435\", \"\\u0441\\u043e\\u0431\\u043b\\u044e\\u0434\\u0435\\u043d\\u0438\\u0435\", \"\\u0441\\u043e\\u0431\\u043b\\u044e\\u0434\\u0435\\u043d\\u0438\\u0435\", \"\\u0441\\u043e\\u043b\\u044c\\u043d\\u044b\\u0439\", \"\\u0441\\u043e\\u0440\\u0435\\u0432\\u043d\\u043e\\u0432\\u0430\\u043d\\u0438\\u0435\", \"\\u0441\\u043e\\u0440\\u0435\\u0432\\u043d\\u043e\\u0432\\u0430\\u043d\\u0438\\u0435\", \"\\u0441\\u043e\\u0440\\u0435\\u0432\\u043d\\u043e\\u0432\\u0430\\u043d\\u0438\\u0435\", \"\\u0441\\u043e\\u0440\\u0435\\u0432\\u043d\\u043e\\u0432\\u0430\\u043d\\u0438\\u0435\", \"\\u0441\\u043e\\u0441\\u0442\\u0430\\u0432\", \"\\u0441\\u043e\\u0441\\u0442\\u0430\\u0432\", \"\\u0441\\u043e\\u0441\\u0442\\u0430\\u0432\", \"\\u0441\\u043e\\u0441\\u0442\\u0430\\u0432\", \"\\u0441\\u043e\\u0441\\u0442\\u043e\\u044f\\u0442\\u044c\\u0441\\u044f\", \"\\u0441\\u043e\\u0441\\u0442\\u043e\\u044f\\u0442\\u044c\\u0441\\u044f\", \"\\u0441\\u043e\\u0441\\u0442\\u043e\\u044f\\u0442\\u044c\\u0441\\u044f\", \"\\u0441\\u043e\\u0441\\u0442\\u043e\\u044f\\u0442\\u044c\\u0441\\u044f\", \"\\u0441\\u043e\\u0442\\u0440\\u0443\\u0434\\u043d\\u0438\\u043a\", \"\\u0441\\u043e\\u0442\\u0440\\u0443\\u0434\\u043d\\u0438\\u043a\", \"\\u0441\\u043e\\u0442\\u0440\\u0443\\u0434\\u043d\\u0438\\u043a\", \"\\u0441\\u043e\\u0442\\u0440\\u0443\\u0434\\u043d\\u0438\\u043a\", \"\\u0441\\u043f\\u0430\\u0441\\u0438\\u0431\\u043e\", \"\\u0441\\u043f\\u0430\\u0441\\u0438\\u0431\\u043e\", \"\\u0441\\u043f\\u043e\\u0440\\u0442\", \"\\u0441\\u043f\\u043e\\u0440\\u0442\", \"\\u0441\\u043f\\u043e\\u0440\\u0442\", \"\\u0441\\u043f\\u043e\\u0440\\u0442\", \"\\u0441\\u0440\\u0435\\u0434\\u0441\\u0442\\u0432\\u043e\", \"\\u0441\\u0440\\u0435\\u0434\\u0441\\u0442\\u0432\\u043e\", \"\\u0441\\u0440\\u0435\\u0434\\u0441\\u0442\\u0432\\u043e\", \"\\u0441\\u0440\\u0435\\u0434\\u0441\\u0442\\u0432\\u043e\", \"\\u0441\\u0442\", \"\\u0441\\u0442\", \"\\u0441\\u0442\", \"\\u0441\\u0442\", \"\\u0441\\u0442\\u0430\\u0440\\u0448\\u0435\\u043a\\u043b\\u0430\\u0441\\u0441\\u043d\\u0438\\u043a\", \"\\u0441\\u0442\\u0430\\u0440\\u0448\\u0435\\u043a\\u043b\\u0430\\u0441\\u0441\\u043d\\u0438\\u043a\", \"\\u0441\\u0442\\u0430\\u0440\\u0448\\u0435\\u043a\\u043b\\u0430\\u0441\\u0441\\u043d\\u0438\\u043a\", \"\\u0441\\u0442\\u0430\\u0442\\u044c\", \"\\u0441\\u0442\\u0430\\u0442\\u044c\", \"\\u0441\\u0442\\u0430\\u0442\\u044c\", \"\\u0441\\u0442\\u0430\\u0442\\u044c\", \"\\u0441\\u0442\\u0438\\u0445\\u043e\\u0442\\u0432\\u043e\\u0440\\u0435\\u043d\\u0438\\u0435\", \"\\u0441\\u0442\\u0438\\u0445\\u043e\\u0442\\u0432\\u043e\\u0440\\u0435\\u043d\\u0438\\u0435\", \"\\u0441\\u0442\\u043e\\u043b\\u0438\\u0447\\u043d\\u044b\\u0439\", \"\\u0441\\u0442\\u043e\\u043b\\u0438\\u0447\\u043d\\u044b\\u0439\", \"\\u0441\\u0442\\u043e\\u043b\\u0438\\u0447\\u043d\\u044b\\u0439\", \"\\u0441\\u0442\\u043e\\u043b\\u0438\\u0447\\u043d\\u044b\\u0439\", \"\\u0441\\u0442\\u043e\\u043b\\u043a\\u043d\\u043e\\u0432\\u0435\\u043d\\u0438\\u0435\", \"\\u0441\\u0442\\u043e\\u043b\\u043a\\u043d\\u043e\\u0432\\u0435\\u043d\\u0438\\u0435\", \"\\u0441\\u0442\\u043e\\u043b\\u043a\\u043d\\u043e\\u0432\\u0435\\u043d\\u0438\\u0435\", \"\\u0441\\u0442\\u043e\\u043b\\u043a\\u043d\\u043e\\u0432\\u0435\\u043d\\u0438\\u0435\", \"\\u0441\\u0442\\u0440\\u0430\\u0436\\u0443.<><>\\u0441\\u043e\\u0442\\u0440\\u0443\\u0434\\u043d\\u0438\\u043a\", \"\\u0441\\u0442\\u0440\\u0430\\u0436\\u0443.<><>\\u0441\\u043e\\u0442\\u0440\\u0443\\u0434\\u043d\\u0438\\u043a\", \"\\u0441\\u0442\\u0440\\u0430\\u0436\\u0443.<><>\\u0441\\u043e\\u0442\\u0440\\u0443\\u0434\\u043d\\u0438\\u043a\", \"\\u0441\\u0442\\u0440\\u0430\\u0436\\u0443.<><>\\u0441\\u043e\\u0442\\u0440\\u0443\\u0434\\u043d\\u0438\\u043a\", \"\\u0441\\u0442\\u0443\\u0434\\u0435\\u043d\\u0447\\u0435\\u0441\\u043a\\u0438\\u0439\", \"\\u0441\\u0442\\u0443\\u0434\\u0435\\u043d\\u0447\\u0435\\u0441\\u043a\\u0438\\u0439\", \"\\u0441\\u0442\\u0443\\u0434\\u0435\\u043d\\u0447\\u0435\\u0441\\u043a\\u0438\\u0439\", \"\\u0442\\u0430\\u0431\\u0435\\u043b\\u044c\\u043d\\u044b\\u0439\", \"\\u0442\\u0430\\u0431\\u0435\\u043b\\u044c\\u043d\\u044b\\u0439\", \"\\u0442\\u0430\\u0431\\u0435\\u043b\\u044c\\u043d\\u044b\\u0439\", \"\\u0442\\u0430\\u043a\\u0436\\u0435\", \"\\u0442\\u0430\\u043a\\u0436\\u0435\", \"\\u0442\\u0430\\u043a\\u0436\\u0435\", \"\\u0442\\u0430\\u043a\\u0436\\u0435\", \"\\u0442\\u0430\\u043b\\u0430\\u043d\\u0442\", \"\\u0442\\u0430\\u043b\\u0430\\u043d\\u0442\", \"\\u0442\\u0432\\u0435\\u0440\\u0441\\u043a\\u043e\\u0439\", \"\\u0442\\u0432\\u0435\\u0440\\u0441\\u043a\\u043e\\u0439\", \"\\u0442\\u0432\\u0435\\u0440\\u0441\\u043a\\u043e\\u0439\", \"\\u0442\\u0435\\u043a\\u0441\\u0442\", \"\\u0442\\u0435\\u043a\\u0441\\u0442\", \"\\u0442\\u0435\\u043a\\u0441\\u0442\", \"\\u0442\\u0435\\u043a\\u0441\\u0442\", \"\\u0442\\u0435\\u043b\\u0435\\u0444\\u043e\\u043d\", \"\\u0442\\u0435\\u043b\\u0435\\u0444\\u043e\\u043d\", \"\\u0442\\u0435\\u043b\\u0435\\u0444\\u043e\\u043d\", \"\\u0442\\u0435\\u043b\\u0435\\u0444\\u043e\\u043d\", \"\\u0442\\u0438\\u043d\\u0430\\u043e\", \"\\u0442\\u0438\\u043d\\u0430\\u043e\", \"\\u0442\\u0438\\u043d\\u0430\\u043e\", \"\\u0442\\u0438\\u043d\\u0430\\u043e\", \"\\u0442\\u0438\\u0440\\u0430\\u0436\", \"\\u0442\\u0438\\u0440\\u0430\\u0436\", \"\\u0442\\u0438\\u0440\\u0430\\u0436\", \"\\u0442\\u0438\\u0440\\u0430\\u0436\", \"\\u0442\\u043e\\u043b\\u043c\\u0430\\u0447\\u0435\\u0432\\u043e\", \"\\u0442\\u043e\\u043b\\u043c\\u0430\\u0447\\u0435\\u0432\\u043e\", \"\\u0443\\u0432\\u0434\", \"\\u0443\\u0432\\u0434\", \"\\u0443\\u0432\\u0434\", \"\\u0443\\u0432\\u0434\", \"\\u0443\\u0433\\u043e\\u043b\\u043e\\u0432\\u043d\\u044b\\u0439\", \"\\u0443\\u0433\\u043e\\u043b\\u043e\\u0432\\u043d\\u044b\\u0439\", \"\\u0443\\u0433\\u043e\\u043b\\u043e\\u0432\\u043d\\u044b\\u0439\", \"\\u0443\\u0433\\u043e\\u043b\\u043e\\u0432\\u043d\\u044b\\u0439\", \"\\u0443\\u0434\\u043e\\u0432\\u043e\\u043b\\u044c\\u0441\\u0442\\u0432\\u0438\\u0435\", \"\\u0443\\u0434\\u043e\\u0432\\u043e\\u043b\\u044c\\u0441\\u0442\\u0432\\u0438\\u0435\", \"\\u0443\\u043a\", \"\\u0443\\u043a\", \"\\u0443\\u043a\", \"\\u0443\\u043a\", \"\\u0443\\u043d\\u0438\\u0432\\u0435\\u0440\\u0441\\u0438\\u0442\\u0435\\u0442\", \"\\u0443\\u043d\\u0438\\u0432\\u0435\\u0440\\u0441\\u0438\\u0442\\u0435\\u0442\", \"\\u0443\\u043d\\u0438\\u0432\\u0435\\u0440\\u0441\\u0438\\u0442\\u0435\\u0442\", \"\\u0443\\u043d\\u0438\\u0432\\u0435\\u0440\\u0441\\u0438\\u0442\\u0435\\u0442\", \"\\u0443\\u043f\\u043a\", \"\\u0443\\u043f\\u043a\", \"\\u0443\\u043f\\u043a\", \"\\u0443\\u043f\\u043a\", \"\\u0443\\u043f\\u043e\\u043b\\u043d\\u043e\\u043c\\u043e\\u0447\\u0435\\u043d\\u043d\\u044b\\u0439\", \"\\u0443\\u043f\\u043e\\u043b\\u043d\\u043e\\u043c\\u043e\\u0447\\u0435\\u043d\\u043d\\u044b\\u0439\", \"\\u0443\\u043f\\u043e\\u043b\\u043d\\u043e\\u043c\\u043e\\u0447\\u0435\\u043d\\u043d\\u044b\\u0439\", \"\\u0443\\u043f\\u043e\\u043b\\u043d\\u043e\\u043c\\u043e\\u0447\\u0435\\u043d\\u043d\\u044b\\u0439\", \"\\u0443\\u043f\\u0440\\u0430\\u0432\\u043b\\u0435\\u043d\\u0438\\u0435\", \"\\u0443\\u043f\\u0440\\u0430\\u0432\\u043b\\u0435\\u043d\\u0438\\u0435\", \"\\u0443\\u043f\\u0440\\u0430\\u0432\\u043b\\u0435\\u043d\\u0438\\u0435\", \"\\u0443\\u043f\\u0440\\u0430\\u0432\\u043b\\u0435\\u043d\\u0438\\u0435\", \"\\u0443\\u0441\\u043b\\u0443\\u0433\\u0430\", \"\\u0443\\u0441\\u043b\\u0443\\u0433\\u0430\", \"\\u0443\\u0441\\u043b\\u0443\\u0433\\u0430\", \"\\u0443\\u0441\\u043b\\u0443\\u0433\\u0430\", \"\\u0443\\u0447\\u0430\\u0441\\u0442\\u0438\\u0435\", \"\\u0443\\u0447\\u0430\\u0441\\u0442\\u0438\\u0435\", \"\\u0443\\u0447\\u0430\\u0441\\u0442\\u0438\\u0435\", \"\\u0443\\u0447\\u0430\\u0441\\u0442\\u0438\\u0435\", \"\\u0443\\u0447\\u0430\\u0441\\u0442\\u043a\\u043e\\u0432\\u044b\\u0439\", \"\\u0443\\u0447\\u0430\\u0441\\u0442\\u043a\\u043e\\u0432\\u044b\\u0439\", \"\\u0443\\u0447\\u0430\\u0441\\u0442\\u043a\\u043e\\u0432\\u044b\\u0439\", \"\\u0443\\u0447\\u0430\\u0441\\u0442\\u043a\\u043e\\u0432\\u044b\\u0439\", \"\\u0443\\u0447\\u0430\\u0449\\u0438\\u0439\\u0441\\u044f\", \"\\u0443\\u0447\\u0430\\u0449\\u0438\\u0439\\u0441\\u044f\", \"\\u0443\\u0447\\u0430\\u0449\\u0438\\u0439\\u0441\\u044f\", \"\\u0443\\u0447\\u0430\\u0449\\u0438\\u0439\\u0441\\u044f\", \"\\u0443\\u0447\\u0435\\u0431\\u043d\\u044b\\u0439\", \"\\u0443\\u0447\\u0435\\u0431\\u043d\\u044b\\u0439\", \"\\u0443\\u0447\\u0435\\u0431\\u043d\\u044b\\u0439\", \"\\u0443\\u0447\\u0435\\u0431\\u043d\\u044b\\u0439\", \"\\u0444\\u0430\\u043a\\u0442\", \"\\u0444\\u0430\\u043a\\u0442\", \"\\u0444\\u0430\\u043a\\u0442\", \"\\u0444\\u0430\\u043a\\u0442\", \"\\u0444\\u0433\\u0443\\u043f\", \"\\u0444\\u0433\\u0443\\u043f\", \"\\u0444\\u0438\\u043d\\u0441\\u043a\\u0438\\u0439\", \"\\u0444\\u0438\\u043d\\u0441\\u043a\\u0438\\u0439\", \"\\u0444\\u0438\\u0440\\u043c\\u0430\", \"\\u0444\\u0438\\u0440\\u043c\\u0430\", \"\\u0444\\u0438\\u0440\\u043c\\u0430\", \"\\u0444\\u0438\\u0440\\u043c\\u0430\", \"\\u0445\\u043e\\u0434\", \"\\u0445\\u043e\\u0434\", \"\\u0445\\u043e\\u0434\", \"\\u0445\\u043e\\u0434\", \"\\u0445\\u0440\\u0430\\u043d\\u0435\\u043d\\u0438\\u0435\", \"\\u0445\\u0440\\u0430\\u043d\\u0435\\u043d\\u0438\\u0435\", \"\\u0445\\u0440\\u0430\\u043d\\u0435\\u043d\\u0438\\u0435\", \"\\u0445\\u0440\\u0430\\u043d\\u0435\\u043d\\u0438\\u0435\", \"\\u0447\\u0430\\u0441\\u0442\\u043d\\u043e\\u0435\", \"\\u0447\\u0430\\u0441\\u0442\\u043d\\u043e\\u0435\", \"\\u0447\\u0430\\u0441\\u0442\\u043d\\u043e\\u0435\", \"\\u0447\\u0435\\u043b\\u043e\\u0432\\u0435\\u043a\", \"\\u0447\\u0435\\u043b\\u043e\\u0432\\u0435\\u043a\", \"\\u0447\\u0435\\u043b\\u043e\\u0432\\u0435\\u043a\", \"\\u0447\\u0435\\u043b\\u043e\\u0432\\u0435\\u043a\", \"\\u044d\\u0441\\u0442\\u0430\\u0444\\u0435\\u0442\\u0430\", \"\\u044d\\u0441\\u0442\\u0430\\u0444\\u0435\\u0442\\u0430\", \"\\u044d\\u0441\\u0442\\u0430\\u0444\\u0435\\u0442\\u0430\", \"\\u044d\\u0441\\u0442\\u0430\\u0444\\u0435\\u0442\\u0430\", \"\\u044d\\u0442\\u0430\\u043f\", \"\\u044d\\u0442\\u0430\\u043f\", \"\\u044d\\u0442\\u0430\\u043f\", \"\\u044d\\u0442\\u0430\\u043f\", \"\\u044d\\u0442\\u043e\", \"\\u044d\\u0442\\u043e\", \"\\u044d\\u0442\\u043e\", \"\\u044d\\u0442\\u043e\", \"\\u044e\\u0432\\u0435\\u043b\\u0438\\u0440\\u043d\\u044b\\u0439\", \"\\u044e\\u0432\\u0435\\u043b\\u0438\\u0440\\u043d\\u044b\\u0439\", \"\\u044e\\u0432\\u0435\\u043b\\u0438\\u0440\\u043d\\u044b\\u0439\", \"\\u044e\\u0432\\u0435\\u043b\\u0438\\u0440\\u043d\\u044b\\u0439\", \"\\u044e\\u0433\\u043e-\\u0437\\u0430\\u043f\\u0430\\u0434\\u043d\\u044b\\u0439\", \"\\u044e\\u0433\\u043e-\\u0437\\u0430\\u043f\\u0430\\u0434\\u043d\\u044b\\u0439\", \"\\u044e\\u0433\\u043e-\\u0437\\u0430\\u043f\\u0430\\u0434\\u043d\\u044b\\u0439\", \"\\u044e\\u0433\\u043e-\\u0437\\u0430\\u043f\\u0430\\u0434\\u043d\\u044b\\u0439\", \"\\u044f\\u043a\\u0443\\u0442\\u0441\\u043a\", \"\\u044f\\u043a\\u0443\\u0442\\u0441\\u043a\", \"\\u044f\\u043a\\u0443\\u0442\\u0441\\u043a\", \"\\u0451\\u043b\\u043a\\u0430\", \"\\u0451\\u043b\\u043a\\u0430\", \"\\u0451\\u043b\\u043a\\u0430\"]}, \"lambda.step\": 0.01};\n",
       "\n",
       "function LDAvis_load_lib(url, callback){\n",
       "  var s = document.createElement('script');\n",
       "  s.src = url;\n",
       "  s.async = true;\n",
       "  s.onreadystatechange = s.onload = callback;\n",
       "  s.onerror = function(){console.warn(\"failed to load library \" + url);};\n",
       "  document.getElementsByTagName(\"head\")[0].appendChild(s);\n",
       "}\n",
       "\n",
       "if(typeof(LDAvis) !== \"undefined\"){\n",
       "   // already loaded: just create the visualization\n",
       "   !function(LDAvis){\n",
       "       new LDAvis(\"#\" + \"ldavis_el900419400340026403803782813\", ldavis_el900419400340026403803782813_data);\n",
       "   }(LDAvis);\n",
       "}else if(typeof define === \"function\" && define.amd){\n",
       "   // require.js is available: use it to load d3/LDAvis\n",
       "   require.config({paths: {d3: \"https://cdnjs.cloudflare.com/ajax/libs/d3/3.5.5/d3.min\"}});\n",
       "   require([\"d3\"], function(d3){\n",
       "      window.d3 = d3;\n",
       "      LDAvis_load_lib(\"https://cdn.rawgit.com/bmabey/pyLDAvis/files/ldavis.v1.0.0.js\", function(){\n",
       "        new LDAvis(\"#\" + \"ldavis_el900419400340026403803782813\", ldavis_el900419400340026403803782813_data);\n",
       "      });\n",
       "    });\n",
       "}else{\n",
       "    // require.js not available: dynamically load d3 & LDAvis\n",
       "    LDAvis_load_lib(\"https://cdnjs.cloudflare.com/ajax/libs/d3/3.5.5/d3.min.js\", function(){\n",
       "         LDAvis_load_lib(\"https://cdn.rawgit.com/bmabey/pyLDAvis/files/ldavis.v1.0.0.js\", function(){\n",
       "                 new LDAvis(\"#\" + \"ldavis_el900419400340026403803782813\", ldavis_el900419400340026403803782813_data);\n",
       "            })\n",
       "         });\n",
       "}\n",
       "</script>"
      ],
      "text/plain": [
       "<IPython.core.display.HTML object>"
      ]
     },
     "execution_count": 59,
     "metadata": {},
     "output_type": "execute_result"
    }
   ],
   "source": [
    "vis_data = gensimvis.prepare(lda, corpus, dictionary)\n",
    "pyLDAvis.display(vis_data)"
   ]
  },
  {
   "cell_type": "markdown",
   "metadata": {},
   "source": [
    "Попробуем просто применить LSA и визуализировать с помощью t-distributed stochastic neighbor embedding (TSNE)"
   ]
  },
  {
   "cell_type": "code",
   "execution_count": 60,
   "metadata": {},
   "outputs": [],
   "source": [
    "vectors = TfidfVectorizer().fit_transform(df.text_norm)\n",
    "X_reduced = TruncatedSVD(n_components=150, random_state=0).fit_transform(vectors)\n",
    "X_embedded = TSNE(n_components=2, perplexity=100, verbose=0).fit_transform(X_reduced)"
   ]
  },
  {
   "cell_type": "code",
   "execution_count": 61,
   "metadata": {},
   "outputs": [
    {
     "name": "stderr",
     "output_type": "stream",
     "text": [
      "c:\\python35\\lib\\site-packages\\seaborn\\axisgrid.py:230: UserWarning: The `size` paramter has been renamed to `height`; please update your code.\n",
      "  warnings.warn(msg, UserWarning)\n"
     ]
    },
    {
     "data": {
      "text/plain": [
       "<seaborn.axisgrid.FacetGrid at 0x1c395c6a160>"
      ]
     },
     "execution_count": 61,
     "metadata": {},
     "output_type": "execute_result"
    },
    {
     "data": {
      "image/png": "[encoded data removed]",
      "text/plain": [
       "<matplotlib.figure.Figure at 0x1c395d06fd0>"
      ]
     },
     "metadata": {
      "needs_background": "light"
     },
     "output_type": "display_data"
    }
   ],
   "source": [
    "vis_df = pd.DataFrame({'X': X_embedded[:, 0], 'Y': X_embedded[:, 1], 'topic' : df.source})\n",
    "sns.FacetGrid(vis_df, hue=\"topic\", size=10).map(plt.scatter, \"X\", \"Y\").add_legend()"
   ]
  },
  {
   "cell_type": "markdown",
   "metadata": {
    "colab_type": "text",
    "id": "cdakRHahQp-l"
   },
   "source": [
    "## Задание 7 [4 балла]. Continious bag of words\n",
    "Для baseline решения мы использовали обычное представление текста в виде мешка слов. Попробуйте использовать другие модели представления текста – например, в виде непрерывного мешка слов, то есть, в виде набора эмбеддингов. Для того, чтобы получить вектор текста попробуйте:\n",
    "* усреднить все эмбеддинги слов, входящих в этот текст\n",
    "* усреднить все эмбеддинги слов, входящих в этот текст с $tf-idf$ весами\n",
    "* использовать любую модель эмбеддинга документа.\n",
    "\n",
    "Используйте любую модель эмбеддингов по вашему вкусу. \n",
    "\n",
    "\n",
    "Оцените результаты классификации по стандартным мерам качества и проведите анализ ошибок. Для этого рекомендуем визуализировать матрицу ошибок (confusion matrix). "
   ]
  },
  {
   "cell_type": "markdown",
   "metadata": {},
   "source": [
    "Сначала просто используем doc2vec."
   ]
  },
  {
   "cell_type": "code",
   "execution_count": 62,
   "metadata": {},
   "outputs": [],
   "source": [
    "#переводим данные в gensim формат\n",
    "train_tagged = train.apply(\n",
    "    lambda x: TaggedDocument(words=x['text_norm'].split(), tags=[x.source]), axis=1)\n",
    "test_tagged = test.apply(\n",
    "    lambda x: TaggedDocument(words=x['text_norm'].split(), tags=[x.source]), axis=1)"
   ]
  },
  {
   "cell_type": "markdown",
   "metadata": {},
   "source": [
    "Модель Distributed Bag of Words"
   ]
  },
  {
   "cell_type": "code",
   "execution_count": 63,
   "metadata": {},
   "outputs": [],
   "source": [
    "#размер ветора 300, строим словарь, обучаем в 30 эпох, можно еще раз перемешать\n",
    "\n",
    "model_dbow = Doc2Vec(dm=0, vector_size=300)\n",
    "model_dbow.build_vocab([x for x in train_tagged.values])"
   ]
  },
  {
   "cell_type": "code",
   "execution_count": 64,
   "metadata": {},
   "outputs": [],
   "source": [
    "model_dbow.train(shuffle([x for x in train_tagged.values]), total_examples=len(train_tagged.values), epochs=30)"
   ]
  },
  {
   "cell_type": "code",
   "execution_count": 65,
   "metadata": {},
   "outputs": [],
   "source": [
    "#собствеено получаем вектора для обучения\n",
    "def vec_for_learning(model, tagged_docs):\n",
    "    sents = tagged_docs.values\n",
    "    targets, regressors = zip(*[(doc.tags[0], model.infer_vector(doc.words)) for doc in sents])\n",
    "    return targets, regressors"
   ]
  },
  {
   "cell_type": "code",
   "execution_count": 66,
   "metadata": {},
   "outputs": [],
   "source": [
    "y_train, X_train = vec_for_learning(model_dbow, train_tagged)\n",
    "y_test, X_test = vec_for_learning(model_dbow, test_tagged)"
   ]
  },
  {
   "cell_type": "code",
   "execution_count": 67,
   "metadata": {},
   "outputs": [],
   "source": [
    "clf = GradientBoostingClassifier()\n",
    "clf.fit(X_train, y_train)\n",
    "y_pred = clf.predict(X_test)"
   ]
  },
  {
   "cell_type": "code",
   "execution_count": 68,
   "metadata": {},
   "outputs": [
    {
     "name": "stdout",
     "output_type": "stream",
     "text": [
      "              precision    recall  f1-score   support\n",
      "\n",
      "     mchsgov       0.97      0.95      0.96       618\n",
      "         mil       0.98      0.98      0.98       630\n",
      "   mospolice       0.96      0.98      0.97       555\n",
      " russianpost       0.94      0.93      0.94       503\n",
      "\n",
      "   micro avg       0.96      0.96      0.96      2306\n",
      "   macro avg       0.96      0.96      0.96      2306\n",
      "weighted avg       0.96      0.96      0.96      2306\n",
      "\n",
      "\n",
      "Accuracy =  0.9622723330442324\n"
     ]
    }
   ],
   "source": [
    "evaluation(y_test, y_pred)"
   ]
  },
  {
   "cell_type": "code",
   "execution_count": 69,
   "metadata": {},
   "outputs": [
    {
     "data": {
      "image/png": "[encoded data removed]",
      "text/plain": [
       "<matplotlib.figure.Figure at 0x1c3b80f7a20>"
      ]
     },
     "metadata": {
      "needs_background": "light"
     },
     "output_type": "display_data"
    }
   ],
   "source": [
    "m = confusion_matrix(y_test, y_pred)\n",
    "\n",
    "labels = clf.classes_\n",
    "plt.figure(figsize = (10,10))\n",
    "sns.heatmap(data=m, annot=True, fmt=\"d\", cbar=False, xticklabels=labels, yticklabels=labels, cmap=\"PuBuGn\")\n",
    "plt.title(\"Confusion matrix\")\n",
    "plt.show()"
   ]
  },
  {
   "cell_type": "markdown",
   "metadata": {},
   "source": [
    "DBOW + GradientBoostingClassifier дали хорошие результаты, но на 0.01 меньше бейслайна по всем метрикам. Попробуем Distributed Memory (DM)."
   ]
  },
  {
   "cell_type": "code",
   "execution_count": 70,
   "metadata": {},
   "outputs": [],
   "source": [
    "model_dm = Doc2Vec(dm=1, dm_mean=1, vector_size=300)\n",
    "model_dm.build_vocab([x for x in train_tagged.values])"
   ]
  },
  {
   "cell_type": "code",
   "execution_count": 71,
   "metadata": {},
   "outputs": [],
   "source": [
    "model_dm.train(shuffle([x for x in train_tagged.values]), total_examples=len(train_tagged.values), epochs=30)"
   ]
  },
  {
   "cell_type": "code",
   "execution_count": 72,
   "metadata": {},
   "outputs": [],
   "source": [
    "y_train, X_train = vec_for_learning(model_dm, train_tagged)\n",
    "y_test, X_test = vec_for_learning(model_dm, test_tagged)"
   ]
  },
  {
   "cell_type": "code",
   "execution_count": 73,
   "metadata": {},
   "outputs": [],
   "source": [
    "clf = GradientBoostingClassifier()\n",
    "clf.fit(X_train, y_train)\n",
    "y_pred = clf.predict(X_test)"
   ]
  },
  {
   "cell_type": "code",
   "execution_count": 74,
   "metadata": {},
   "outputs": [
    {
     "name": "stdout",
     "output_type": "stream",
     "text": [
      "              precision    recall  f1-score   support\n",
      "\n",
      "     mchsgov       0.81      0.88      0.84       618\n",
      "         mil       0.89      0.82      0.85       630\n",
      "   mospolice       0.90      0.86      0.88       555\n",
      " russianpost       0.82      0.84      0.83       503\n",
      "\n",
      "   micro avg       0.85      0.85      0.85      2306\n",
      "   macro avg       0.85      0.85      0.85      2306\n",
      "weighted avg       0.85      0.85      0.85      2306\n",
      "\n",
      "\n",
      "Accuracy =  0.8516912402428447\n"
     ]
    }
   ],
   "source": [
    "evaluation(y_test, y_pred)"
   ]
  },
  {
   "cell_type": "code",
   "execution_count": 75,
   "metadata": {},
   "outputs": [
    {
     "data": {
      "image/png": "[encoded data removed]",
      "text/plain": [
       "<matplotlib.figure.Figure at 0x1c3af7de7f0>"
      ]
     },
     "metadata": {
      "needs_background": "light"
     },
     "output_type": "display_data"
    }
   ],
   "source": [
    "m = confusion_matrix(y_test, y_pred)\n",
    "\n",
    "labels = clf.classes_\n",
    "plt.figure(figsize = (10,10))\n",
    "sns.heatmap(data=m, annot=True, fmt=\"d\", cbar=False, xticklabels=labels, yticklabels=labels, cmap=\"PuBuGn\")\n",
    "plt.title(\"Confusion matrix\")\n",
    "plt.show()"
   ]
  },
  {
   "cell_type": "markdown",
   "metadata": {},
   "source": [
    "DM справился похуже, теперь попробуем скомбинировать эти методы."
   ]
  },
  {
   "cell_type": "code",
   "execution_count": 76,
   "metadata": {},
   "outputs": [],
   "source": [
    "new_model = ConcatenatedDoc2Vec([model_dbow, model_dm])"
   ]
  },
  {
   "cell_type": "code",
   "execution_count": 77,
   "metadata": {},
   "outputs": [],
   "source": [
    "y_train, X_train = vec_for_learning(new_model, train_tagged)\n",
    "y_test, X_test = vec_for_learning(new_model, test_tagged)"
   ]
  },
  {
   "cell_type": "code",
   "execution_count": 78,
   "metadata": {},
   "outputs": [],
   "source": [
    "clf = GradientBoostingClassifier()\n",
    "clf.fit(X_train, y_train)\n",
    "y_pred = clf.predict(X_test)"
   ]
  },
  {
   "cell_type": "code",
   "execution_count": 79,
   "metadata": {},
   "outputs": [
    {
     "name": "stdout",
     "output_type": "stream",
     "text": [
      "              precision    recall  f1-score   support\n",
      "\n",
      "     mchsgov       0.97      0.95      0.96       618\n",
      "         mil       0.98      0.98      0.98       630\n",
      "   mospolice       0.96      0.97      0.96       555\n",
      " russianpost       0.93      0.94      0.93       503\n",
      "\n",
      "   micro avg       0.96      0.96      0.96      2306\n",
      "   macro avg       0.96      0.96      0.96      2306\n",
      "weighted avg       0.96      0.96      0.96      2306\n",
      "\n",
      "\n",
      "Accuracy =  0.9605377276669558\n"
     ]
    }
   ],
   "source": [
    "evaluation(y_test, y_pred)"
   ]
  },
  {
   "cell_type": "markdown",
   "metadata": {},
   "source": [
    "Результаты варьируются на +-0.01 по сравнению с просто DBOW."
   ]
  },
  {
   "cell_type": "markdown",
   "metadata": {},
   "source": [
    "Теперь попробуем использовать word2vec. Сначала с усреднением эмбеддингов входящих в текст слов. source: http://nadbordrozd.github.io/blog/2016/05/20/text-classification-with-word2vec/"
   ]
  },
  {
   "cell_type": "code",
   "execution_count": 80,
   "metadata": {},
   "outputs": [
    {
     "name": "stderr",
     "output_type": "stream",
     "text": [
      "c:\\python35\\lib\\site-packages\\ipykernel_launcher.py:2: DeprecationWarning: Call to deprecated `syn0` (Attribute will be removed in 4.0.0, use self.vectors instead).\n",
      "  \n"
     ]
    }
   ],
   "source": [
    "model = Word2Vec(train.text_norm, size=300)\n",
    "w2v = dict(zip(model.wv.index2word, model.wv.syn0))"
   ]
  },
  {
   "cell_type": "code",
   "execution_count": 81,
   "metadata": {},
   "outputs": [],
   "source": [
    "class MeanEmbeddingVectorizer(object):\n",
    "    def __init__(self, word2vec):\n",
    "        self.word2vec = word2vec\n",
    "\n",
    "    def fit(self, X, y):\n",
    "        return self\n",
    "\n",
    "    def transform(self, X):\n",
    "        return np.array([\n",
    "            np.mean([self.word2vec[w] for w in words if w in self.word2vec], axis = 0)\n",
    "            for words in X\n",
    "        ])"
   ]
  },
  {
   "cell_type": "code",
   "execution_count": 82,
   "metadata": {},
   "outputs": [
    {
     "data": {
      "text/plain": [
       "Pipeline(memory=None,\n",
       "     steps=[('word2vec vectorizer', <__main__.MeanEmbeddingVectorizer object at 0x000001C3B827B898>), ('clasifier', GradientBoostingClassifier(criterion='friedman_mse', init=None,\n",
       "              learning_rate=0.1, loss='deviance', max_depth=3,\n",
       "              max_features=None, max_leaf_nodes=None,\n",
       "        ...    subsample=1.0, tol=0.0001, validation_fraction=0.1,\n",
       "              verbose=0, warm_start=False))])"
      ]
     },
     "execution_count": 82,
     "metadata": {},
     "output_type": "execute_result"
    }
   ],
   "source": [
    "clf = Pipeline([\n",
    "    (\"word2vec vectorizer\", MeanEmbeddingVectorizer(w2v)),\n",
    "    (\"clasifier\", GradientBoostingClassifier())])\n",
    "\n",
    "clf.fit(train.text_norm, train.source)"
   ]
  },
  {
   "cell_type": "code",
   "execution_count": 83,
   "metadata": {},
   "outputs": [],
   "source": [
    "predictions = clf.predict(test.text_norm)"
   ]
  },
  {
   "cell_type": "code",
   "execution_count": 84,
   "metadata": {},
   "outputs": [
    {
     "name": "stdout",
     "output_type": "stream",
     "text": [
      "              precision    recall  f1-score   support\n",
      "\n",
      "     mchsgov       0.94      0.87      0.91       618\n",
      "         mil       0.90      0.90      0.90       630\n",
      "   mospolice       0.90      0.91      0.91       555\n",
      " russianpost       0.79      0.84      0.81       503\n",
      "\n",
      "   micro avg       0.89      0.89      0.89      2306\n",
      "   macro avg       0.88      0.88      0.88      2306\n",
      "weighted avg       0.89      0.89      0.89      2306\n",
      "\n",
      "\n",
      "Accuracy =  0.8850823937554206\n"
     ]
    }
   ],
   "source": [
    "evaluation(test.source, predictions)"
   ]
  },
  {
   "cell_type": "code",
   "execution_count": 85,
   "metadata": {},
   "outputs": [
    {
     "data": {
      "image/png": "[encoded data removed]",
      "text/plain": [
       "<matplotlib.figure.Figure at 0x1c3af1434a8>"
      ]
     },
     "metadata": {
      "needs_background": "light"
     },
     "output_type": "display_data"
    }
   ],
   "source": [
    "m = confusion_matrix(test.source, predictions)\n",
    "\n",
    "labels = clf.classes_\n",
    "plt.figure(figsize = (10,10))\n",
    "sns.heatmap(data=m, annot=True, fmt=\"d\", cbar=False, xticklabels=labels, yticklabels=labels, cmap=\"PuBuGn\")\n",
    "plt.title(\"Confusion matrix\")\n",
    "plt.show()"
   ]
  },
  {
   "cell_type": "markdown",
   "metadata": {},
   "source": [
    "Хуже, чем бейслайн и док2век, попробуем с tf-if взвешиванием."
   ]
  },
  {
   "cell_type": "code",
   "execution_count": 86,
   "metadata": {},
   "outputs": [],
   "source": [
    "class TfidfEmbeddingVectorizer(object):\n",
    "    def __init__(self, word2vec):\n",
    "        self.word2vec = word2vec\n",
    "        self.word2weight = None\n",
    "\n",
    "    def fit(self, X, y):\n",
    "        tfidf = TfidfVectorizer(analyzer=lambda x: x)\n",
    "        tfidf.fit(X)\n",
    "        max_idf = max(tfidf.idf_)\n",
    "        self.word2weight = defaultdict(\n",
    "            lambda: max_idf,\n",
    "            [(w, tfidf.idf_[i]) for w, i in tfidf.vocabulary_.items()])\n",
    "\n",
    "        return self\n",
    "\n",
    "    def transform(self, X):\n",
    "        return np.array([\n",
    "                np.mean([self.word2vec[w] * self.word2weight[w]\n",
    "                         for w in words if w in self.word2vec], axis=0)\n",
    "                for words in X\n",
    "            ])"
   ]
  },
  {
   "cell_type": "code",
   "execution_count": 87,
   "metadata": {},
   "outputs": [
    {
     "data": {
      "text/plain": [
       "Pipeline(memory=None,\n",
       "     steps=[('word2vec vectorizer', <__main__.TfidfEmbeddingVectorizer object at 0x000001C3B80EC048>), ('clasifier', GradientBoostingClassifier(criterion='friedman_mse', init=None,\n",
       "              learning_rate=0.1, loss='deviance', max_depth=3,\n",
       "              max_features=None, max_leaf_nodes=None,\n",
       "       ...    subsample=1.0, tol=0.0001, validation_fraction=0.1,\n",
       "              verbose=0, warm_start=False))])"
      ]
     },
     "execution_count": 87,
     "metadata": {},
     "output_type": "execute_result"
    }
   ],
   "source": [
    "clf = Pipeline([\n",
    "    (\"word2vec vectorizer\", TfidfEmbeddingVectorizer(w2v)),\n",
    "    (\"clasifier\", GradientBoostingClassifier())])\n",
    "\n",
    "clf.fit(train.text_norm, train.source)"
   ]
  },
  {
   "cell_type": "code",
   "execution_count": 88,
   "metadata": {},
   "outputs": [],
   "source": [
    "predictions = clf.predict(test.text_norm)"
   ]
  },
  {
   "cell_type": "code",
   "execution_count": 89,
   "metadata": {},
   "outputs": [
    {
     "name": "stdout",
     "output_type": "stream",
     "text": [
      "              precision    recall  f1-score   support\n",
      "\n",
      "     mchsgov       0.94      0.87      0.90       618\n",
      "         mil       0.89      0.89      0.89       630\n",
      "   mospolice       0.88      0.89      0.89       555\n",
      " russianpost       0.77      0.82      0.79       503\n",
      "\n",
      "   micro avg       0.87      0.87      0.87      2306\n",
      "   macro avg       0.87      0.87      0.87      2306\n",
      "weighted avg       0.87      0.87      0.87      2306\n",
      "\n",
      "\n",
      "Accuracy =  0.870338248048569\n"
     ]
    }
   ],
   "source": [
    "evaluation(test.source, predictions)"
   ]
  },
  {
   "cell_type": "code",
   "execution_count": 90,
   "metadata": {},
   "outputs": [
    {
     "data": {
      "image/png": "[encoded data removed]",
      "text/plain": [
       "<matplotlib.figure.Figure at 0x1c3af1473c8>"
      ]
     },
     "metadata": {
      "needs_background": "light"
     },
     "output_type": "display_data"
    }
   ],
   "source": [
    "m = confusion_matrix(test.source, predictions)\n",
    "\n",
    "labels = clf.classes_\n",
    "plt.figure(figsize = (10,10))\n",
    "sns.heatmap(data=m, annot=True, fmt=\"d\", cbar=False, xticklabels=labels, yticklabels=labels, cmap=\"PuBuGn\")\n",
    "plt.title(\"Confusion matrix\")\n",
    "plt.show()"
   ]
  },
  {
   "cell_type": "markdown",
   "metadata": {},
   "source": [
    "Tf-idf особо не помог."
   ]
  },
  {
   "cell_type": "markdown",
   "metadata": {},
   "source": [
    "Теперь построим матрицу вручную."
   ]
  },
  {
   "cell_type": "code",
   "execution_count": 91,
   "metadata": {},
   "outputs": [],
   "source": [
    "#делаем словари индекс-слово, слово-индекс, получаем значения скипграм, получаем разреженную матрицу\n",
    "\n",
    "def build_index(texts):\n",
    "    word2index = dict()\n",
    "    word_counts = Counter()\n",
    "    for text in texts:\n",
    "        for word in text:\n",
    "            word_counts[word] += 1\n",
    "            if word not in word2index:\n",
    "                word2index[word] = len(word2index)\n",
    "    return {index:word for word, index in word2index.items()}, word2index\n",
    "\n",
    "\n",
    "def build_skipgram_counts(texts, window=2):\n",
    "    skipgram_counts = Counter()\n",
    "    for text in texts:\n",
    "        for id_fw, fw in enumerate(text):\n",
    "            id_cw_min = max(0, id_fw - window)\n",
    "            id_cw_max = min(len(text) - 1, id_fw + window)\n",
    "            id_cws = [i for i in range(id_cw_min, id_cw_max + 1) if i != id_fw]\n",
    "            for id_cw in id_cws:\n",
    "                skipgram = (text[id_fw], text[id_cw])\n",
    "                skipgram_counts[skipgram] += 1   \n",
    "    return skipgram_counts\n",
    "\n",
    "def build_count_matrix(texts, skipgram_counts, word2index):\n",
    "    row_indices = []\n",
    "    col_indices = []\n",
    "    dat_values = []\n",
    "    for (word_1, word_2), sg_count in skipgram_counts.items():\n",
    "        row_indices.append(word2index[word_1])\n",
    "        col_indices.append(word2index[word_2])\n",
    "        dat_values.append(sg_count)\n",
    "    return sparse.csr_matrix((dat_values, (row_indices, col_indices)))"
   ]
  },
  {
   "cell_type": "code",
   "execution_count": 92,
   "metadata": {},
   "outputs": [],
   "source": [
    "texts = [text.split() for text in df.text_norm]\n",
    "\n",
    "index2word, word2index = build_index(texts)\n",
    "skipgram_counts = build_skipgram_counts(texts)\n",
    "count_matrix = build_count_matrix(texts, skipgram_counts, word2index)"
   ]
  },
  {
   "cell_type": "code",
   "execution_count": 93,
   "metadata": {},
   "outputs": [],
   "source": [
    "#достаем вектор из матрицы\n",
    "def word_vector(word, matrix, word2index):\n",
    "    index = word2index[word]\n",
    "    if isinstance(matrix, sparse.csr_matrix):\n",
    "        word_ = matrix.getrow(index)\n",
    "    else:\n",
    "        word_ = matrix[index:index + 1, :]\n",
    "    return word_"
   ]
  },
  {
   "cell_type": "code",
   "execution_count": 94,
   "metadata": {},
   "outputs": [],
   "source": [
    "#применяем svd для снижения размерности\n",
    "def factorize_matrix(matrix, method='svd', k=300):\n",
    "    if method == 'svd':\n",
    "        try:\n",
    "            u, s, vh = np.linalg.svd(matrix)\n",
    "            return u\n",
    "        except np.linalg.LinAlgError:\n",
    "            _matrix = matrix.asfptype()\n",
    "            u, s, vt = sparse.linalg.svds(_matrix, k=k)\n",
    "            return u\n",
    "    else:\n",
    "        raise NotImplementedError"
   ]
  },
  {
   "cell_type": "code",
   "execution_count": 95,
   "metadata": {},
   "outputs": [],
   "source": [
    "count_matrix = factorize_matrix(count_matrix)"
   ]
  },
  {
   "cell_type": "code",
   "execution_count": 96,
   "metadata": {},
   "outputs": [],
   "source": [
    "#получаем непосредственно вектора для обучения\n",
    "def get_matrix(sent, matrix, word2index):\n",
    "    vector = np.zeros(shape=matrix.shape[1])\n",
    "    counter = 0\n",
    "    for word in sent:\n",
    "        if word in word2index: \n",
    "            try:\n",
    "                vector = np.add(vector, word_vector(word, matrix, word2index))\n",
    "                counter += 1\n",
    "            except KeyError:\n",
    "                pass\n",
    "    if counter == 0:\n",
    "        return vector.squeeze()\n",
    "    return (vector / counter).squeeze()"
   ]
  },
  {
   "cell_type": "code",
   "execution_count": 97,
   "metadata": {},
   "outputs": [],
   "source": [
    "train_vectors = [get_matrix(text.split(), count_matrix, word2index) for text in train.text_norm]\n",
    "test_vectors = [get_matrix(text.split(), count_matrix, word2index) for text in test.text_norm]"
   ]
  },
  {
   "cell_type": "code",
   "execution_count": 98,
   "metadata": {},
   "outputs": [],
   "source": [
    "clf = GradientBoostingClassifier()\n",
    "clf.fit(train_vectors, train.source)\n",
    "predictions = clf.predict(test_vectors)"
   ]
  },
  {
   "cell_type": "code",
   "execution_count": 99,
   "metadata": {},
   "outputs": [
    {
     "name": "stdout",
     "output_type": "stream",
     "text": [
      "              precision    recall  f1-score   support\n",
      "\n",
      "     mchsgov       0.97      0.93      0.95       618\n",
      "         mil       0.95      0.97      0.96       630\n",
      "   mospolice       0.95      0.97      0.96       555\n",
      " russianpost       0.92      0.93      0.93       503\n",
      "\n",
      "   micro avg       0.95      0.95      0.95      2306\n",
      "   macro avg       0.95      0.95      0.95      2306\n",
      "weighted avg       0.95      0.95      0.95      2306\n",
      "\n",
      "\n",
      "Accuracy =  0.9509973980919341\n"
     ]
    }
   ],
   "source": [
    "evaluation(test.source, predictions)"
   ]
  },
  {
   "cell_type": "code",
   "execution_count": 100,
   "metadata": {},
   "outputs": [
    {
     "data": {
      "image/png": "[encoded data removed]",
      "text/plain": [
       "<matplotlib.figure.Figure at 0x1c39597b358>"
      ]
     },
     "metadata": {
      "needs_background": "light"
     },
     "output_type": "display_data"
    }
   ],
   "source": [
    "m = confusion_matrix(test.source, predictions)\n",
    "\n",
    "labels = clf.classes_\n",
    "plt.figure(figsize = (10,10))\n",
    "sns.heatmap(data=m, annot=True, fmt=\"d\", cbar=False, xticklabels=labels, yticklabels=labels, cmap=\"PuBuGn\")\n",
    "plt.title(\"Confusion matrix\")\n",
    "plt.show()"
   ]
  },
  {
   "cell_type": "markdown",
   "metadata": {},
   "source": [
    "Результаты превзошли вордтувек, но не превзошли бейслайн."
   ]
  },
  {
   "cell_type": "markdown",
   "metadata": {
    "colab_type": "text",
    "id": "uyVQ5Gm7Qzcz"
   },
   "source": [
    "## Задание 8 [2 балла]. fastText\n",
    "\n",
    "Используйте ```fastText``` в режиме классификации. Оцените результаты классификации по стандартным мерам качества и проведите анализ ошибок. Для этого рекомендуем визуализировать матрицу ошибок (confusion matrix). "
   ]
  },
  {
   "cell_type": "code",
   "execution_count": 7,
   "metadata": {},
   "outputs": [
    {
     "name": "stderr",
     "output_type": "stream",
     "text": [
      "c:\\python35\\lib\\site-packages\\ipykernel_launcher.py:2: SettingWithCopyWarning: \n",
      "A value is trying to be set on a copy of a slice from a DataFrame.\n",
      "Try using .loc[row_indexer,col_indexer] = value instead\n",
      "\n",
      "See the caveats in the documentation: http://pandas.pydata.org/pandas-docs/stable/indexing.html#indexing-view-versus-copy\n",
      "  \n"
     ]
    },
    {
     "data": {
      "text/html": [
       "<div>\n",
       "<style>\n",
       "    .dataframe thead tr:only-child th {\n",
       "        text-align: right;\n",
       "    }\n",
       "\n",
       "    .dataframe thead th {\n",
       "        text-align: left;\n",
       "    }\n",
       "\n",
       "    .dataframe tbody tr th {\n",
       "        vertical-align: top;\n",
       "    }\n",
       "</style>\n",
       "<table border=\"1\" class=\"dataframe\">\n",
       "  <thead>\n",
       "    <tr style=\"text-align: right;\">\n",
       "      <th></th>\n",
       "      <th>source</th>\n",
       "      <th>text_norm</th>\n",
       "    </tr>\n",
       "  </thead>\n",
       "  <tbody>\n",
       "    <tr>\n",
       "      <th>0</th>\n",
       "      <td>__label__mil</td>\n",
       "      <td>начальник главный оперативный управление генер...</td>\n",
       "    </tr>\n",
       "    <tr>\n",
       "      <th>1</th>\n",
       "      <td>__label__mil</td>\n",
       "      <td>артиллерийский подразделение общевойсковой объ...</td>\n",
       "    </tr>\n",
       "    <tr>\n",
       "      <th>2</th>\n",
       "      <td>__label__mil</td>\n",
       "      <td>подразделение морской пехота каспийский флотил...</td>\n",
       "    </tr>\n",
       "    <tr>\n",
       "      <th>3</th>\n",
       "      <td>__label__mil</td>\n",
       "      <td>команда всеармейский этап конкурс арми-2018 та...</td>\n",
       "    </tr>\n",
       "    <tr>\n",
       "      <th>4</th>\n",
       "      <td>__label__mil</td>\n",
       "      <td>большой учебно-методический командирский сбор ...</td>\n",
       "    </tr>\n",
       "  </tbody>\n",
       "</table>\n",
       "</div>"
      ],
      "text/plain": [
       "         source                                          text_norm\n",
       "0  __label__mil  начальник главный оперативный управление генер...\n",
       "1  __label__mil  артиллерийский подразделение общевойсковой объ...\n",
       "2  __label__mil  подразделение морской пехота каспийский флотил...\n",
       "3  __label__mil  команда всеармейский этап конкурс арми-2018 та...\n",
       "4  __label__mil  большой учебно-методический командирский сбор ..."
      ]
     },
     "execution_count": 7,
     "metadata": {},
     "output_type": "execute_result"
    }
   ],
   "source": [
    "ftdata = df[['source', 'text_norm']]\n",
    "ftdata['source'] = ['__label__' + s for s in ftdata['source']]\n",
    "ftdata.head()"
   ]
  },
  {
   "cell_type": "code",
   "execution_count": 8,
   "metadata": {},
   "outputs": [],
   "source": [
    "ftdata = shuffle(ftdata)\n",
    "\n",
    "fttrain, fttest = train_test_split(ftdata, test_size=0.2)\n",
    "fttrain.tail()\n",
    "\n",
    "fttrain = fttrain.to_csv('fttrain.txt', encoding = 'utf-8')\n",
    "fttest = fttest.to_csv('fttest.txt', encoding = 'utf-8')"
   ]
  },
  {
   "cell_type": "code",
   "execution_count": 9,
   "metadata": {},
   "outputs": [],
   "source": [
    "classifier = ft.supervised('fttrain.txt', 'model', encoding = 'utf-8')"
   ]
  },
  {
   "cell_type": "code",
   "execution_count": null,
   "metadata": {},
   "outputs": [],
   "source": [
    "from gensim.models.wrappers import FastText \n",
    "\n",
    "model = FastText.load_fasttext_format('model.bin', encoding='utf-8')"
   ]
  },
  {
   "cell_type": "code",
   "execution_count": 22,
   "metadata": {},
   "outputs": [],
   "source": [
    "#result = model.test('fttest.txt')\n",
    "result = classifier.test('fttest.txt')"
   ]
  },
  {
   "cell_type": "code",
   "execution_count": 23,
   "metadata": {},
   "outputs": [
    {
     "name": "stdout",
     "output_type": "stream",
     "text": [
      "P@1: nan\n",
      "R@1: nan\n",
      "Number of examples: 0\n"
     ]
    }
   ],
   "source": [
    "print ('P@1:', result.precision)\n",
    "print ('R@1:', result.recall)\n",
    "print ('Number of examples:', result.nexamples)"
   ]
  },
  {
   "cell_type": "code",
   "execution_count": null,
   "metadata": {},
   "outputs": [],
   "source": [
    "vectors = KeyedVectors.load_word2vec_format('model.bin', encoding = 'utf-8')"
   ]
  },
  {
   "cell_type": "code",
   "execution_count": null,
   "metadata": {},
   "outputs": [],
   "source": [
    "def get_vector(sent, model):\n",
    "    vector = np.zeros(shape=model.vector_size)\n",
    "    counter = 0\n",
    "    for word in sent:\n",
    "        if word in model.vocab: \n",
    "            try:\n",
    "                vector = np.add(vector, model[word])\n",
    "                counter += 1\n",
    "            except KeyError:\n",
    "                pass\n",
    "    if counter == 0:\n",
    "        return vector\n",
    "    return vector / counter"
   ]
  },
  {
   "cell_type": "code",
   "execution_count": null,
   "metadata": {},
   "outputs": [],
   "source": [
    "train_vectors = [get_vector(text.split(' '), vectors) for text in train.text_norm]\n",
    "test_vectors = [get_vector(text.split(' '), vectors) for text in test.text_norm]"
   ]
  },
  {
   "cell_type": "code",
   "execution_count": null,
   "metadata": {},
   "outputs": [],
   "source": [
    "clf = GradientBoostingClassifier()\n",
    "clf.fit(train_vectors, train.source)\n",
    "predictions = clf.predict(test_vectors)"
   ]
  },
  {
   "cell_type": "code",
   "execution_count": null,
   "metadata": {},
   "outputs": [],
   "source": [
    "evaluation(test.source, predictions)"
   ]
  },
  {
   "cell_type": "code",
   "execution_count": null,
   "metadata": {},
   "outputs": [],
   "source": [
    "m = confusion_matrix(test.source, predictions)\n",
    "\n",
    "labels = clf.classes_\n",
    "plt.figure(figsize = (10,10))\n",
    "sns.heatmap(data=m, annot=True, fmt=\"d\", cbar=False, xticklabels=labels, yticklabels=labels, cmap=\"PuBuGn\")\n",
    "plt.title(\"Confusion matrix\")\n",
    "plt.show()"
   ]
  },
  {
   "cell_type": "markdown",
   "metadata": {
    "colab_type": "text",
    "id": "_8fKqCD6Q5tW"
   },
   "source": [
    "## Конец\n",
    "Подведите итоги и проведите сравнение всех использованных методов. Какой из них показался вам лучше и почему?"
   ]
  },
  {
   "cell_type": "markdown",
   "metadata": {},
   "source": [
    "Для решения задачи классификации на предоставленных данных оказалось достаточно бейслайнового решения. Даже подход, основанный на правилах уже дал приемлемый результат. Все дальнейшие методы не улучшали показатели, а если и получались примерно равными бейслайну, то только в результате многочисленных экспериментов. Хотя в простом пайплайне градиентный бустинг давал результаты чуть хуже, чем стохастический градиент, первый оказался намного более эффективен в тех методах, где значения метрик получались сначала очень низкими. Также удивили показатели doc2vec и то, что тф-идф взвешивание не помогло при использовании word2vec с усреднением."
   ]
  }
 ],
 "metadata": {
  "colab": {
   "collapsed_sections": [],
   "name": "Copy of HW1.ipynb",
   "provenance": [],
   "version": "0.3.2"
  },
  "kernelspec": {
   "display_name": "Python 3",
   "language": "python",
   "name": "python3"
  },
  "language_info": {
   "codemirror_mode": {
    "name": "ipython",
    "version": 3
   },
   "file_extension": ".py",
   "mimetype": "text/x-python",
   "name": "python",
   "nbconvert_exporter": "python",
   "pygments_lexer": "ipython3",
   "version": "3.5.2"
  }
 },
 "nbformat": 4,
 "nbformat_minor": 1
}
